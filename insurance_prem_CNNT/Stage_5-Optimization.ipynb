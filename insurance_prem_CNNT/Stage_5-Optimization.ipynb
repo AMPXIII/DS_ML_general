{
 "cells": [
  {
   "cell_type": "markdown",
   "metadata": {},
   "source": [
    "## 0. Import necessary modules"
   ]
  },
  {
   "cell_type": "code",
   "execution_count": 35,
   "metadata": {},
   "outputs": [],
   "source": [
    "import warnings\n",
    "warnings.filterwarnings('ignore')"
   ]
  },
  {
   "cell_type": "code",
   "execution_count": 36,
   "metadata": {},
   "outputs": [],
   "source": [
    "# Data Manipulation\n",
    "import numpy as np\n",
    "import pandas as pd\n",
    "import pickle\n",
    "\n",
    "# Visualization\n",
    "import matplotlib.pyplot as plt\n",
    "import seaborn as sns\n",
    "\n",
    "# Machine Learning (common)\n",
    "from sklearn.externals import joblib\n",
    "from keras.models import load_model\n",
    "\n",
    "import random"
   ]
  },
  {
   "cell_type": "code",
   "execution_count": 37,
   "metadata": {},
   "outputs": [],
   "source": [
    "pd.set_option('display.max_columns', 60)"
   ]
  },
  {
   "cell_type": "code",
   "execution_count": 38,
   "metadata": {},
   "outputs": [],
   "source": [
    "%matplotlib inline"
   ]
  },
  {
   "cell_type": "markdown",
   "metadata": {},
   "source": [
    "## 1. Load data"
   ]
  },
  {
   "cell_type": "code",
   "execution_count": 39,
   "metadata": {},
   "outputs": [],
   "source": [
    "# Local paths to data\n",
    "proc_data_PATH = './processed_data/'\n",
    "models_PATH = './models/'"
   ]
  },
  {
   "cell_type": "code",
   "execution_count": 74,
   "metadata": {},
   "outputs": [],
   "source": [
    "with open(proc_data_PATH + 'proc_dataframes_no_dummies.pkl', 'rb') as f:\n",
    "    db_20k_imp_nd,db_10k_imp_nd = pickle.load(f)"
   ]
  },
  {
   "cell_type": "code",
   "execution_count": 40,
   "metadata": {},
   "outputs": [],
   "source": [
    "with open(proc_data_PATH + 'proc_dataframes.pkl', 'rb') as f:\n",
    "    db_20k_final,db_10k_final = pickle.load(f)"
   ]
  },
  {
   "cell_type": "code",
   "execution_count": 41,
   "metadata": {},
   "outputs": [],
   "source": [
    "with open(proc_data_PATH + 'train_test_sets.pkl', 'rb') as f:\n",
    "    X_train_f,y_train_f,X_test_f,y_test_f = pickle.load(f)"
   ]
  },
  {
   "cell_type": "code",
   "execution_count": 42,
   "metadata": {},
   "outputs": [],
   "source": [
    "with open(proc_data_PATH + 'train_test_sets_logged.pkl', 'rb') as f:\n",
    "    X_train_f_log,y_train_f_log,X_test_f_log,y_test_f_log = pickle.load(f)"
   ]
  },
  {
   "cell_type": "markdown",
   "metadata": {},
   "source": [
    "First we need to take logs of the continuous features for DB_10000 like we did for DB_20000"
   ]
  },
  {
   "cell_type": "code",
   "execution_count": 43,
   "metadata": {},
   "outputs": [],
   "source": [
    "cont_ft = ['Living Area (m^2)','House Price','Income','House Insurance','Pension Plan','Credit','Savings']\n",
    "db_10k_final_log = db_10k_final.copy()\n",
    "for column in cont_ft:\n",
    "    db_10k_final_log[column] = db_10k_final[column].apply(lambda x: np.log(x) if x > 0 else 0)"
   ]
  },
  {
   "cell_type": "markdown",
   "metadata": {},
   "source": [
    "## 2. Load models"
   ]
  },
  {
   "cell_type": "code",
   "execution_count": 44,
   "metadata": {},
   "outputs": [],
   "source": [
    "# Standard Scaler\n",
    "sc = joblib.load(models_PATH + 'standard_scaler.joblib') "
   ]
  },
  {
   "cell_type": "code",
   "execution_count": 45,
   "metadata": {},
   "outputs": [],
   "source": [
    "lr_best = joblib.load(models_PATH + 'lr_best.joblib') \n",
    "svc_best = joblib.load(models_PATH + 'svc_best.joblib') \n",
    "rf_best = joblib.load(models_PATH + 'rf_best.joblib')\n",
    "basic_xgb = joblib.load(models_PATH + 'basic_xgb.joblib')\n",
    "nn_clf = load_model(models_PATH + 'nn_clf_log_std.h5')\n",
    "\n",
    "lr_chosen = joblib.load(models_PATH + 'lr_chosen.joblib') "
   ]
  },
  {
   "cell_type": "markdown",
   "metadata": {},
   "source": [
    "## 3. Revenue from already contacted clients\n",
    "\n",
    "Dataset DB_20000 contains data from 20000 clients who where previously contacted, including the premium they were offered and wether they bought it or not. We will first compute what revenue was obtained from them and use it as a benchmark for the results of our optimized predictive models."
   ]
  },
  {
   "cell_type": "code",
   "execution_count": 46,
   "metadata": {},
   "outputs": [
    {
     "name": "stdout",
     "output_type": "stream",
     "text": [
      "Revenue from already contacted customers (20000 people):  24082.4  monetary units\n",
      "Average revenue per customer (considering all 20000):  1.20412  monetary units/customer\n",
      "Average revenue per customer (considering 1715 buyers):  14.042215743440234  monetary units/customer\n"
     ]
    }
   ],
   "source": [
    "rev_20k = db_20k_final[db_20k_final['Sales'] == 1]['Premium Offered'].sum()\n",
    "number_of_sales = db_20k_final[db_20k_final['Sales'] == 1]['Premium Offered'].count()\n",
    "mean_rev_20k = rev_20k / 20000\n",
    "mean_rev_20k_positive = rev_20k / number_of_sales\n",
    "\n",
    "print('Revenue from already contacted customers (20000 people): ',rev_20k, ' monetary units')\n",
    "print('Average revenue per customer (considering all 20000): ',mean_rev_20k, ' monetary units/customer')\n",
    "print('Average revenue per customer (considering ' + str(number_of_sales) + ' buyers): ',mean_rev_20k_positive, ' monetary units/customer')"
   ]
  },
  {
   "cell_type": "markdown",
   "metadata": {},
   "source": [
    "- There were 1715 buyers in DB_20000 datasets.\n",
    "- Given the premiums they bought, a revenue of 24082.5 monetary units was obtained\n",
    "- That implies an average revenue per customer of 14.04 monetary units"
   ]
  },
  {
   "cell_type": "code",
   "execution_count": 47,
   "metadata": {},
   "outputs": [
    {
     "data": {
      "text/plain": [
       "14.50    924\n",
       "11.12    615\n",
       "21.85    176\n",
       "Name: Premium Offered, dtype: int64"
      ]
     },
     "execution_count": 47,
     "metadata": {},
     "output_type": "execute_result"
    }
   ],
   "source": [
    "db_20k_final[db_20k_final['Sales'] == 1]['Premium Offered'].value_counts()"
   ]
  },
  {
   "cell_type": "markdown",
   "metadata": {},
   "source": [
    "## 3. Evaluate models on DB_10000\n",
    "\n",
    "We will consider two cases:\n",
    "- Assigning random premium values to each customer to see what kind of revenue could be obtained this way\n",
    "- Optimizing the premium for each individual client, that is, looking for the highest possible premium value we can offer them so they are still willing to buy (the willingness to buy needs to be predefined by imposing a probability threshold to the predicitive models)."
   ]
  },
  {
   "cell_type": "markdown",
   "metadata": {},
   "source": [
    "#### Probability Threshold for Positive Sale\n",
    "We will take a probability over 0.5 output by our models as the threshold over wiche we get a sale."
   ]
  },
  {
   "cell_type": "code",
   "execution_count": 48,
   "metadata": {},
   "outputs": [],
   "source": [
    "min_threshold = 0.5"
   ]
  },
  {
   "cell_type": "code",
   "execution_count": 49,
   "metadata": {},
   "outputs": [],
   "source": [
    "def revenue_results(prems):\n",
    "    rev = sum(prems)\n",
    "    number_of_sales = len(prems)\n",
    "    mean_rev = rev / 10000\n",
    "    mean_rev_positive = rev / number_of_sales\n",
    "    \n",
    "    print('Revenue from already contacted customers (10000 people): ',rev, ' monetary units')\n",
    "    print('Average revenue per customer (considering all 10000): ',mean_rev, ' monetary units/customer')\n",
    "    print('Average revenue per customer (considering ' + str(number_of_sales) + ' buyers): ',mean_rev_positive, ' monetary units/customer')"
   ]
  },
  {
   "cell_type": "markdown",
   "metadata": {},
   "source": [
    "#### Opmization range\n",
    "\n",
    "We will try premium values from 1 monetary unit to 200 monetary units, that is, much lower and much much higher than what is proposed, to see how far the models can push this variable and still get a decent probability of positive sale.\n",
    "\n",
    "These limits (specially the upper one) must be regarded with care, since our models are not perfect and they behave erratically sometimes when extrapolating to new regions."
   ]
  },
  {
   "cell_type": "code",
   "execution_count": 55,
   "metadata": {},
   "outputs": [],
   "source": [
    "def prem2rev(data,model,min_threshold,sc=None,random_rep=100):\n",
    "    ''''''\n",
    "    # Random Premium\n",
    "    # Initialize the column Premium Offered\n",
    "    data['Premium Offered'] = 33\n",
    "    \n",
    "    rand_revs = []\n",
    "    for i in range(random_rep):\n",
    "        rand_premium = [random.choice(list(np.linspace(1,200,199))) for i in range(data.shape[0])]\n",
    "        data['Premium Offered'] = rand_premium\n",
    "        # Apply scaler if needed\n",
    "        if sc is not None:\n",
    "            data_array = sc.transform(data)\n",
    "        else:\n",
    "            data_array = data.values\n",
    "        probas = model.predict_proba(data_array)[:,1]\n",
    "\n",
    "        rand_rev = 0\n",
    "        for prem,proba in zip(rand_premium,list(probas)):\n",
    "            if proba > min_threshold:\n",
    "                rand_rev += prem\n",
    "\n",
    "        rand_revs.append(rand_rev)\n",
    "        \n",
    "    # Optimized Premium\n",
    "    dict_prem_lr = {}   \n",
    "    \n",
    "    for premium in np.linspace(1,200,199):\n",
    "        data['Premium Offered'] = premium\n",
    "        # Apply scaler if needed\n",
    "        if sc is not None:\n",
    "            data_array = sc.transform(data)\n",
    "        else:\n",
    "            data_array = data.values\n",
    "        probas = model.predict_proba(data_array)\n",
    "        dict_prem_lr['Prem_' + str(premium)] = list(probas[:,1])\n",
    "    \n",
    "    prem_lr = pd.DataFrame(data=dict_prem_lr)\n",
    "    c2c = prem_lr[prem_lr['Prem_1.0'] > min_threshold]\n",
    "    \n",
    "    opt_clients = []\n",
    "    opt_premiums = []\n",
    "    for idx, row in c2c.iterrows():\n",
    "        m = row > min_threshold\n",
    "        opt_clients.append(idx)\n",
    "        opt_premiums.append(float(row.loc[m].index.tolist()[-1].split('_')[-1]))\n",
    "    \n",
    "    # Preview results\n",
    "    print('Minimun revenue from random premiums: ', min(rand_revs), ' monetary units')\n",
    "    print('Maximum revenue from random premiums: ', max(rand_revs), ' monetary units')\n",
    "    print('Mean revenue from random premiums: ', np.mean(rand_revs), ' monetary units')\n",
    "    print('Revenue from optimized premiums: ', sum(opt_premiums), ' monetary units')\n",
    "    print('Number of clients who bought an optimized premium: ', len(opt_premiums))\n",
    "    \n",
    "    return rand_revs, opt_clients, opt_premiums"
   ]
  },
  {
   "cell_type": "markdown",
   "metadata": {},
   "source": [
    "### 3.1 Logistic Regression"
   ]
  },
  {
   "cell_type": "code",
   "execution_count": 56,
   "metadata": {},
   "outputs": [
    {
     "name": "stdout",
     "output_type": "stream",
     "text": [
      "Minimun revenue from random premiums:  6671.878787878785  monetary units\n",
      "Maximum revenue from random premiums:  9268.77272727273  monetary units\n",
      "Mean revenue from random premiums:  8222.078585858582  monetary units\n",
      "Revenue from optimized premiums:  30705.126262626287  monetary units\n",
      "Number of clients who bought an optimized premium:  432\n"
     ]
    }
   ],
   "source": [
    "rand_revs_lr_best, opt_clients_lr_best, opt_premiums_lr_best = prem2rev(data=db_10k_final_log,\n",
    "                                                                        model=lr_best,\n",
    "                                                                        min_threshold=min_threshold,\n",
    "                                                                        sc=sc)"
   ]
  },
  {
   "cell_type": "code",
   "execution_count": 57,
   "metadata": {},
   "outputs": [
    {
     "name": "stdout",
     "output_type": "stream",
     "text": [
      "Revenue from already contacted customers (10000 people):  30705.126262626287  monetary units\n",
      "Average revenue per customer (considering all 10000):  3.0705126262626288  monetary units/customer\n",
      "Average revenue per customer (considering 432 buyers):  71.07668116348678  monetary units/customer\n"
     ]
    }
   ],
   "source": [
    "revenue_results(opt_premiums_lr_best)"
   ]
  },
  {
   "cell_type": "code",
   "execution_count": 100,
   "metadata": {},
   "outputs": [
    {
     "data": {
      "image/png": "[encoded data removed]",
      "text/plain": [
       "<Figure size 432x432 with 1 Axes>"
      ]
     },
     "metadata": {
      "needs_background": "light"
     },
     "output_type": "display_data"
    }
   ],
   "source": [
    "# Figure for ppt\n",
    "fig, ax = plt.subplots(figsize=(6,6))\n",
    "sns.distplot(pd.Series(opt_premiums_lr_best),kde=False,color=sns.color_palette(\"Oranges\", 5)[2],ax=ax)\n",
    "\n",
    "ax.set_xlabel('Optimum Premium Distribution', fontsize=14)\n",
    "ax.set_ylabel('', fontsize=14)\n",
    "ax.xaxis.set_tick_params(labelsize=14)\n",
    "ax.yaxis.set_tick_params(labelsize=14)\n",
    "\n",
    "ax.spines['top'].set_visible(False)\n",
    "ax.spines['right'].set_visible(False)\n",
    "ax.spines['left'].set_visible(False)\n",
    "\n",
    "fig.savefig(\"opt_prem_dist.svg\", bbox_inches='tight')"
   ]
  },
  {
   "cell_type": "markdown",
   "metadata": {},
   "source": [
    "Our logistic regression captures 432 buyers and offers most of them premiums in a range from 1 to 100 monetary units. There are also some clients who are offered premiums from 100 to 200 monetary units which are willing to take them according to the computed sale probabilities.\n",
    "\n",
    "Overall we get 30705 monetary units, which is much better than the result obtained by offering random premiums (between 6672 and 9269 monetary units).\n",
    "\n",
    "We get 72 monetary units per customer on average, which is much higher than what we got for already contacted clients (14 mu).\n",
    "\n",
    "Given the behavior of known customers and the premiums they have offered so far, this results might be too optimistic. The model has probably found there are some clients who have a very high sale probability based on other features apart from Premium Offered (features that have more weight) and it takes a really large value for the former to take this probability below 0.5.\n",
    "\n",
    "In reality, it probably would not be a good idea to offer products at a price that is 10 times higher than the most expensive one we were selling so far."
   ]
  },
  {
   "cell_type": "code",
   "execution_count": 95,
   "metadata": {},
   "outputs": [
    {
     "data": {
      "text/html": [
       "<div>\n",
       "<style scoped>\n",
       "    .dataframe tbody tr th:only-of-type {\n",
       "        vertical-align: middle;\n",
       "    }\n",
       "\n",
       "    .dataframe tbody tr th {\n",
       "        vertical-align: top;\n",
       "    }\n",
       "\n",
       "    .dataframe thead th {\n",
       "        text-align: right;\n",
       "    }\n",
       "</style>\n",
       "<table border=\"1\" class=\"dataframe\">\n",
       "  <thead>\n",
       "    <tr style=\"text-align: right;\">\n",
       "      <th></th>\n",
       "      <th>Revs</th>\n",
       "      <th>type</th>\n",
       "    </tr>\n",
       "  </thead>\n",
       "  <tbody>\n",
       "    <tr>\n",
       "      <th>96</th>\n",
       "      <td>8054.661616</td>\n",
       "      <td>Random</td>\n",
       "    </tr>\n",
       "    <tr>\n",
       "      <th>97</th>\n",
       "      <td>8573.267677</td>\n",
       "      <td>Random</td>\n",
       "    </tr>\n",
       "    <tr>\n",
       "      <th>98</th>\n",
       "      <td>9104.939394</td>\n",
       "      <td>Random</td>\n",
       "    </tr>\n",
       "    <tr>\n",
       "      <th>99</th>\n",
       "      <td>7670.792929</td>\n",
       "      <td>Random</td>\n",
       "    </tr>\n",
       "    <tr>\n",
       "      <th>-1</th>\n",
       "      <td>30705.000000</td>\n",
       "      <td>Optimized</td>\n",
       "    </tr>\n",
       "  </tbody>\n",
       "</table>\n",
       "</div>"
      ],
      "text/plain": [
       "             Revs       type\n",
       " 96   8054.661616     Random\n",
       " 97   8573.267677     Random\n",
       " 98   9104.939394     Random\n",
       " 99   7670.792929     Random\n",
       "-1   30705.000000  Optimized"
      ]
     },
     "execution_count": 95,
     "metadata": {},
     "output_type": "execute_result"
    }
   ],
   "source": [
    "opt_revs_df = pd.DataFrame(data={'Revs':rand_revs_lr_best})\n",
    "opt_revs_df['type'] = 'Random'\n",
    "opt_revs_df.loc[-1] = [30705, 'Optimized']\n",
    "opt_revs_df.tail()"
   ]
  },
  {
   "cell_type": "code",
   "execution_count": 98,
   "metadata": {},
   "outputs": [
    {
     "data": {
      "image/png": "[encoded data removed]",
      "text/plain": [
       "<Figure size 432x432 with 1 Axes>"
      ]
     },
     "metadata": {
      "needs_background": "light"
     },
     "output_type": "display_data"
    }
   ],
   "source": [
    "# Figure for ppt\n",
    "fig, ax = plt.subplots(figsize=(6,6))\n",
    "sns.barplot(x = 'type',y = 'Revs', data = opt_revs_df,palette=sns.color_palette(\"Oranges\", 5),ax=ax)\n",
    "\n",
    "ax.set_xlabel('Type of Premium', fontsize=14)\n",
    "ax.set_ylabel('Revenue', fontsize=14)\n",
    "ax.xaxis.set_tick_params(labelsize=14)\n",
    "ax.yaxis.set_tick_params(labelsize=14)\n",
    "\n",
    "ax.spines['top'].set_visible(False)\n",
    "ax.spines['right'].set_visible(False)\n",
    "ax.spines['left'].set_visible(False)\n",
    "\n",
    "fig.savefig(\"random_vs_opt_rev.svg\", bbox_inches='tight')"
   ]
  },
  {
   "cell_type": "markdown",
   "metadata": {},
   "source": [
    "### 3.2 Random Forest"
   ]
  },
  {
   "cell_type": "code",
   "execution_count": 23,
   "metadata": {},
   "outputs": [
    {
     "name": "stdout",
     "output_type": "stream",
     "text": [
      "Minimun revenue from random premiums:  32363.924242424244  monetary units\n",
      "Maximum revenue from random premiums:  36456.47474747474  monetary units\n",
      "Mean revenue from random premiums:  34169.72429292929  monetary units\n",
      "Revenue from optimized premiums:  68067.02020202015  monetary units\n",
      "Number of clients who bought an optimized premium:  403\n"
     ]
    }
   ],
   "source": [
    "rand_revs_rf_best, opt_clients_rf_best, opt_premiums_rf_best = prem2rev(data=db_10k_final,\n",
    "                                                                        model=rf_best,\n",
    "                                                                        min_threshold=min_threshold)"
   ]
  },
  {
   "cell_type": "code",
   "execution_count": 35,
   "metadata": {},
   "outputs": [
    {
     "name": "stdout",
     "output_type": "stream",
     "text": [
      "Revenue from already contacted customers (10000 people):  68067.02020202015  monetary units\n",
      "Average revenue per customer (considering all 10000):  6.806702020202016  monetary units/customer\n",
      "Average revenue per customer (considering 403 buyers):  168.9007945459557  monetary units/customer\n"
     ]
    }
   ],
   "source": [
    "revenue_results(opt_premiums_rf_best)"
   ]
  },
  {
   "cell_type": "code",
   "execution_count": 44,
   "metadata": {},
   "outputs": [
    {
     "name": "stdout",
     "output_type": "stream",
     "text": [
      "200.000000    335\n",
      "18.085859      41\n",
      "12.055556      27\n",
      "dtype: int64\n"
     ]
    },
    {
     "data": {
      "image/png": "[encoded data removed]",
      "text/plain": [
       "<Figure size 432x288 with 1 Axes>"
      ]
     },
     "metadata": {
      "needs_background": "light"
     },
     "output_type": "display_data"
    }
   ],
   "source": [
    "print(pd.Series(opt_premiums_rf_best).value_counts())\n",
    "sns.distplot(pd.Series(opt_premiums_rf_best),kde=False)\n",
    "_ = plt.xlabel('Premium Offered')"
   ]
  },
  {
   "cell_type": "markdown",
   "metadata": {},
   "source": [
    "Our random forest captures 403 positive buyers, which is great. However, it assigns premiums of 200 monetary units (the highest possible value in our range) to most of them.\n",
    "\n",
    "This is not surprising, given that tree-based algorithms are not well suited for extrapolation. Given that it was trained on premiums below 21 monetary units, the algorithm concludes that any client willing to pay a premium as high as that, will be also be willing to pay any higher premium, which leads to unrealistic results."
   ]
  },
  {
   "cell_type": "markdown",
   "metadata": {},
   "source": [
    "### 3.3 Support Vector Machine"
   ]
  },
  {
   "cell_type": "code",
   "execution_count": 28,
   "metadata": {},
   "outputs": [
    {
     "name": "stderr",
     "output_type": "stream",
     "text": [
      "C:\\Users\\PcCom\\Anaconda3\\envs\\ml_env\\lib\\site-packages\\ipykernel_launcher.py:8: DataConversionWarning: Data with input dtype uint8, int64, float64 were all converted to float64 by StandardScaler.\n",
      "  \n",
      "C:\\Users\\PcCom\\Anaconda3\\envs\\ml_env\\lib\\site-packages\\ipykernel_launcher.py:30: DataConversionWarning: Data with input dtype uint8, int64, float64 were all converted to float64 by StandardScaler.\n"
     ]
    },
    {
     "name": "stdout",
     "output_type": "stream",
     "text": [
      "Minimun revenue from random premiums:  965887.7070707091  monetary units\n",
      "Maximum revenue from random premiums:  991505.7979798027  monetary units\n",
      "Mean revenue from random premiums:  977579.3466666706  monetary units\n",
      "Revenue from optimized premiums:  68400.0  monetary units\n",
      "Number of clients who bought an optimized premium:  342\n"
     ]
    }
   ],
   "source": [
    "rand_revs_svc_best, opt_clients_svc_best, opt_premiums_svc_best = prem2rev(data=db_10k_final_log,\n",
    "                                                                        model=svc_best,\n",
    "                                                                        min_threshold=min_threshold,\n",
    "                                                                        sc=sc)"
   ]
  },
  {
   "cell_type": "code",
   "execution_count": 45,
   "metadata": {
    "scrolled": true
   },
   "outputs": [
    {
     "name": "stdout",
     "output_type": "stream",
     "text": [
      "Revenue from already contacted customers (10000 people):  68400.0  monetary units\n",
      "Average revenue per customer (considering all 10000):  6.84  monetary units/customer\n",
      "Average revenue per customer (considering 342 buyers):  200.0  monetary units/customer\n"
     ]
    }
   ],
   "source": [
    "revenue_results(opt_premiums_svc_best)"
   ]
  },
  {
   "cell_type": "code",
   "execution_count": 46,
   "metadata": {},
   "outputs": [
    {
     "name": "stdout",
     "output_type": "stream",
     "text": [
      "200.0    342\n",
      "dtype: int64\n"
     ]
    },
    {
     "data": {
      "image/png": "[encoded data removed]",
      "text/plain": [
       "<Figure size 432x288 with 1 Axes>"
      ]
     },
     "metadata": {
      "needs_background": "light"
     },
     "output_type": "display_data"
    }
   ],
   "source": [
    "print(pd.Series(opt_premiums_svc_best).value_counts())\n",
    "sns.distplot(pd.Series(opt_premiums_svc_best),kde=False)\n",
    "_ = plt.xlabel('Premium Offered')"
   ]
  },
  {
   "cell_type": "markdown",
   "metadata": {},
   "source": [
    "The SVC model (with rbf kernel) behaves very poorly as well in this optimization problem. Similarly to the Random Forest, it is capable of offering the highest possible premium to a group of 342 people.\n",
    "\n",
    "We already saw at the EDA section that the probability of sale strongly depends on some features, and 'Premium Offered' was not one of them. This makes some models assign a positive sale to some individuals based on the former features, no matter what the \"non-important\" features are."
   ]
  },
  {
   "cell_type": "markdown",
   "metadata": {},
   "source": [
    "### 3.4 XGBoost"
   ]
  },
  {
   "cell_type": "code",
   "execution_count": 47,
   "metadata": {},
   "outputs": [],
   "source": [
    "def prem2rev_xgb(data,model,min_threshold,sc=None,random_rep=100):\n",
    "    ''''''\n",
    "    # Random Premium\n",
    "    # Initialize the column Premium Offered\n",
    "    data['Premium Offered'] = 33\n",
    "    \n",
    "    rand_revs = []\n",
    "    for i in range(random_rep):\n",
    "        rand_premium = [random.choice(list(np.linspace(1,200,199))) for i in range(data.shape[0])]\n",
    "        data['Premium Offered'] = rand_premium\n",
    "        probas = model.predict_proba(data)[:,1]\n",
    "\n",
    "        rand_rev = 0\n",
    "        for prem,proba in zip(rand_premium,list(probas)):\n",
    "            if proba > min_threshold:\n",
    "                rand_rev += prem\n",
    "\n",
    "        rand_revs.append(rand_rev)\n",
    "        \n",
    "    # Optimized Premium\n",
    "    dict_prem_lr = {}\n",
    "    \n",
    "    # Apply scaler if needed\n",
    "    \n",
    "    for premium in np.linspace(1,200,199):\n",
    "        data['Premium Offered'] = premium\n",
    "        probas = model.predict_proba(data)\n",
    "        dict_prem_lr['Prem_' + str(premium)] = list(probas[:,1])\n",
    "    \n",
    "    prem_lr = pd.DataFrame(data=dict_prem_lr)\n",
    "    c2c = prem_lr[prem_lr['Prem_1.0'] > min_threshold]\n",
    "    \n",
    "    opt_clients = []\n",
    "    opt_premiums = []\n",
    "    for idx, row in c2c.iterrows():\n",
    "        m = row > min_threshold\n",
    "        opt_clients.append(idx)\n",
    "        opt_premiums.append(float(row.loc[m].index.tolist()[-1].split('_')[-1]))\n",
    "    \n",
    "    # Preview results\n",
    "    print('Minimun revenue from random premiums: ', min(rand_revs), ' monetary units')\n",
    "    print('Maximum revenue from random premiums: ', max(rand_revs), ' monetary units')\n",
    "    print('Mean revenue from random premiums: ', np.mean(rand_revs), ' monetary units')\n",
    "    print('Revenue from optimized premiums: ', sum(opt_premiums), ' monetary units')\n",
    "    print('Number of clients who bought an optimized premium: ', len(opt_premiums))\n",
    "    \n",
    "    return rand_revs, opt_clients, opt_premiums"
   ]
  },
  {
   "cell_type": "code",
   "execution_count": 48,
   "metadata": {},
   "outputs": [
    {
     "name": "stdout",
     "output_type": "stream",
     "text": [
      "Minimun revenue from random premiums:  29122.772727272735  monetary units\n",
      "Maximum revenue from random premiums:  33622.383838383845  monetary units\n",
      "Mean revenue from random premiums:  31648.34404040404  monetary units\n",
      "Revenue from optimized premiums:  62600.0  monetary units\n",
      "Number of clients who bought an optimized premium:  313\n"
     ]
    }
   ],
   "source": [
    "rand_revs_basic_xgb, opt_clients_basic_xgb, opt_premiums_basic_xgb = prem2rev_xgb(data=db_10k_final,\n",
    "                                                                        model=basic_xgb,\n",
    "                                                                        min_threshold=min_threshold)"
   ]
  },
  {
   "cell_type": "code",
   "execution_count": 49,
   "metadata": {
    "scrolled": true
   },
   "outputs": [
    {
     "name": "stdout",
     "output_type": "stream",
     "text": [
      "Revenue from already contacted customers (10000 people):  62600.0  monetary units\n",
      "Average revenue per customer (considering all 10000):  6.26  monetary units/customer\n",
      "Average revenue per customer (considering 313 buyers):  200.0  monetary units/customer\n"
     ]
    }
   ],
   "source": [
    "revenue_results(opt_premiums_basic_xgb)"
   ]
  },
  {
   "cell_type": "code",
   "execution_count": 50,
   "metadata": {},
   "outputs": [
    {
     "name": "stdout",
     "output_type": "stream",
     "text": [
      "200.0    313\n",
      "dtype: int64\n"
     ]
    },
    {
     "data": {
      "image/png": "[encoded data removed]",
      "text/plain": [
       "<Figure size 432x288 with 1 Axes>"
      ]
     },
     "metadata": {
      "needs_background": "light"
     },
     "output_type": "display_data"
    }
   ],
   "source": [
    "print(pd.Series(opt_premiums_basic_xgb).value_counts())\n",
    "sns.distplot(pd.Series(opt_premiums_basic_xgb),kde=False)\n",
    "_ = plt.xlabel('Premium Offered')"
   ]
  },
  {
   "cell_type": "markdown",
   "metadata": {},
   "source": [
    "Results look like those of the Random Forest model, which makes sense given that XGBoost is another tree-based algorithm. It is unfortunate that models with such predictive power might result useless for optimization if our range of values goes out of the bounds of our training data."
   ]
  },
  {
   "cell_type": "markdown",
   "metadata": {},
   "source": [
    "### 3.5 Neural Network"
   ]
  },
  {
   "cell_type": "code",
   "execution_count": 53,
   "metadata": {},
   "outputs": [],
   "source": [
    "def prem2rev_nn(data,model,min_threshold,sc=None,random_rep=100):\n",
    "    ''''''\n",
    "    # Random Premium\n",
    "    # Initialize the column Premium Offered\n",
    "    data['Premium Offered'] = 33\n",
    "    \n",
    "    rand_revs = []\n",
    "    for i in range(random_rep):\n",
    "        rand_premium = [random.choice(list(np.linspace(1,200,199))) for i in range(data.shape[0])]\n",
    "        data['Premium Offered'] = rand_premium\n",
    "        # Apply scaler if needed\n",
    "        if sc is not None:\n",
    "            data_array = sc.transform(data)\n",
    "        else:\n",
    "            data_array = data.values     \n",
    "        probas = model.predict(data_array)[:,1]\n",
    "\n",
    "        rand_rev = 0\n",
    "        for prem,proba in zip(rand_premium,list(probas)):\n",
    "            if proba > min_threshold:\n",
    "                rand_rev += prem\n",
    "\n",
    "        rand_revs.append(rand_rev)\n",
    "        \n",
    "    # Optimized Premium\n",
    "    dict_prem_lr = {}\n",
    "    \n",
    "    for premium in np.linspace(1,200,199):\n",
    "        data['Premium Offered'] = premium\n",
    "        # Apply scaler if needed\n",
    "        if sc is not None:\n",
    "            data_array = sc.transform(data)\n",
    "        else:\n",
    "            data_array = data.values\n",
    "        probas = model.predict(data_array)\n",
    "        dict_prem_lr['Prem_' + str(premium)] = list(probas[:,1])\n",
    "    \n",
    "    prem_lr = pd.DataFrame(data=dict_prem_lr)\n",
    "    c2c = prem_lr[prem_lr['Prem_1.0'] > min_threshold]\n",
    "    \n",
    "    opt_clients = []\n",
    "    opt_premiums = []\n",
    "    for idx, row in c2c.iterrows():\n",
    "        m = row > min_threshold\n",
    "        opt_clients.append(idx)\n",
    "        opt_premiums.append(float(row.loc[m].index.tolist()[-1].split('_')[-1]))\n",
    "    \n",
    "    # Preview results\n",
    "    print('Minimun revenue from random premiums: ', min(rand_revs), ' monetary units')\n",
    "    print('Maximum revenue from random premiums: ', max(rand_revs), ' monetary units')\n",
    "    print('Mean revenue from random premiums: ', np.mean(rand_revs), ' monetary units')\n",
    "    print('Revenue from optimized premiums: ', sum(opt_premiums), ' monetary units')\n",
    "    print('Number of clients who bought an optimized premium: ', len(opt_premiums))\n",
    "    \n",
    "    return rand_revs, opt_clients, opt_premiums"
   ]
  },
  {
   "cell_type": "code",
   "execution_count": 54,
   "metadata": {},
   "outputs": [
    {
     "name": "stdout",
     "output_type": "stream",
     "text": [
      "Minimun revenue from random premiums:  7768.272727272723  monetary units\n",
      "Maximum revenue from random premiums:  10966.055555555557  monetary units\n",
      "Mean revenue from random premiums:  9685.463383838383  monetary units\n",
      "Revenue from optimized premiums:  23159.696969696968  monetary units\n",
      "Number of clients who bought an optimized premium:  335\n"
     ]
    }
   ],
   "source": [
    "rand_revs_nn_clf, opt_clients_nn_clf, opt_premiums_nn_clf = prem2rev_nn(data=db_10k_final_log,\n",
    "                                                                        model=nn_clf,\n",
    "                                                                        min_threshold=min_threshold,\n",
    "                                                                        sc=sc)"
   ]
  },
  {
   "cell_type": "code",
   "execution_count": 59,
   "metadata": {},
   "outputs": [
    {
     "name": "stdout",
     "output_type": "stream",
     "text": [
      "Revenue from already contacted customers (10000 people):  23159.696969696968  monetary units\n",
      "Average revenue per customer (considering all 10000):  2.315969696969697  monetary units/customer\n",
      "Average revenue per customer (considering 335 buyers):  69.1334237901402  monetary units/customer\n"
     ]
    }
   ],
   "source": [
    "revenue_results(opt_premiums_nn_clf)"
   ]
  },
  {
   "cell_type": "code",
   "execution_count": 60,
   "metadata": {},
   "outputs": [
    {
     "data": {
      "image/png": "[encoded data removed]",
      "text/plain": [
       "<Figure size 432x288 with 1 Axes>"
      ]
     },
     "metadata": {
      "needs_background": "light"
     },
     "output_type": "display_data"
    }
   ],
   "source": [
    "sns.distplot(pd.Series(opt_premiums_nn_clf),kde=False)\n",
    "_ = plt.xlabel('Premium Offered')"
   ]
  },
  {
   "cell_type": "markdown",
   "metadata": {},
   "source": [
    "Our Neural Network captures 335 buyers and offers them premiums in a range from 1 to 200 monetary units, being those between 1 and 100 more frequent than those which are higher.\n",
    "\n",
    "Overall we get 23160 monetary units, which is much better than the result obtained by offering random premiums (between 7800 and 11000 monetary units).\n",
    "\n",
    "We get 69 monetary units per customer on average, which is much higher than what we got for already contacted clients (14 mu).\n",
    "\n",
    "These results look like those from the logistic regression: they might be a bit too optimistic considering that for some clients we hit the upper limit from our optimization range, which is really high compared to previously existing prices."
   ]
  },
  {
   "cell_type": "markdown",
   "metadata": {},
   "source": [
    "## 4. Conclusion and plots\n",
    "\n",
    "Among all tested options, logistic regression and neural network classifiers are the only models that behave well with respect to the premium optimization task. SVM and tree-based algorithms fail at reproducing realistic behaviors for feature values that are out of range compared to the training data.\n",
    "\n",
    "We will use the logistic regression algorithm for supporting our analysis and for business prospect. This decision is backed by two reasons:\n",
    "- First, the logistic regression captures a higher number of potential buyers and pushes the premium price a bit further, providing a slightly higher benefit (this pushing further might be excessive and counter-productive in reality, but we will assume it is ok for this analysis).\n",
    "- Second, the logistic regression classifier is a linear model simply based on a series of coefficients, which makes it transparent: we can know why it responds in some way or another to variation of feature values, as opposed to the neural network, which is a \"black-box\" due to its non-linear stages."
   ]
  },
  {
   "cell_type": "code",
   "execution_count": 11,
   "metadata": {},
   "outputs": [],
   "source": [
    "df_lr_coefs = pd.DataFrame(dict(coef_val=lr_chosen.coef_[0],coef_name=list(X_train_f_log.columns)))\n",
    "df_lr_coefs['coef_val_abs'] = abs(df_lr_coefs['coef_val'])\n",
    "df_lr_coefs = df_lr_coefs.sort_values(by='coef_val_abs',ascending=False).head(12)"
   ]
  },
  {
   "cell_type": "code",
   "execution_count": 85,
   "metadata": {},
   "outputs": [
    {
     "data": {
      "image/png": "[encoded data removed]",
      "text/plain": [
       "<Figure size 720x360 with 1 Axes>"
      ]
     },
     "metadata": {
      "needs_background": "light"
     },
     "output_type": "display_data"
    }
   ],
   "source": [
    "# Figure for ppt\n",
    "fig, ax = plt.subplots(figsize=(10,5))\n",
    "sns.barplot(x='coef_val',y='coef_name',orient='h',data=df_lr_coefs,palette=reversed(sns.color_palette(\"Oranges\", 10)),ax=ax)\n",
    "ax.set_xlabel('Feature importance (according to model)', fontsize=14)\n",
    "ax.set_ylabel('', fontsize=14)\n",
    "ax.xaxis.set_tick_params(labelsize=14)\n",
    "ax.yaxis.set_tick_params(labelsize=14)\n",
    "\n",
    "ax.spines['top'].set_visible(False)\n",
    "ax.spines['right'].set_visible(False)\n",
    "ax.spines['left'].set_visible(False)\n",
    "\n",
    "fig.savefig(\"model_coefs.svg\", bbox_inches='tight')"
   ]
  },
  {
   "cell_type": "markdown",
   "metadata": {},
   "source": [
    "Our logistic regression model assigns a lot of weight to features related with active products and previous campaigns, which is coherent with what we saw during the exploratory data analysis stage.\n",
    "\n",
    "Socioecomic Status and available contact information (email and address) also have some decent importance.\n",
    "\n",
    "We have to go down to the 12th place in feature importance to find the influence of Premium Offered, which is negative (this makes sense, since we expect a lower sale probability for higher premiums). The difference in importance between this features and the top ones is what makes the model predict that many people will not buy not matter what premium they are offered, but then again, this is what the training data depicts."
   ]
  },
  {
   "cell_type": "code",
   "execution_count": null,
   "metadata": {},
   "outputs": [],
   "source": []
  },
  {
   "cell_type": "markdown",
   "metadata": {},
   "source": [
    "### Dataset with optimized premiums\n",
    "\n",
    "We will finally assemble a dataframe using our imputed DB_10000 dataset (withou dummy columns for province), selecting only those clients who bought the premium according to our predictive model, and appending the optimized premium.\n",
    "\n",
    "Considering those clients who did not buy would not make sense, since we cannot define a value of Premium Offered for them (we tried all values from 1 to 200 and the outcome was always negative)"
   ]
  },
  {
   "cell_type": "code",
   "execution_count": 82,
   "metadata": {},
   "outputs": [
    {
     "data": {
      "text/html": [
       "<div>\n",
       "<style scoped>\n",
       "    .dataframe tbody tr th:only-of-type {\n",
       "        vertical-align: middle;\n",
       "    }\n",
       "\n",
       "    .dataframe tbody tr th {\n",
       "        vertical-align: top;\n",
       "    }\n",
       "\n",
       "    .dataframe thead th {\n",
       "        text-align: right;\n",
       "    }\n",
       "</style>\n",
       "<table border=\"1\" class=\"dataframe\">\n",
       "  <thead>\n",
       "    <tr style=\"text-align: right;\">\n",
       "      <th></th>\n",
       "      <th>Living Area (m^2)</th>\n",
       "      <th>House Price</th>\n",
       "      <th>Income</th>\n",
       "      <th>House Insurance</th>\n",
       "      <th>Pension Plan</th>\n",
       "      <th>Estim. num. cars_cat</th>\n",
       "      <th>Proba. Sec. Res._cat</th>\n",
       "      <th>Credit</th>\n",
       "      <th>Savings</th>\n",
       "      <th>yearBuilt</th>\n",
       "      <th>Socieconomic Status_cat</th>\n",
       "      <th>Province_cat</th>\n",
       "      <th>Right Address_cat</th>\n",
       "      <th>Type of House_cat</th>\n",
       "      <th>PhoneType_cat</th>\n",
       "      <th>Email</th>\n",
       "      <th>Tenure</th>\n",
       "      <th>NumberofCampaigns</th>\n",
       "      <th>ProdActive</th>\n",
       "      <th>ProdBought</th>\n",
       "      <th>Price Sensitivity</th>\n",
       "      <th>Sales</th>\n",
       "      <th>Premium Offered</th>\n",
       "    </tr>\n",
       "    <tr>\n",
       "      <th>index</th>\n",
       "      <th></th>\n",
       "      <th></th>\n",
       "      <th></th>\n",
       "      <th></th>\n",
       "      <th></th>\n",
       "      <th></th>\n",
       "      <th></th>\n",
       "      <th></th>\n",
       "      <th></th>\n",
       "      <th></th>\n",
       "      <th></th>\n",
       "      <th></th>\n",
       "      <th></th>\n",
       "      <th></th>\n",
       "      <th></th>\n",
       "      <th></th>\n",
       "      <th></th>\n",
       "      <th></th>\n",
       "      <th></th>\n",
       "      <th></th>\n",
       "      <th></th>\n",
       "      <th></th>\n",
       "      <th></th>\n",
       "    </tr>\n",
       "  </thead>\n",
       "  <tbody>\n",
       "    <tr>\n",
       "      <th>21</th>\n",
       "      <td>309.272</td>\n",
       "      <td>211664.505195</td>\n",
       "      <td>57768.51591</td>\n",
       "      <td>7358.3694</td>\n",
       "      <td>37052.077896</td>\n",
       "      <td>1.0</td>\n",
       "      <td>0.0</td>\n",
       "      <td>16900.457562</td>\n",
       "      <td>52285.85532</td>\n",
       "      <td>2004.0</td>\n",
       "      <td>3.0</td>\n",
       "      <td>28.0</td>\n",
       "      <td>0.0</td>\n",
       "      <td>1.0</td>\n",
       "      <td>0.0</td>\n",
       "      <td>1.0</td>\n",
       "      <td>2005.0</td>\n",
       "      <td>14.0</td>\n",
       "      <td>0.0</td>\n",
       "      <td>3.0</td>\n",
       "      <td>1.0</td>\n",
       "      <td>1</td>\n",
       "      <td>104.520202</td>\n",
       "    </tr>\n",
       "    <tr>\n",
       "      <th>118</th>\n",
       "      <td>53.332</td>\n",
       "      <td>168807.767895</td>\n",
       "      <td>45999.39771</td>\n",
       "      <td>5845.1994</td>\n",
       "      <td>29542.235496</td>\n",
       "      <td>0.0</td>\n",
       "      <td>0.0</td>\n",
       "      <td>13453.776162</td>\n",
       "      <td>40874.65632</td>\n",
       "      <td>1975.0</td>\n",
       "      <td>3.0</td>\n",
       "      <td>31.0</td>\n",
       "      <td>0.0</td>\n",
       "      <td>1.0</td>\n",
       "      <td>1.0</td>\n",
       "      <td>0.0</td>\n",
       "      <td>2011.0</td>\n",
       "      <td>6.0</td>\n",
       "      <td>1.0</td>\n",
       "      <td>1.0</td>\n",
       "      <td>6.0</td>\n",
       "      <td>1</td>\n",
       "      <td>5.020202</td>\n",
       "    </tr>\n",
       "  </tbody>\n",
       "</table>\n",
       "</div>"
      ],
      "text/plain": [
       "       Living Area (m^2)    House Price       Income  House Insurance  \\\n",
       "index                                                                   \n",
       "21               309.272  211664.505195  57768.51591        7358.3694   \n",
       "118               53.332  168807.767895  45999.39771        5845.1994   \n",
       "\n",
       "       Pension Plan  Estim. num. cars_cat  Proba. Sec. Res._cat        Credit  \\\n",
       "index                                                                           \n",
       "21     37052.077896                   1.0                   0.0  16900.457562   \n",
       "118    29542.235496                   0.0                   0.0  13453.776162   \n",
       "\n",
       "           Savings  yearBuilt  Socieconomic Status_cat  Province_cat  \\\n",
       "index                                                                  \n",
       "21     52285.85532     2004.0                      3.0          28.0   \n",
       "118    40874.65632     1975.0                      3.0          31.0   \n",
       "\n",
       "       Right Address_cat  Type of House_cat  PhoneType_cat  Email  Tenure  \\\n",
       "index                                                                       \n",
       "21                   0.0                1.0            0.0    1.0  2005.0   \n",
       "118                  0.0                1.0            1.0    0.0  2011.0   \n",
       "\n",
       "       NumberofCampaigns  ProdActive  ProdBought  Price Sensitivity  Sales  \\\n",
       "index                                                                        \n",
       "21                  14.0         0.0         3.0                1.0      1   \n",
       "118                  6.0         1.0         1.0                6.0      1   \n",
       "\n",
       "       Premium Offered  \n",
       "index                   \n",
       "21          104.520202  \n",
       "118           5.020202  "
      ]
     },
     "execution_count": 82,
     "metadata": {},
     "output_type": "execute_result"
    }
   ],
   "source": [
    "db_10k_optim = db_10k_imp_nd.iloc[opt_clients_lr_best]\n",
    "db_10k_optim['Sales'] = 1\n",
    "db_10k_optim['Premium Offered'] = opt_premiums_lr_best\n",
    "db_10k_optim.head(2)"
   ]
  },
  {
   "cell_type": "markdown",
   "metadata": {},
   "source": [
    "We will also select those clients with positive sale from DB_20000 for making comparisons"
   ]
  },
  {
   "cell_type": "code",
   "execution_count": 83,
   "metadata": {},
   "outputs": [
    {
     "data": {
      "text/html": [
       "<div>\n",
       "<style scoped>\n",
       "    .dataframe tbody tr th:only-of-type {\n",
       "        vertical-align: middle;\n",
       "    }\n",
       "\n",
       "    .dataframe tbody tr th {\n",
       "        vertical-align: top;\n",
       "    }\n",
       "\n",
       "    .dataframe thead th {\n",
       "        text-align: right;\n",
       "    }\n",
       "</style>\n",
       "<table border=\"1\" class=\"dataframe\">\n",
       "  <thead>\n",
       "    <tr style=\"text-align: right;\">\n",
       "      <th></th>\n",
       "      <th>Living Area (m^2)</th>\n",
       "      <th>House Price</th>\n",
       "      <th>Income</th>\n",
       "      <th>House Insurance</th>\n",
       "      <th>Pension Plan</th>\n",
       "      <th>Estim. num. cars_cat</th>\n",
       "      <th>Proba. Sec. Res._cat</th>\n",
       "      <th>Credit</th>\n",
       "      <th>Savings</th>\n",
       "      <th>yearBuilt</th>\n",
       "      <th>Socieconomic Status_cat</th>\n",
       "      <th>Province_cat</th>\n",
       "      <th>Right Address_cat</th>\n",
       "      <th>Type of House_cat</th>\n",
       "      <th>PhoneType_cat</th>\n",
       "      <th>Email</th>\n",
       "      <th>Tenure</th>\n",
       "      <th>NumberofCampaigns</th>\n",
       "      <th>ProdActive</th>\n",
       "      <th>ProdBought</th>\n",
       "      <th>Price Sensitivity</th>\n",
       "      <th>Sales</th>\n",
       "      <th>Premium Offered</th>\n",
       "    </tr>\n",
       "    <tr>\n",
       "      <th>index</th>\n",
       "      <th></th>\n",
       "      <th></th>\n",
       "      <th></th>\n",
       "      <th></th>\n",
       "      <th></th>\n",
       "      <th></th>\n",
       "      <th></th>\n",
       "      <th></th>\n",
       "      <th></th>\n",
       "      <th></th>\n",
       "      <th></th>\n",
       "      <th></th>\n",
       "      <th></th>\n",
       "      <th></th>\n",
       "      <th></th>\n",
       "      <th></th>\n",
       "      <th></th>\n",
       "      <th></th>\n",
       "      <th></th>\n",
       "      <th></th>\n",
       "      <th></th>\n",
       "      <th></th>\n",
       "      <th></th>\n",
       "    </tr>\n",
       "  </thead>\n",
       "  <tbody>\n",
       "    <tr>\n",
       "      <th>1</th>\n",
       "      <td>85.60244</td>\n",
       "      <td>103235.979015</td>\n",
       "      <td>27854.157114</td>\n",
       "      <td>3485.5758</td>\n",
       "      <td>18037.38088</td>\n",
       "      <td>0.0</td>\n",
       "      <td>0.0</td>\n",
       "      <td>8133.08226</td>\n",
       "      <td>0.0</td>\n",
       "      <td>1998.0</td>\n",
       "      <td>1.0</td>\n",
       "      <td>6.0</td>\n",
       "      <td>0.0</td>\n",
       "      <td>0.0</td>\n",
       "      <td>1.0</td>\n",
       "      <td>0.0</td>\n",
       "      <td>2011.0</td>\n",
       "      <td>2.0</td>\n",
       "      <td>0.0</td>\n",
       "      <td>1.0</td>\n",
       "      <td>5.0</td>\n",
       "      <td>1</td>\n",
       "      <td>11.12</td>\n",
       "    </tr>\n",
       "    <tr>\n",
       "      <th>5</th>\n",
       "      <td>118.08404</td>\n",
       "      <td>170171.901315</td>\n",
       "      <td>46198.509714</td>\n",
       "      <td>5854.6278</td>\n",
       "      <td>29799.41848</td>\n",
       "      <td>0.0</td>\n",
       "      <td>0.0</td>\n",
       "      <td>13516.27566</td>\n",
       "      <td>0.0</td>\n",
       "      <td>1980.0</td>\n",
       "      <td>1.0</td>\n",
       "      <td>18.0</td>\n",
       "      <td>1.0</td>\n",
       "      <td>1.0</td>\n",
       "      <td>1.0</td>\n",
       "      <td>1.0</td>\n",
       "      <td>2009.0</td>\n",
       "      <td>6.0</td>\n",
       "      <td>2.0</td>\n",
       "      <td>2.0</td>\n",
       "      <td>5.0</td>\n",
       "      <td>1</td>\n",
       "      <td>14.50</td>\n",
       "    </tr>\n",
       "  </tbody>\n",
       "</table>\n",
       "</div>"
      ],
      "text/plain": [
       "       Living Area (m^2)    House Price        Income  House Insurance  \\\n",
       "index                                                                    \n",
       "1               85.60244  103235.979015  27854.157114        3485.5758   \n",
       "5              118.08404  170171.901315  46198.509714        5854.6278   \n",
       "\n",
       "       Pension Plan  Estim. num. cars_cat  Proba. Sec. Res._cat       Credit  \\\n",
       "index                                                                          \n",
       "1       18037.38088                   0.0                   0.0   8133.08226   \n",
       "5       29799.41848                   0.0                   0.0  13516.27566   \n",
       "\n",
       "       Savings  yearBuilt  Socieconomic Status_cat  Province_cat  \\\n",
       "index                                                              \n",
       "1          0.0     1998.0                      1.0           6.0   \n",
       "5          0.0     1980.0                      1.0          18.0   \n",
       "\n",
       "       Right Address_cat  Type of House_cat  PhoneType_cat  Email  Tenure  \\\n",
       "index                                                                       \n",
       "1                    0.0                0.0            1.0    0.0  2011.0   \n",
       "5                    1.0                1.0            1.0    1.0  2009.0   \n",
       "\n",
       "       NumberofCampaigns  ProdActive  ProdBought  Price Sensitivity  Sales  \\\n",
       "index                                                                        \n",
       "1                    2.0         0.0         1.0                5.0      1   \n",
       "5                    6.0         2.0         2.0                5.0      1   \n",
       "\n",
       "       Premium Offered  \n",
       "index                   \n",
       "1                11.12  \n",
       "5                14.50  "
      ]
     },
     "execution_count": 83,
     "metadata": {},
     "output_type": "execute_result"
    }
   ],
   "source": [
    "db_20k_sale = db_20k_imp_nd[db_20k_imp_nd['Sales'] == 1]\n",
    "db_20k_sale.head(2)"
   ]
  },
  {
   "cell_type": "markdown",
   "metadata": {},
   "source": [
    "These to datasets would be used for feeding a dashboard."
   ]
  },
  {
   "cell_type": "code",
   "execution_count": null,
   "metadata": {},
   "outputs": [],
   "source": []
  }
 ],
 "metadata": {
  "kernelspec": {
   "display_name": "Python 3",
   "language": "python",
   "name": "python3"
  },
  "language_info": {
   "codemirror_mode": {
    "name": "ipython",
    "version": 3
   },
   "file_extension": ".py",
   "mimetype": "text/x-python",
   "name": "python",
   "nbconvert_exporter": "python",
   "pygments_lexer": "ipython3",
   "version": "3.6.7"
  }
 },
 "nbformat": 4,
 "nbformat_minor": 2
}
