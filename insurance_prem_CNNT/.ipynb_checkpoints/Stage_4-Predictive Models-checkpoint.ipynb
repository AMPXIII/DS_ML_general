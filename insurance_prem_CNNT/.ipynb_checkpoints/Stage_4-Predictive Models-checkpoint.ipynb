{
 "cells": [
  {
   "cell_type": "markdown",
   "metadata": {},
   "source": [
    "## 0. Import necessary modules"
   ]
  },
  {
   "cell_type": "markdown",
   "metadata": {},
   "source": [
    "*I use Tensorflow backend for Keras"
   ]
  },
  {
   "cell_type": "code",
   "execution_count": 1,
   "metadata": {},
   "outputs": [],
   "source": [
    "# Add path to auxiliary custom libraries\n",
    "import sys\n",
    "sys.path.insert(0, './functions')"
   ]
  },
  {
   "cell_type": "code",
   "execution_count": 2,
   "metadata": {},
   "outputs": [
    {
     "name": "stderr",
     "output_type": "stream",
     "text": [
      "Using TensorFlow backend.\n"
     ]
    }
   ],
   "source": [
    "from __future__ import print_function\n",
    "\n",
    "# Data Manipulation\n",
    "import numpy as np\n",
    "import pandas as pd\n",
    "import pickle\n",
    "\n",
    "# Visualization\n",
    "import matplotlib.pyplot as plt\n",
    "import seaborn as sns\n",
    "from f_viz import plot_confusion_matrix # Custom function\n",
    "\n",
    "# Machine Learning (common)\n",
    "from sklearn.preprocessing import StandardScaler\n",
    "from sklearn.model_selection import train_test_split, GridSearchCV, RandomizedSearchCV\n",
    "from sklearn.metrics import accuracy_score, confusion_matrix, f1_score, roc_auc_score, roc_curve, auc\n",
    "from sklearn.externals import joblib\n",
    "\n",
    "# Machine Learning (models)\n",
    "from sklearn.linear_model import LogisticRegression\n",
    "from sklearn.svm import SVC\n",
    "from sklearn.ensemble import RandomForestClassifier\n",
    "from xgboost import XGBClassifier\n",
    "\n",
    "# Machine Learning (NN)\n",
    "\n",
    "import keras\n",
    "from keras.models import Sequential\n",
    "from keras.layers import Dense\n",
    "from keras.callbacks import EarlyStopping\n",
    "from keras import backend as K\n",
    "\n",
    "# Other libraries\n",
    "import itertools"
   ]
  },
  {
   "cell_type": "code",
   "execution_count": 3,
   "metadata": {},
   "outputs": [],
   "source": [
    "pd.set_option('display.max_columns', 60)"
   ]
  },
  {
   "cell_type": "code",
   "execution_count": 4,
   "metadata": {},
   "outputs": [],
   "source": [
    "%matplotlib inline"
   ]
  },
  {
   "cell_type": "markdown",
   "metadata": {},
   "source": [
    "## 1. Load data"
   ]
  },
  {
   "cell_type": "code",
   "execution_count": 5,
   "metadata": {},
   "outputs": [],
   "source": [
    "# Local paths to data\n",
    "proc_data_PATH = './processed_data/'\n",
    "models_PATH = './models/'"
   ]
  },
  {
   "cell_type": "code",
   "execution_count": 6,
   "metadata": {},
   "outputs": [],
   "source": [
    "with open(proc_data_PATH + 'proc_dataframes.pkl', 'rb') as f:\n",
    "    db_20k_final,db_10k_final = pickle.load(f)"
   ]
  },
  {
   "cell_type": "code",
   "execution_count": 7,
   "metadata": {},
   "outputs": [
    {
     "data": {
      "text/html": [
       "<div>\n",
       "<style scoped>\n",
       "    .dataframe tbody tr th:only-of-type {\n",
       "        vertical-align: middle;\n",
       "    }\n",
       "\n",
       "    .dataframe tbody tr th {\n",
       "        vertical-align: top;\n",
       "    }\n",
       "\n",
       "    .dataframe thead th {\n",
       "        text-align: right;\n",
       "    }\n",
       "</style>\n",
       "<table border=\"1\" class=\"dataframe\">\n",
       "  <thead>\n",
       "    <tr style=\"text-align: right;\">\n",
       "      <th></th>\n",
       "      <th>Living Area (m^2)</th>\n",
       "      <th>House Price</th>\n",
       "      <th>Income</th>\n",
       "      <th>House Insurance</th>\n",
       "      <th>Pension Plan</th>\n",
       "      <th>Estim. num. cars_cat</th>\n",
       "      <th>Proba. Sec. Res._cat</th>\n",
       "      <th>Credit</th>\n",
       "      <th>Savings</th>\n",
       "      <th>yearBuilt</th>\n",
       "      <th>Socieconomic Status_cat</th>\n",
       "      <th>Right Address_cat</th>\n",
       "      <th>Type of House_cat</th>\n",
       "      <th>PhoneType_cat</th>\n",
       "      <th>Email</th>\n",
       "      <th>Tenure</th>\n",
       "      <th>NumberofCampaigns</th>\n",
       "      <th>ProdActive</th>\n",
       "      <th>ProdBought</th>\n",
       "      <th>Price Sensitivity</th>\n",
       "      <th>Province_cat_1.0</th>\n",
       "      <th>Province_cat_2.0</th>\n",
       "      <th>Province_cat_3.0</th>\n",
       "      <th>Province_cat_4.0</th>\n",
       "      <th>Province_cat_5.0</th>\n",
       "      <th>Province_cat_6.0</th>\n",
       "      <th>Province_cat_7.0</th>\n",
       "      <th>Province_cat_8.0</th>\n",
       "      <th>Province_cat_9.0</th>\n",
       "      <th>Province_cat_10.0</th>\n",
       "      <th>Province_cat_11.0</th>\n",
       "      <th>Province_cat_12.0</th>\n",
       "      <th>Province_cat_13.0</th>\n",
       "      <th>Province_cat_14.0</th>\n",
       "      <th>Province_cat_15.0</th>\n",
       "      <th>Province_cat_16.0</th>\n",
       "      <th>Province_cat_17.0</th>\n",
       "      <th>Province_cat_18.0</th>\n",
       "      <th>Province_cat_19.0</th>\n",
       "      <th>Province_cat_20.0</th>\n",
       "      <th>Province_cat_21.0</th>\n",
       "      <th>Province_cat_22.0</th>\n",
       "      <th>Province_cat_23.0</th>\n",
       "      <th>Province_cat_24.0</th>\n",
       "      <th>Province_cat_25.0</th>\n",
       "      <th>Province_cat_26.0</th>\n",
       "      <th>Province_cat_27.0</th>\n",
       "      <th>Province_cat_28.0</th>\n",
       "      <th>Province_cat_29.0</th>\n",
       "      <th>Province_cat_30.0</th>\n",
       "      <th>Province_cat_31.0</th>\n",
       "      <th>Province_cat_32.0</th>\n",
       "      <th>Province_cat_33.0</th>\n",
       "      <th>Sales</th>\n",
       "      <th>Premium Offered</th>\n",
       "    </tr>\n",
       "    <tr>\n",
       "      <th>index</th>\n",
       "      <th></th>\n",
       "      <th></th>\n",
       "      <th></th>\n",
       "      <th></th>\n",
       "      <th></th>\n",
       "      <th></th>\n",
       "      <th></th>\n",
       "      <th></th>\n",
       "      <th></th>\n",
       "      <th></th>\n",
       "      <th></th>\n",
       "      <th></th>\n",
       "      <th></th>\n",
       "      <th></th>\n",
       "      <th></th>\n",
       "      <th></th>\n",
       "      <th></th>\n",
       "      <th></th>\n",
       "      <th></th>\n",
       "      <th></th>\n",
       "      <th></th>\n",
       "      <th></th>\n",
       "      <th></th>\n",
       "      <th></th>\n",
       "      <th></th>\n",
       "      <th></th>\n",
       "      <th></th>\n",
       "      <th></th>\n",
       "      <th></th>\n",
       "      <th></th>\n",
       "      <th></th>\n",
       "      <th></th>\n",
       "      <th></th>\n",
       "      <th></th>\n",
       "      <th></th>\n",
       "      <th></th>\n",
       "      <th></th>\n",
       "      <th></th>\n",
       "      <th></th>\n",
       "      <th></th>\n",
       "      <th></th>\n",
       "      <th></th>\n",
       "      <th></th>\n",
       "      <th></th>\n",
       "      <th></th>\n",
       "      <th></th>\n",
       "      <th></th>\n",
       "      <th></th>\n",
       "      <th></th>\n",
       "      <th></th>\n",
       "      <th></th>\n",
       "      <th></th>\n",
       "      <th></th>\n",
       "      <th></th>\n",
       "      <th></th>\n",
       "    </tr>\n",
       "  </thead>\n",
       "  <tbody>\n",
       "    <tr>\n",
       "      <th>0</th>\n",
       "      <td>68.28964</td>\n",
       "      <td>439134.274215</td>\n",
       "      <td>55407.736314</td>\n",
       "      <td>15345.3798</td>\n",
       "      <td>76897.09528</td>\n",
       "      <td>2.0</td>\n",
       "      <td>0.0</td>\n",
       "      <td>35147.05566</td>\n",
       "      <td>0.0</td>\n",
       "      <td>2005.0</td>\n",
       "      <td>1.0</td>\n",
       "      <td>0.0</td>\n",
       "      <td>1.0</td>\n",
       "      <td>0.0</td>\n",
       "      <td>0.0</td>\n",
       "      <td>2012.0</td>\n",
       "      <td>2.0</td>\n",
       "      <td>0.0</td>\n",
       "      <td>0.0</td>\n",
       "      <td>5.0</td>\n",
       "      <td>0</td>\n",
       "      <td>0</td>\n",
       "      <td>0</td>\n",
       "      <td>0</td>\n",
       "      <td>0</td>\n",
       "      <td>0</td>\n",
       "      <td>0</td>\n",
       "      <td>0</td>\n",
       "      <td>0</td>\n",
       "      <td>0</td>\n",
       "      <td>0</td>\n",
       "      <td>0</td>\n",
       "      <td>0</td>\n",
       "      <td>0</td>\n",
       "      <td>0</td>\n",
       "      <td>0</td>\n",
       "      <td>0</td>\n",
       "      <td>0</td>\n",
       "      <td>1</td>\n",
       "      <td>0</td>\n",
       "      <td>0</td>\n",
       "      <td>0</td>\n",
       "      <td>0</td>\n",
       "      <td>0</td>\n",
       "      <td>0</td>\n",
       "      <td>0</td>\n",
       "      <td>0</td>\n",
       "      <td>0</td>\n",
       "      <td>0</td>\n",
       "      <td>0</td>\n",
       "      <td>0</td>\n",
       "      <td>0</td>\n",
       "      <td>0</td>\n",
       "      <td>0</td>\n",
       "      <td>11.12</td>\n",
       "    </tr>\n",
       "    <tr>\n",
       "      <th>1</th>\n",
       "      <td>85.60244</td>\n",
       "      <td>103235.979015</td>\n",
       "      <td>27854.157114</td>\n",
       "      <td>3485.5758</td>\n",
       "      <td>18037.38088</td>\n",
       "      <td>0.0</td>\n",
       "      <td>0.0</td>\n",
       "      <td>8133.08226</td>\n",
       "      <td>0.0</td>\n",
       "      <td>1998.0</td>\n",
       "      <td>1.0</td>\n",
       "      <td>0.0</td>\n",
       "      <td>0.0</td>\n",
       "      <td>1.0</td>\n",
       "      <td>0.0</td>\n",
       "      <td>2011.0</td>\n",
       "      <td>2.0</td>\n",
       "      <td>0.0</td>\n",
       "      <td>1.0</td>\n",
       "      <td>5.0</td>\n",
       "      <td>0</td>\n",
       "      <td>0</td>\n",
       "      <td>0</td>\n",
       "      <td>0</td>\n",
       "      <td>0</td>\n",
       "      <td>1</td>\n",
       "      <td>0</td>\n",
       "      <td>0</td>\n",
       "      <td>0</td>\n",
       "      <td>0</td>\n",
       "      <td>0</td>\n",
       "      <td>0</td>\n",
       "      <td>0</td>\n",
       "      <td>0</td>\n",
       "      <td>0</td>\n",
       "      <td>0</td>\n",
       "      <td>0</td>\n",
       "      <td>0</td>\n",
       "      <td>0</td>\n",
       "      <td>0</td>\n",
       "      <td>0</td>\n",
       "      <td>0</td>\n",
       "      <td>0</td>\n",
       "      <td>0</td>\n",
       "      <td>0</td>\n",
       "      <td>0</td>\n",
       "      <td>0</td>\n",
       "      <td>0</td>\n",
       "      <td>0</td>\n",
       "      <td>0</td>\n",
       "      <td>0</td>\n",
       "      <td>0</td>\n",
       "      <td>0</td>\n",
       "      <td>1</td>\n",
       "      <td>11.12</td>\n",
       "    </tr>\n",
       "  </tbody>\n",
       "</table>\n",
       "</div>"
      ],
      "text/plain": [
       "       Living Area (m^2)    House Price        Income  House Insurance  \\\n",
       "index                                                                    \n",
       "0               68.28964  439134.274215  55407.736314       15345.3798   \n",
       "1               85.60244  103235.979015  27854.157114        3485.5758   \n",
       "\n",
       "       Pension Plan  Estim. num. cars_cat  Proba. Sec. Res._cat       Credit  \\\n",
       "index                                                                          \n",
       "0       76897.09528                   2.0                   0.0  35147.05566   \n",
       "1       18037.38088                   0.0                   0.0   8133.08226   \n",
       "\n",
       "       Savings  yearBuilt  Socieconomic Status_cat  Right Address_cat  \\\n",
       "index                                                                   \n",
       "0          0.0     2005.0                      1.0                0.0   \n",
       "1          0.0     1998.0                      1.0                0.0   \n",
       "\n",
       "       Type of House_cat  PhoneType_cat  Email  Tenure  NumberofCampaigns  \\\n",
       "index                                                                       \n",
       "0                    1.0            0.0    0.0  2012.0                2.0   \n",
       "1                    0.0            1.0    0.0  2011.0                2.0   \n",
       "\n",
       "       ProdActive  ProdBought  Price Sensitivity  Province_cat_1.0  \\\n",
       "index                                                                \n",
       "0             0.0         0.0                5.0                 0   \n",
       "1             0.0         1.0                5.0                 0   \n",
       "\n",
       "       Province_cat_2.0  Province_cat_3.0  Province_cat_4.0  Province_cat_5.0  \\\n",
       "index                                                                           \n",
       "0                     0                 0                 0                 0   \n",
       "1                     0                 0                 0                 0   \n",
       "\n",
       "       Province_cat_6.0  Province_cat_7.0  Province_cat_8.0  Province_cat_9.0  \\\n",
       "index                                                                           \n",
       "0                     0                 0                 0                 0   \n",
       "1                     1                 0                 0                 0   \n",
       "\n",
       "       Province_cat_10.0  Province_cat_11.0  Province_cat_12.0  \\\n",
       "index                                                            \n",
       "0                      0                  0                  0   \n",
       "1                      0                  0                  0   \n",
       "\n",
       "       Province_cat_13.0  Province_cat_14.0  Province_cat_15.0  \\\n",
       "index                                                            \n",
       "0                      0                  0                  0   \n",
       "1                      0                  0                  0   \n",
       "\n",
       "       Province_cat_16.0  Province_cat_17.0  Province_cat_18.0  \\\n",
       "index                                                            \n",
       "0                      0                  0                  0   \n",
       "1                      0                  0                  0   \n",
       "\n",
       "       Province_cat_19.0  Province_cat_20.0  Province_cat_21.0  \\\n",
       "index                                                            \n",
       "0                      1                  0                  0   \n",
       "1                      0                  0                  0   \n",
       "\n",
       "       Province_cat_22.0  Province_cat_23.0  Province_cat_24.0  \\\n",
       "index                                                            \n",
       "0                      0                  0                  0   \n",
       "1                      0                  0                  0   \n",
       "\n",
       "       Province_cat_25.0  Province_cat_26.0  Province_cat_27.0  \\\n",
       "index                                                            \n",
       "0                      0                  0                  0   \n",
       "1                      0                  0                  0   \n",
       "\n",
       "       Province_cat_28.0  Province_cat_29.0  Province_cat_30.0  \\\n",
       "index                                                            \n",
       "0                      0                  0                  0   \n",
       "1                      0                  0                  0   \n",
       "\n",
       "       Province_cat_31.0  Province_cat_32.0  Province_cat_33.0  Sales  \\\n",
       "index                                                                   \n",
       "0                      0                  0                  0      0   \n",
       "1                      0                  0                  0      1   \n",
       "\n",
       "       Premium Offered  \n",
       "index                   \n",
       "0                11.12  \n",
       "1                11.12  "
      ]
     },
     "execution_count": 7,
     "metadata": {},
     "output_type": "execute_result"
    }
   ],
   "source": [
    "db_20k_final.head(2)"
   ]
  },
  {
   "cell_type": "code",
   "execution_count": 8,
   "metadata": {},
   "outputs": [
    {
     "data": {
      "text/html": [
       "<div>\n",
       "<style scoped>\n",
       "    .dataframe tbody tr th:only-of-type {\n",
       "        vertical-align: middle;\n",
       "    }\n",
       "\n",
       "    .dataframe tbody tr th {\n",
       "        vertical-align: top;\n",
       "    }\n",
       "\n",
       "    .dataframe thead th {\n",
       "        text-align: right;\n",
       "    }\n",
       "</style>\n",
       "<table border=\"1\" class=\"dataframe\">\n",
       "  <thead>\n",
       "    <tr style=\"text-align: right;\">\n",
       "      <th></th>\n",
       "      <th>Living Area (m^2)</th>\n",
       "      <th>House Price</th>\n",
       "      <th>Income</th>\n",
       "      <th>House Insurance</th>\n",
       "      <th>Pension Plan</th>\n",
       "      <th>Estim. num. cars_cat</th>\n",
       "      <th>Proba. Sec. Res._cat</th>\n",
       "      <th>Credit</th>\n",
       "      <th>Savings</th>\n",
       "      <th>yearBuilt</th>\n",
       "      <th>Socieconomic Status_cat</th>\n",
       "      <th>Right Address_cat</th>\n",
       "      <th>Type of House_cat</th>\n",
       "      <th>PhoneType_cat</th>\n",
       "      <th>Email</th>\n",
       "      <th>Tenure</th>\n",
       "      <th>NumberofCampaigns</th>\n",
       "      <th>ProdActive</th>\n",
       "      <th>ProdBought</th>\n",
       "      <th>Price Sensitivity</th>\n",
       "      <th>Province_cat_1.0</th>\n",
       "      <th>Province_cat_2.0</th>\n",
       "      <th>Province_cat_3.0</th>\n",
       "      <th>Province_cat_4.0</th>\n",
       "      <th>Province_cat_5.0</th>\n",
       "      <th>Province_cat_6.0</th>\n",
       "      <th>Province_cat_7.0</th>\n",
       "      <th>Province_cat_8.0</th>\n",
       "      <th>Province_cat_9.0</th>\n",
       "      <th>Province_cat_10.0</th>\n",
       "      <th>Province_cat_11.0</th>\n",
       "      <th>Province_cat_12.0</th>\n",
       "      <th>Province_cat_13.0</th>\n",
       "      <th>Province_cat_14.0</th>\n",
       "      <th>Province_cat_15.0</th>\n",
       "      <th>Province_cat_16.0</th>\n",
       "      <th>Province_cat_17.0</th>\n",
       "      <th>Province_cat_18.0</th>\n",
       "      <th>Province_cat_19.0</th>\n",
       "      <th>Province_cat_20.0</th>\n",
       "      <th>Province_cat_21.0</th>\n",
       "      <th>Province_cat_22.0</th>\n",
       "      <th>Province_cat_23.0</th>\n",
       "      <th>Province_cat_24.0</th>\n",
       "      <th>Province_cat_25.0</th>\n",
       "      <th>Province_cat_26.0</th>\n",
       "      <th>Province_cat_27.0</th>\n",
       "      <th>Province_cat_28.0</th>\n",
       "      <th>Province_cat_29.0</th>\n",
       "      <th>Province_cat_30.0</th>\n",
       "      <th>Province_cat_31.0</th>\n",
       "      <th>Province_cat_32.0</th>\n",
       "      <th>Province_cat_33.0</th>\n",
       "    </tr>\n",
       "    <tr>\n",
       "      <th>index</th>\n",
       "      <th></th>\n",
       "      <th></th>\n",
       "      <th></th>\n",
       "      <th></th>\n",
       "      <th></th>\n",
       "      <th></th>\n",
       "      <th></th>\n",
       "      <th></th>\n",
       "      <th></th>\n",
       "      <th></th>\n",
       "      <th></th>\n",
       "      <th></th>\n",
       "      <th></th>\n",
       "      <th></th>\n",
       "      <th></th>\n",
       "      <th></th>\n",
       "      <th></th>\n",
       "      <th></th>\n",
       "      <th></th>\n",
       "      <th></th>\n",
       "      <th></th>\n",
       "      <th></th>\n",
       "      <th></th>\n",
       "      <th></th>\n",
       "      <th></th>\n",
       "      <th></th>\n",
       "      <th></th>\n",
       "      <th></th>\n",
       "      <th></th>\n",
       "      <th></th>\n",
       "      <th></th>\n",
       "      <th></th>\n",
       "      <th></th>\n",
       "      <th></th>\n",
       "      <th></th>\n",
       "      <th></th>\n",
       "      <th></th>\n",
       "      <th></th>\n",
       "      <th></th>\n",
       "      <th></th>\n",
       "      <th></th>\n",
       "      <th></th>\n",
       "      <th></th>\n",
       "      <th></th>\n",
       "      <th></th>\n",
       "      <th></th>\n",
       "      <th></th>\n",
       "      <th></th>\n",
       "      <th></th>\n",
       "      <th></th>\n",
       "      <th></th>\n",
       "      <th></th>\n",
       "      <th></th>\n",
       "    </tr>\n",
       "  </thead>\n",
       "  <tbody>\n",
       "    <tr>\n",
       "      <th>0</th>\n",
       "      <td>60.4474</td>\n",
       "      <td>230139.624195</td>\n",
       "      <td>62842.06971</td>\n",
       "      <td>8010.6894</td>\n",
       "      <td>40289.464296</td>\n",
       "      <td>1.0</td>\n",
       "      <td>0.0</td>\n",
       "      <td>18386.272962</td>\n",
       "      <td>56033.07732</td>\n",
       "      <td>1961.0</td>\n",
       "      <td>2.0</td>\n",
       "      <td>0.0</td>\n",
       "      <td>1.0</td>\n",
       "      <td>0.0</td>\n",
       "      <td>0.0</td>\n",
       "      <td>2011.0</td>\n",
       "      <td>4.0</td>\n",
       "      <td>0.0</td>\n",
       "      <td>0.0</td>\n",
       "      <td>6.0</td>\n",
       "      <td>0</td>\n",
       "      <td>0</td>\n",
       "      <td>0</td>\n",
       "      <td>0</td>\n",
       "      <td>0</td>\n",
       "      <td>0</td>\n",
       "      <td>0</td>\n",
       "      <td>0</td>\n",
       "      <td>0</td>\n",
       "      <td>0</td>\n",
       "      <td>0</td>\n",
       "      <td>0</td>\n",
       "      <td>0</td>\n",
       "      <td>0</td>\n",
       "      <td>0</td>\n",
       "      <td>0</td>\n",
       "      <td>0</td>\n",
       "      <td>0</td>\n",
       "      <td>0</td>\n",
       "      <td>0</td>\n",
       "      <td>0</td>\n",
       "      <td>1</td>\n",
       "      <td>0</td>\n",
       "      <td>0</td>\n",
       "      <td>0</td>\n",
       "      <td>0</td>\n",
       "      <td>0</td>\n",
       "      <td>0</td>\n",
       "      <td>0</td>\n",
       "      <td>0</td>\n",
       "      <td>0</td>\n",
       "      <td>0</td>\n",
       "      <td>0</td>\n",
       "    </tr>\n",
       "    <tr>\n",
       "      <th>1</th>\n",
       "      <td>78.0148</td>\n",
       "      <td>119859.179895</td>\n",
       "      <td>21367.73331</td>\n",
       "      <td>2678.2794</td>\n",
       "      <td>13824.893096</td>\n",
       "      <td>0.0</td>\n",
       "      <td>0.0</td>\n",
       "      <td>6240.219762</td>\n",
       "      <td>0.00000</td>\n",
       "      <td>1955.0</td>\n",
       "      <td>1.0</td>\n",
       "      <td>0.0</td>\n",
       "      <td>1.0</td>\n",
       "      <td>0.0</td>\n",
       "      <td>0.0</td>\n",
       "      <td>2012.0</td>\n",
       "      <td>2.0</td>\n",
       "      <td>0.0</td>\n",
       "      <td>0.0</td>\n",
       "      <td>5.0</td>\n",
       "      <td>0</td>\n",
       "      <td>0</td>\n",
       "      <td>0</td>\n",
       "      <td>0</td>\n",
       "      <td>0</td>\n",
       "      <td>0</td>\n",
       "      <td>0</td>\n",
       "      <td>0</td>\n",
       "      <td>0</td>\n",
       "      <td>0</td>\n",
       "      <td>0</td>\n",
       "      <td>0</td>\n",
       "      <td>0</td>\n",
       "      <td>0</td>\n",
       "      <td>0</td>\n",
       "      <td>0</td>\n",
       "      <td>0</td>\n",
       "      <td>0</td>\n",
       "      <td>0</td>\n",
       "      <td>0</td>\n",
       "      <td>0</td>\n",
       "      <td>0</td>\n",
       "      <td>0</td>\n",
       "      <td>0</td>\n",
       "      <td>0</td>\n",
       "      <td>0</td>\n",
       "      <td>0</td>\n",
       "      <td>0</td>\n",
       "      <td>0</td>\n",
       "      <td>0</td>\n",
       "      <td>1</td>\n",
       "      <td>0</td>\n",
       "      <td>0</td>\n",
       "    </tr>\n",
       "  </tbody>\n",
       "</table>\n",
       "</div>"
      ],
      "text/plain": [
       "       Living Area (m^2)    House Price       Income  House Insurance  \\\n",
       "index                                                                   \n",
       "0                60.4474  230139.624195  62842.06971        8010.6894   \n",
       "1                78.0148  119859.179895  21367.73331        2678.2794   \n",
       "\n",
       "       Pension Plan  Estim. num. cars_cat  Proba. Sec. Res._cat        Credit  \\\n",
       "index                                                                           \n",
       "0      40289.464296                   1.0                   0.0  18386.272962   \n",
       "1      13824.893096                   0.0                   0.0   6240.219762   \n",
       "\n",
       "           Savings  yearBuilt  Socieconomic Status_cat  Right Address_cat  \\\n",
       "index                                                                       \n",
       "0      56033.07732     1961.0                      2.0                0.0   \n",
       "1          0.00000     1955.0                      1.0                0.0   \n",
       "\n",
       "       Type of House_cat  PhoneType_cat  Email  Tenure  NumberofCampaigns  \\\n",
       "index                                                                       \n",
       "0                    1.0            0.0    0.0  2011.0                4.0   \n",
       "1                    1.0            0.0    0.0  2012.0                2.0   \n",
       "\n",
       "       ProdActive  ProdBought  Price Sensitivity  Province_cat_1.0  \\\n",
       "index                                                                \n",
       "0             0.0         0.0                6.0                 0   \n",
       "1             0.0         0.0                5.0                 0   \n",
       "\n",
       "       Province_cat_2.0  Province_cat_3.0  Province_cat_4.0  Province_cat_5.0  \\\n",
       "index                                                                           \n",
       "0                     0                 0                 0                 0   \n",
       "1                     0                 0                 0                 0   \n",
       "\n",
       "       Province_cat_6.0  Province_cat_7.0  Province_cat_8.0  Province_cat_9.0  \\\n",
       "index                                                                           \n",
       "0                     0                 0                 0                 0   \n",
       "1                     0                 0                 0                 0   \n",
       "\n",
       "       Province_cat_10.0  Province_cat_11.0  Province_cat_12.0  \\\n",
       "index                                                            \n",
       "0                      0                  0                  0   \n",
       "1                      0                  0                  0   \n",
       "\n",
       "       Province_cat_13.0  Province_cat_14.0  Province_cat_15.0  \\\n",
       "index                                                            \n",
       "0                      0                  0                  0   \n",
       "1                      0                  0                  0   \n",
       "\n",
       "       Province_cat_16.0  Province_cat_17.0  Province_cat_18.0  \\\n",
       "index                                                            \n",
       "0                      0                  0                  0   \n",
       "1                      0                  0                  0   \n",
       "\n",
       "       Province_cat_19.0  Province_cat_20.0  Province_cat_21.0  \\\n",
       "index                                                            \n",
       "0                      0                  0                  0   \n",
       "1                      0                  0                  0   \n",
       "\n",
       "       Province_cat_22.0  Province_cat_23.0  Province_cat_24.0  \\\n",
       "index                                                            \n",
       "0                      1                  0                  0   \n",
       "1                      0                  0                  0   \n",
       "\n",
       "       Province_cat_25.0  Province_cat_26.0  Province_cat_27.0  \\\n",
       "index                                                            \n",
       "0                      0                  0                  0   \n",
       "1                      0                  0                  0   \n",
       "\n",
       "       Province_cat_28.0  Province_cat_29.0  Province_cat_30.0  \\\n",
       "index                                                            \n",
       "0                      0                  0                  0   \n",
       "1                      0                  0                  0   \n",
       "\n",
       "       Province_cat_31.0  Province_cat_32.0  Province_cat_33.0  \n",
       "index                                                           \n",
       "0                      0                  0                  0  \n",
       "1                      1                  0                  0  "
      ]
     },
     "execution_count": 8,
     "metadata": {},
     "output_type": "execute_result"
    }
   ],
   "source": [
    "db_10k_final.head(2)"
   ]
  },
  {
   "cell_type": "markdown",
   "metadata": {},
   "source": [
    "## 2. Additional Data Preprocessing\n",
    "\n",
    "We will create a copy of our datasets where we take the logarithm of the continuous features (which have very dissimilar scales, specially if we compare them to the categorical features, which can be harmful for the performance of linear models).\n",
    "\n",
    "This will also reduce the skew of this variables, making them look closer to normal distributions, which can also help respect some assumptions concerning linear models as well."
   ]
  },
  {
   "cell_type": "code",
   "execution_count": 9,
   "metadata": {},
   "outputs": [
    {
     "data": {
      "text/html": [
       "<div>\n",
       "<style scoped>\n",
       "    .dataframe tbody tr th:only-of-type {\n",
       "        vertical-align: middle;\n",
       "    }\n",
       "\n",
       "    .dataframe tbody tr th {\n",
       "        vertical-align: top;\n",
       "    }\n",
       "\n",
       "    .dataframe thead th {\n",
       "        text-align: right;\n",
       "    }\n",
       "</style>\n",
       "<table border=\"1\" class=\"dataframe\">\n",
       "  <thead>\n",
       "    <tr style=\"text-align: right;\">\n",
       "      <th></th>\n",
       "      <th>Living Area (m^2)</th>\n",
       "      <th>House Price</th>\n",
       "      <th>Income</th>\n",
       "      <th>House Insurance</th>\n",
       "      <th>Pension Plan</th>\n",
       "      <th>Estim. num. cars_cat</th>\n",
       "      <th>Proba. Sec. Res._cat</th>\n",
       "      <th>Credit</th>\n",
       "      <th>Savings</th>\n",
       "      <th>yearBuilt</th>\n",
       "      <th>Socieconomic Status_cat</th>\n",
       "      <th>Right Address_cat</th>\n",
       "      <th>Type of House_cat</th>\n",
       "      <th>PhoneType_cat</th>\n",
       "      <th>Email</th>\n",
       "      <th>Tenure</th>\n",
       "      <th>NumberofCampaigns</th>\n",
       "      <th>ProdActive</th>\n",
       "      <th>ProdBought</th>\n",
       "      <th>Price Sensitivity</th>\n",
       "      <th>Province_cat_1.0</th>\n",
       "      <th>Province_cat_2.0</th>\n",
       "      <th>Province_cat_3.0</th>\n",
       "      <th>Province_cat_4.0</th>\n",
       "      <th>Province_cat_5.0</th>\n",
       "      <th>Province_cat_6.0</th>\n",
       "      <th>Province_cat_7.0</th>\n",
       "      <th>Province_cat_8.0</th>\n",
       "      <th>Province_cat_9.0</th>\n",
       "      <th>Province_cat_10.0</th>\n",
       "      <th>Province_cat_11.0</th>\n",
       "      <th>Province_cat_12.0</th>\n",
       "      <th>Province_cat_13.0</th>\n",
       "      <th>Province_cat_14.0</th>\n",
       "      <th>Province_cat_15.0</th>\n",
       "      <th>Province_cat_16.0</th>\n",
       "      <th>Province_cat_17.0</th>\n",
       "      <th>Province_cat_18.0</th>\n",
       "      <th>Province_cat_19.0</th>\n",
       "      <th>Province_cat_20.0</th>\n",
       "      <th>Province_cat_21.0</th>\n",
       "      <th>Province_cat_22.0</th>\n",
       "      <th>Province_cat_23.0</th>\n",
       "      <th>Province_cat_24.0</th>\n",
       "      <th>Province_cat_25.0</th>\n",
       "      <th>Province_cat_26.0</th>\n",
       "      <th>Province_cat_27.0</th>\n",
       "      <th>Province_cat_28.0</th>\n",
       "      <th>Province_cat_29.0</th>\n",
       "      <th>Province_cat_30.0</th>\n",
       "      <th>Province_cat_31.0</th>\n",
       "      <th>Province_cat_32.0</th>\n",
       "      <th>Province_cat_33.0</th>\n",
       "      <th>Sales</th>\n",
       "      <th>Premium Offered</th>\n",
       "    </tr>\n",
       "  </thead>\n",
       "  <tbody>\n",
       "    <tr>\n",
       "      <th>count</th>\n",
       "      <td>20000.000000</td>\n",
       "      <td>2.000000e+04</td>\n",
       "      <td>2.000000e+04</td>\n",
       "      <td>20000.000000</td>\n",
       "      <td>2.000000e+04</td>\n",
       "      <td>20000.000000</td>\n",
       "      <td>20000.000000</td>\n",
       "      <td>2.000000e+04</td>\n",
       "      <td>2.000000e+04</td>\n",
       "      <td>20000.000000</td>\n",
       "      <td>20000.00000</td>\n",
       "      <td>20000.000000</td>\n",
       "      <td>20000.000000</td>\n",
       "      <td>20000.000000</td>\n",
       "      <td>20000.000000</td>\n",
       "      <td>20000.000000</td>\n",
       "      <td>20000.000000</td>\n",
       "      <td>20000.000000</td>\n",
       "      <td>20000.000000</td>\n",
       "      <td>20000.000000</td>\n",
       "      <td>20000.000000</td>\n",
       "      <td>20000.000000</td>\n",
       "      <td>20000.000000</td>\n",
       "      <td>20000.000000</td>\n",
       "      <td>20000.000000</td>\n",
       "      <td>20000.00000</td>\n",
       "      <td>20000.000000</td>\n",
       "      <td>20000.00000</td>\n",
       "      <td>20000.000000</td>\n",
       "      <td>20000.000000</td>\n",
       "      <td>20000.000000</td>\n",
       "      <td>20000.000000</td>\n",
       "      <td>20000.000000</td>\n",
       "      <td>20000.000000</td>\n",
       "      <td>20000.000000</td>\n",
       "      <td>20000.000000</td>\n",
       "      <td>20000.000000</td>\n",
       "      <td>20000.000000</td>\n",
       "      <td>20000.00000</td>\n",
       "      <td>20000.0000</td>\n",
       "      <td>20000.000000</td>\n",
       "      <td>20000.000000</td>\n",
       "      <td>20000.00000</td>\n",
       "      <td>20000.000000</td>\n",
       "      <td>20000.000000</td>\n",
       "      <td>20000.000000</td>\n",
       "      <td>20000.000000</td>\n",
       "      <td>20000.000000</td>\n",
       "      <td>20000.000000</td>\n",
       "      <td>20000.00000</td>\n",
       "      <td>20000.000000</td>\n",
       "      <td>20000.00000</td>\n",
       "      <td>20000.000000</td>\n",
       "      <td>20000.000000</td>\n",
       "      <td>20000.000000</td>\n",
       "    </tr>\n",
       "    <tr>\n",
       "      <th>mean</th>\n",
       "      <td>176.064864</td>\n",
       "      <td>2.020600e+05</td>\n",
       "      <td>5.498317e+04</td>\n",
       "      <td>6976.292448</td>\n",
       "      <td>3.536280e+04</td>\n",
       "      <td>0.404800</td>\n",
       "      <td>0.027150</td>\n",
       "      <td>1.608080e+04</td>\n",
       "      <td>2.268223e+04</td>\n",
       "      <td>1979.630350</td>\n",
       "      <td>0.86165</td>\n",
       "      <td>0.040600</td>\n",
       "      <td>0.849600</td>\n",
       "      <td>0.638100</td>\n",
       "      <td>0.074450</td>\n",
       "      <td>2007.118950</td>\n",
       "      <td>3.709200</td>\n",
       "      <td>0.050700</td>\n",
       "      <td>0.320200</td>\n",
       "      <td>4.909150</td>\n",
       "      <td>0.041250</td>\n",
       "      <td>0.006150</td>\n",
       "      <td>0.004550</td>\n",
       "      <td>0.298950</td>\n",
       "      <td>0.006550</td>\n",
       "      <td>0.05280</td>\n",
       "      <td>0.004650</td>\n",
       "      <td>0.02465</td>\n",
       "      <td>0.003050</td>\n",
       "      <td>0.018500</td>\n",
       "      <td>0.023600</td>\n",
       "      <td>0.016550</td>\n",
       "      <td>0.020150</td>\n",
       "      <td>0.016250</td>\n",
       "      <td>0.028550</td>\n",
       "      <td>0.008750</td>\n",
       "      <td>0.010700</td>\n",
       "      <td>0.008500</td>\n",
       "      <td>0.15200</td>\n",
       "      <td>0.0001</td>\n",
       "      <td>0.015000</td>\n",
       "      <td>0.003550</td>\n",
       "      <td>0.00530</td>\n",
       "      <td>0.005450</td>\n",
       "      <td>0.031600</td>\n",
       "      <td>0.053450</td>\n",
       "      <td>0.001600</td>\n",
       "      <td>0.020850</td>\n",
       "      <td>0.005400</td>\n",
       "      <td>0.00985</td>\n",
       "      <td>0.042950</td>\n",
       "      <td>0.00885</td>\n",
       "      <td>0.034900</td>\n",
       "      <td>0.085750</td>\n",
       "      <td>13.831877</td>\n",
       "    </tr>\n",
       "    <tr>\n",
       "      <th>std</th>\n",
       "      <td>489.323572</td>\n",
       "      <td>2.093864e+05</td>\n",
       "      <td>5.750219e+04</td>\n",
       "      <td>7392.728807</td>\n",
       "      <td>3.668966e+04</td>\n",
       "      <td>0.673394</td>\n",
       "      <td>0.199286</td>\n",
       "      <td>1.683950e+04</td>\n",
       "      <td>6.912864e+04</td>\n",
       "      <td>19.893026</td>\n",
       "      <td>0.67892</td>\n",
       "      <td>0.197367</td>\n",
       "      <td>0.357472</td>\n",
       "      <td>0.480562</td>\n",
       "      <td>0.262508</td>\n",
       "      <td>6.715032</td>\n",
       "      <td>4.156429</td>\n",
       "      <td>0.238186</td>\n",
       "      <td>0.706397</td>\n",
       "      <td>0.560814</td>\n",
       "      <td>0.198873</td>\n",
       "      <td>0.078182</td>\n",
       "      <td>0.067302</td>\n",
       "      <td>0.457809</td>\n",
       "      <td>0.080669</td>\n",
       "      <td>0.22364</td>\n",
       "      <td>0.068034</td>\n",
       "      <td>0.15506</td>\n",
       "      <td>0.055144</td>\n",
       "      <td>0.134754</td>\n",
       "      <td>0.151803</td>\n",
       "      <td>0.127581</td>\n",
       "      <td>0.140517</td>\n",
       "      <td>0.126439</td>\n",
       "      <td>0.166542</td>\n",
       "      <td>0.093134</td>\n",
       "      <td>0.102888</td>\n",
       "      <td>0.091805</td>\n",
       "      <td>0.35903</td>\n",
       "      <td>0.0100</td>\n",
       "      <td>0.121555</td>\n",
       "      <td>0.059478</td>\n",
       "      <td>0.07261</td>\n",
       "      <td>0.073625</td>\n",
       "      <td>0.174937</td>\n",
       "      <td>0.224935</td>\n",
       "      <td>0.039969</td>\n",
       "      <td>0.142886</td>\n",
       "      <td>0.073288</td>\n",
       "      <td>0.09876</td>\n",
       "      <td>0.202749</td>\n",
       "      <td>0.09366</td>\n",
       "      <td>0.183531</td>\n",
       "      <td>0.280002</td>\n",
       "      <td>2.774808</td>\n",
       "    </tr>\n",
       "    <tr>\n",
       "      <th>min</th>\n",
       "      <td>0.000000</td>\n",
       "      <td>9.784007e+03</td>\n",
       "      <td>2.190805e+03</td>\n",
       "      <td>186.013800</td>\n",
       "      <td>1.661723e+03</td>\n",
       "      <td>0.000000</td>\n",
       "      <td>0.000000</td>\n",
       "      <td>6.173887e+02</td>\n",
       "      <td>0.000000e+00</td>\n",
       "      <td>1900.000000</td>\n",
       "      <td>0.00000</td>\n",
       "      <td>0.000000</td>\n",
       "      <td>0.000000</td>\n",
       "      <td>0.000000</td>\n",
       "      <td>0.000000</td>\n",
       "      <td>1990.000000</td>\n",
       "      <td>2.000000</td>\n",
       "      <td>0.000000</td>\n",
       "      <td>0.000000</td>\n",
       "      <td>1.000000</td>\n",
       "      <td>0.000000</td>\n",
       "      <td>0.000000</td>\n",
       "      <td>0.000000</td>\n",
       "      <td>0.000000</td>\n",
       "      <td>0.000000</td>\n",
       "      <td>0.00000</td>\n",
       "      <td>0.000000</td>\n",
       "      <td>0.00000</td>\n",
       "      <td>0.000000</td>\n",
       "      <td>0.000000</td>\n",
       "      <td>0.000000</td>\n",
       "      <td>0.000000</td>\n",
       "      <td>0.000000</td>\n",
       "      <td>0.000000</td>\n",
       "      <td>0.000000</td>\n",
       "      <td>0.000000</td>\n",
       "      <td>0.000000</td>\n",
       "      <td>0.000000</td>\n",
       "      <td>0.00000</td>\n",
       "      <td>0.0000</td>\n",
       "      <td>0.000000</td>\n",
       "      <td>0.000000</td>\n",
       "      <td>0.00000</td>\n",
       "      <td>0.000000</td>\n",
       "      <td>0.000000</td>\n",
       "      <td>0.000000</td>\n",
       "      <td>0.000000</td>\n",
       "      <td>0.000000</td>\n",
       "      <td>0.000000</td>\n",
       "      <td>0.00000</td>\n",
       "      <td>0.000000</td>\n",
       "      <td>0.00000</td>\n",
       "      <td>0.000000</td>\n",
       "      <td>0.000000</td>\n",
       "      <td>11.120000</td>\n",
       "    </tr>\n",
       "    <tr>\n",
       "      <th>25%</th>\n",
       "      <td>95.367690</td>\n",
       "      <td>1.397551e+05</td>\n",
       "      <td>3.788288e+04</td>\n",
       "      <td>4774.987800</td>\n",
       "      <td>2.443664e+04</td>\n",
       "      <td>0.000000</td>\n",
       "      <td>0.000000</td>\n",
       "      <td>1.107006e+04</td>\n",
       "      <td>0.000000e+00</td>\n",
       "      <td>1972.000000</td>\n",
       "      <td>0.00000</td>\n",
       "      <td>0.000000</td>\n",
       "      <td>1.000000</td>\n",
       "      <td>0.000000</td>\n",
       "      <td>0.000000</td>\n",
       "      <td>2004.000000</td>\n",
       "      <td>2.000000</td>\n",
       "      <td>0.000000</td>\n",
       "      <td>0.000000</td>\n",
       "      <td>5.000000</td>\n",
       "      <td>0.000000</td>\n",
       "      <td>0.000000</td>\n",
       "      <td>0.000000</td>\n",
       "      <td>0.000000</td>\n",
       "      <td>0.000000</td>\n",
       "      <td>0.00000</td>\n",
       "      <td>0.000000</td>\n",
       "      <td>0.00000</td>\n",
       "      <td>0.000000</td>\n",
       "      <td>0.000000</td>\n",
       "      <td>0.000000</td>\n",
       "      <td>0.000000</td>\n",
       "      <td>0.000000</td>\n",
       "      <td>0.000000</td>\n",
       "      <td>0.000000</td>\n",
       "      <td>0.000000</td>\n",
       "      <td>0.000000</td>\n",
       "      <td>0.000000</td>\n",
       "      <td>0.00000</td>\n",
       "      <td>0.0000</td>\n",
       "      <td>0.000000</td>\n",
       "      <td>0.000000</td>\n",
       "      <td>0.00000</td>\n",
       "      <td>0.000000</td>\n",
       "      <td>0.000000</td>\n",
       "      <td>0.000000</td>\n",
       "      <td>0.000000</td>\n",
       "      <td>0.000000</td>\n",
       "      <td>0.000000</td>\n",
       "      <td>0.00000</td>\n",
       "      <td>0.000000</td>\n",
       "      <td>0.00000</td>\n",
       "      <td>0.000000</td>\n",
       "      <td>0.000000</td>\n",
       "      <td>11.120000</td>\n",
       "    </tr>\n",
       "    <tr>\n",
       "      <th>50%</th>\n",
       "      <td>118.084040</td>\n",
       "      <td>1.701719e+05</td>\n",
       "      <td>4.619851e+04</td>\n",
       "      <td>5854.627800</td>\n",
       "      <td>2.979942e+04</td>\n",
       "      <td>0.000000</td>\n",
       "      <td>0.000000</td>\n",
       "      <td>1.351628e+04</td>\n",
       "      <td>0.000000e+00</td>\n",
       "      <td>1980.000000</td>\n",
       "      <td>1.00000</td>\n",
       "      <td>0.000000</td>\n",
       "      <td>1.000000</td>\n",
       "      <td>1.000000</td>\n",
       "      <td>0.000000</td>\n",
       "      <td>2010.000000</td>\n",
       "      <td>2.000000</td>\n",
       "      <td>0.000000</td>\n",
       "      <td>0.000000</td>\n",
       "      <td>5.000000</td>\n",
       "      <td>0.000000</td>\n",
       "      <td>0.000000</td>\n",
       "      <td>0.000000</td>\n",
       "      <td>0.000000</td>\n",
       "      <td>0.000000</td>\n",
       "      <td>0.00000</td>\n",
       "      <td>0.000000</td>\n",
       "      <td>0.00000</td>\n",
       "      <td>0.000000</td>\n",
       "      <td>0.000000</td>\n",
       "      <td>0.000000</td>\n",
       "      <td>0.000000</td>\n",
       "      <td>0.000000</td>\n",
       "      <td>0.000000</td>\n",
       "      <td>0.000000</td>\n",
       "      <td>0.000000</td>\n",
       "      <td>0.000000</td>\n",
       "      <td>0.000000</td>\n",
       "      <td>0.00000</td>\n",
       "      <td>0.0000</td>\n",
       "      <td>0.000000</td>\n",
       "      <td>0.000000</td>\n",
       "      <td>0.00000</td>\n",
       "      <td>0.000000</td>\n",
       "      <td>0.000000</td>\n",
       "      <td>0.000000</td>\n",
       "      <td>0.000000</td>\n",
       "      <td>0.000000</td>\n",
       "      <td>0.000000</td>\n",
       "      <td>0.00000</td>\n",
       "      <td>0.000000</td>\n",
       "      <td>0.00000</td>\n",
       "      <td>0.000000</td>\n",
       "      <td>0.000000</td>\n",
       "      <td>14.500000</td>\n",
       "    </tr>\n",
       "    <tr>\n",
       "      <th>75%</th>\n",
       "      <td>150.351240</td>\n",
       "      <td>2.103921e+05</td>\n",
       "      <td>5.728087e+04</td>\n",
       "      <td>7269.013800</td>\n",
       "      <td>3.681443e+04</td>\n",
       "      <td>1.000000</td>\n",
       "      <td>0.000000</td>\n",
       "      <td>1.675091e+04</td>\n",
       "      <td>3.991332e+04</td>\n",
       "      <td>1993.000000</td>\n",
       "      <td>1.00000</td>\n",
       "      <td>0.000000</td>\n",
       "      <td>1.000000</td>\n",
       "      <td>1.000000</td>\n",
       "      <td>0.000000</td>\n",
       "      <td>2012.000000</td>\n",
       "      <td>4.000000</td>\n",
       "      <td>0.000000</td>\n",
       "      <td>0.000000</td>\n",
       "      <td>5.000000</td>\n",
       "      <td>0.000000</td>\n",
       "      <td>0.000000</td>\n",
       "      <td>0.000000</td>\n",
       "      <td>1.000000</td>\n",
       "      <td>0.000000</td>\n",
       "      <td>0.00000</td>\n",
       "      <td>0.000000</td>\n",
       "      <td>0.00000</td>\n",
       "      <td>0.000000</td>\n",
       "      <td>0.000000</td>\n",
       "      <td>0.000000</td>\n",
       "      <td>0.000000</td>\n",
       "      <td>0.000000</td>\n",
       "      <td>0.000000</td>\n",
       "      <td>0.000000</td>\n",
       "      <td>0.000000</td>\n",
       "      <td>0.000000</td>\n",
       "      <td>0.000000</td>\n",
       "      <td>0.00000</td>\n",
       "      <td>0.0000</td>\n",
       "      <td>0.000000</td>\n",
       "      <td>0.000000</td>\n",
       "      <td>0.00000</td>\n",
       "      <td>0.000000</td>\n",
       "      <td>0.000000</td>\n",
       "      <td>0.000000</td>\n",
       "      <td>0.000000</td>\n",
       "      <td>0.000000</td>\n",
       "      <td>0.000000</td>\n",
       "      <td>0.00000</td>\n",
       "      <td>0.000000</td>\n",
       "      <td>0.00000</td>\n",
       "      <td>0.000000</td>\n",
       "      <td>0.000000</td>\n",
       "      <td>14.500000</td>\n",
       "    </tr>\n",
       "    <tr>\n",
       "      <th>max</th>\n",
       "      <td>33077.179640</td>\n",
       "      <td>1.495498e+07</td>\n",
       "      <td>4.106372e+06</td>\n",
       "      <td>527866.417800</td>\n",
       "      <td>2.620520e+06</td>\n",
       "      <td>3.000000</td>\n",
       "      <td>2.000000</td>\n",
       "      <td>1.202556e+06</td>\n",
       "      <td>4.884174e+06</td>\n",
       "      <td>2012.000000</td>\n",
       "      <td>3.00000</td>\n",
       "      <td>1.000000</td>\n",
       "      <td>1.000000</td>\n",
       "      <td>1.000000</td>\n",
       "      <td>1.000000</td>\n",
       "      <td>2013.000000</td>\n",
       "      <td>32.000000</td>\n",
       "      <td>3.000000</td>\n",
       "      <td>6.000000</td>\n",
       "      <td>6.000000</td>\n",
       "      <td>1.000000</td>\n",
       "      <td>1.000000</td>\n",
       "      <td>1.000000</td>\n",
       "      <td>1.000000</td>\n",
       "      <td>1.000000</td>\n",
       "      <td>1.00000</td>\n",
       "      <td>1.000000</td>\n",
       "      <td>1.00000</td>\n",
       "      <td>1.000000</td>\n",
       "      <td>1.000000</td>\n",
       "      <td>1.000000</td>\n",
       "      <td>1.000000</td>\n",
       "      <td>1.000000</td>\n",
       "      <td>1.000000</td>\n",
       "      <td>1.000000</td>\n",
       "      <td>1.000000</td>\n",
       "      <td>1.000000</td>\n",
       "      <td>1.000000</td>\n",
       "      <td>1.00000</td>\n",
       "      <td>1.0000</td>\n",
       "      <td>1.000000</td>\n",
       "      <td>1.000000</td>\n",
       "      <td>1.00000</td>\n",
       "      <td>1.000000</td>\n",
       "      <td>1.000000</td>\n",
       "      <td>1.000000</td>\n",
       "      <td>1.000000</td>\n",
       "      <td>1.000000</td>\n",
       "      <td>1.000000</td>\n",
       "      <td>1.00000</td>\n",
       "      <td>1.000000</td>\n",
       "      <td>1.00000</td>\n",
       "      <td>1.000000</td>\n",
       "      <td>1.000000</td>\n",
       "      <td>21.850000</td>\n",
       "    </tr>\n",
       "  </tbody>\n",
       "</table>\n",
       "</div>"
      ],
      "text/plain": [
       "       Living Area (m^2)   House Price        Income  House Insurance  \\\n",
       "count       20000.000000  2.000000e+04  2.000000e+04     20000.000000   \n",
       "mean          176.064864  2.020600e+05  5.498317e+04      6976.292448   \n",
       "std           489.323572  2.093864e+05  5.750219e+04      7392.728807   \n",
       "min             0.000000  9.784007e+03  2.190805e+03       186.013800   \n",
       "25%            95.367690  1.397551e+05  3.788288e+04      4774.987800   \n",
       "50%           118.084040  1.701719e+05  4.619851e+04      5854.627800   \n",
       "75%           150.351240  2.103921e+05  5.728087e+04      7269.013800   \n",
       "max         33077.179640  1.495498e+07  4.106372e+06    527866.417800   \n",
       "\n",
       "       Pension Plan  Estim. num. cars_cat  Proba. Sec. Res._cat        Credit  \\\n",
       "count  2.000000e+04          20000.000000          20000.000000  2.000000e+04   \n",
       "mean   3.536280e+04              0.404800              0.027150  1.608080e+04   \n",
       "std    3.668966e+04              0.673394              0.199286  1.683950e+04   \n",
       "min    1.661723e+03              0.000000              0.000000  6.173887e+02   \n",
       "25%    2.443664e+04              0.000000              0.000000  1.107006e+04   \n",
       "50%    2.979942e+04              0.000000              0.000000  1.351628e+04   \n",
       "75%    3.681443e+04              1.000000              0.000000  1.675091e+04   \n",
       "max    2.620520e+06              3.000000              2.000000  1.202556e+06   \n",
       "\n",
       "            Savings     yearBuilt  Socieconomic Status_cat  Right Address_cat  \\\n",
       "count  2.000000e+04  20000.000000              20000.00000       20000.000000   \n",
       "mean   2.268223e+04   1979.630350                  0.86165           0.040600   \n",
       "std    6.912864e+04     19.893026                  0.67892           0.197367   \n",
       "min    0.000000e+00   1900.000000                  0.00000           0.000000   \n",
       "25%    0.000000e+00   1972.000000                  0.00000           0.000000   \n",
       "50%    0.000000e+00   1980.000000                  1.00000           0.000000   \n",
       "75%    3.991332e+04   1993.000000                  1.00000           0.000000   \n",
       "max    4.884174e+06   2012.000000                  3.00000           1.000000   \n",
       "\n",
       "       Type of House_cat  PhoneType_cat         Email        Tenure  \\\n",
       "count       20000.000000   20000.000000  20000.000000  20000.000000   \n",
       "mean            0.849600       0.638100      0.074450   2007.118950   \n",
       "std             0.357472       0.480562      0.262508      6.715032   \n",
       "min             0.000000       0.000000      0.000000   1990.000000   \n",
       "25%             1.000000       0.000000      0.000000   2004.000000   \n",
       "50%             1.000000       1.000000      0.000000   2010.000000   \n",
       "75%             1.000000       1.000000      0.000000   2012.000000   \n",
       "max             1.000000       1.000000      1.000000   2013.000000   \n",
       "\n",
       "       NumberofCampaigns    ProdActive    ProdBought  Price Sensitivity  \\\n",
       "count       20000.000000  20000.000000  20000.000000       20000.000000   \n",
       "mean            3.709200      0.050700      0.320200           4.909150   \n",
       "std             4.156429      0.238186      0.706397           0.560814   \n",
       "min             2.000000      0.000000      0.000000           1.000000   \n",
       "25%             2.000000      0.000000      0.000000           5.000000   \n",
       "50%             2.000000      0.000000      0.000000           5.000000   \n",
       "75%             4.000000      0.000000      0.000000           5.000000   \n",
       "max            32.000000      3.000000      6.000000           6.000000   \n",
       "\n",
       "       Province_cat_1.0  Province_cat_2.0  Province_cat_3.0  Province_cat_4.0  \\\n",
       "count      20000.000000      20000.000000      20000.000000      20000.000000   \n",
       "mean           0.041250          0.006150          0.004550          0.298950   \n",
       "std            0.198873          0.078182          0.067302          0.457809   \n",
       "min            0.000000          0.000000          0.000000          0.000000   \n",
       "25%            0.000000          0.000000          0.000000          0.000000   \n",
       "50%            0.000000          0.000000          0.000000          0.000000   \n",
       "75%            0.000000          0.000000          0.000000          1.000000   \n",
       "max            1.000000          1.000000          1.000000          1.000000   \n",
       "\n",
       "       Province_cat_5.0  Province_cat_6.0  Province_cat_7.0  Province_cat_8.0  \\\n",
       "count      20000.000000       20000.00000      20000.000000       20000.00000   \n",
       "mean           0.006550           0.05280          0.004650           0.02465   \n",
       "std            0.080669           0.22364          0.068034           0.15506   \n",
       "min            0.000000           0.00000          0.000000           0.00000   \n",
       "25%            0.000000           0.00000          0.000000           0.00000   \n",
       "50%            0.000000           0.00000          0.000000           0.00000   \n",
       "75%            0.000000           0.00000          0.000000           0.00000   \n",
       "max            1.000000           1.00000          1.000000           1.00000   \n",
       "\n",
       "       Province_cat_9.0  Province_cat_10.0  Province_cat_11.0  \\\n",
       "count      20000.000000       20000.000000       20000.000000   \n",
       "mean           0.003050           0.018500           0.023600   \n",
       "std            0.055144           0.134754           0.151803   \n",
       "min            0.000000           0.000000           0.000000   \n",
       "25%            0.000000           0.000000           0.000000   \n",
       "50%            0.000000           0.000000           0.000000   \n",
       "75%            0.000000           0.000000           0.000000   \n",
       "max            1.000000           1.000000           1.000000   \n",
       "\n",
       "       Province_cat_12.0  Province_cat_13.0  Province_cat_14.0  \\\n",
       "count       20000.000000       20000.000000       20000.000000   \n",
       "mean            0.016550           0.020150           0.016250   \n",
       "std             0.127581           0.140517           0.126439   \n",
       "min             0.000000           0.000000           0.000000   \n",
       "25%             0.000000           0.000000           0.000000   \n",
       "50%             0.000000           0.000000           0.000000   \n",
       "75%             0.000000           0.000000           0.000000   \n",
       "max             1.000000           1.000000           1.000000   \n",
       "\n",
       "       Province_cat_15.0  Province_cat_16.0  Province_cat_17.0  \\\n",
       "count       20000.000000       20000.000000       20000.000000   \n",
       "mean            0.028550           0.008750           0.010700   \n",
       "std             0.166542           0.093134           0.102888   \n",
       "min             0.000000           0.000000           0.000000   \n",
       "25%             0.000000           0.000000           0.000000   \n",
       "50%             0.000000           0.000000           0.000000   \n",
       "75%             0.000000           0.000000           0.000000   \n",
       "max             1.000000           1.000000           1.000000   \n",
       "\n",
       "       Province_cat_18.0  Province_cat_19.0  Province_cat_20.0  \\\n",
       "count       20000.000000        20000.00000         20000.0000   \n",
       "mean            0.008500            0.15200             0.0001   \n",
       "std             0.091805            0.35903             0.0100   \n",
       "min             0.000000            0.00000             0.0000   \n",
       "25%             0.000000            0.00000             0.0000   \n",
       "50%             0.000000            0.00000             0.0000   \n",
       "75%             0.000000            0.00000             0.0000   \n",
       "max             1.000000            1.00000             1.0000   \n",
       "\n",
       "       Province_cat_21.0  Province_cat_22.0  Province_cat_23.0  \\\n",
       "count       20000.000000       20000.000000        20000.00000   \n",
       "mean            0.015000           0.003550            0.00530   \n",
       "std             0.121555           0.059478            0.07261   \n",
       "min             0.000000           0.000000            0.00000   \n",
       "25%             0.000000           0.000000            0.00000   \n",
       "50%             0.000000           0.000000            0.00000   \n",
       "75%             0.000000           0.000000            0.00000   \n",
       "max             1.000000           1.000000            1.00000   \n",
       "\n",
       "       Province_cat_24.0  Province_cat_25.0  Province_cat_26.0  \\\n",
       "count       20000.000000       20000.000000       20000.000000   \n",
       "mean            0.005450           0.031600           0.053450   \n",
       "std             0.073625           0.174937           0.224935   \n",
       "min             0.000000           0.000000           0.000000   \n",
       "25%             0.000000           0.000000           0.000000   \n",
       "50%             0.000000           0.000000           0.000000   \n",
       "75%             0.000000           0.000000           0.000000   \n",
       "max             1.000000           1.000000           1.000000   \n",
       "\n",
       "       Province_cat_27.0  Province_cat_28.0  Province_cat_29.0  \\\n",
       "count       20000.000000       20000.000000       20000.000000   \n",
       "mean            0.001600           0.020850           0.005400   \n",
       "std             0.039969           0.142886           0.073288   \n",
       "min             0.000000           0.000000           0.000000   \n",
       "25%             0.000000           0.000000           0.000000   \n",
       "50%             0.000000           0.000000           0.000000   \n",
       "75%             0.000000           0.000000           0.000000   \n",
       "max             1.000000           1.000000           1.000000   \n",
       "\n",
       "       Province_cat_30.0  Province_cat_31.0  Province_cat_32.0  \\\n",
       "count        20000.00000       20000.000000        20000.00000   \n",
       "mean             0.00985           0.042950            0.00885   \n",
       "std              0.09876           0.202749            0.09366   \n",
       "min              0.00000           0.000000            0.00000   \n",
       "25%              0.00000           0.000000            0.00000   \n",
       "50%              0.00000           0.000000            0.00000   \n",
       "75%              0.00000           0.000000            0.00000   \n",
       "max              1.00000           1.000000            1.00000   \n",
       "\n",
       "       Province_cat_33.0         Sales  Premium Offered  \n",
       "count       20000.000000  20000.000000     20000.000000  \n",
       "mean            0.034900      0.085750        13.831877  \n",
       "std             0.183531      0.280002         2.774808  \n",
       "min             0.000000      0.000000        11.120000  \n",
       "25%             0.000000      0.000000        11.120000  \n",
       "50%             0.000000      0.000000        14.500000  \n",
       "75%             0.000000      0.000000        14.500000  \n",
       "max             1.000000      1.000000        21.850000  "
      ]
     },
     "execution_count": 9,
     "metadata": {},
     "output_type": "execute_result"
    }
   ],
   "source": [
    "db_20k_final.describe()"
   ]
  },
  {
   "cell_type": "code",
   "execution_count": 10,
   "metadata": {},
   "outputs": [],
   "source": [
    "cont_ft = ['Living Area (m^2)','House Price','Income','House Insurance','Pension Plan','Credit','Savings']\n",
    "db_20k_final_log = db_20k_final.copy()\n",
    "for column in cont_ft:\n",
    "    db_20k_final_log[column] = db_20k_final[column].apply(lambda x: np.log(x) if x > 0 else 0)"
   ]
  },
  {
   "cell_type": "code",
   "execution_count": 11,
   "metadata": {},
   "outputs": [
    {
     "data": {
      "text/html": [
       "<div>\n",
       "<style scoped>\n",
       "    .dataframe tbody tr th:only-of-type {\n",
       "        vertical-align: middle;\n",
       "    }\n",
       "\n",
       "    .dataframe tbody tr th {\n",
       "        vertical-align: top;\n",
       "    }\n",
       "\n",
       "    .dataframe thead th {\n",
       "        text-align: right;\n",
       "    }\n",
       "</style>\n",
       "<table border=\"1\" class=\"dataframe\">\n",
       "  <thead>\n",
       "    <tr style=\"text-align: right;\">\n",
       "      <th></th>\n",
       "      <th>Living Area (m^2)</th>\n",
       "      <th>House Price</th>\n",
       "      <th>Income</th>\n",
       "      <th>House Insurance</th>\n",
       "      <th>Pension Plan</th>\n",
       "      <th>Estim. num. cars_cat</th>\n",
       "      <th>Proba. Sec. Res._cat</th>\n",
       "      <th>Credit</th>\n",
       "      <th>Savings</th>\n",
       "      <th>yearBuilt</th>\n",
       "      <th>Socieconomic Status_cat</th>\n",
       "      <th>Right Address_cat</th>\n",
       "      <th>Type of House_cat</th>\n",
       "      <th>PhoneType_cat</th>\n",
       "      <th>Email</th>\n",
       "      <th>Tenure</th>\n",
       "      <th>NumberofCampaigns</th>\n",
       "      <th>ProdActive</th>\n",
       "      <th>ProdBought</th>\n",
       "      <th>Price Sensitivity</th>\n",
       "      <th>Province_cat_1.0</th>\n",
       "      <th>Province_cat_2.0</th>\n",
       "      <th>Province_cat_3.0</th>\n",
       "      <th>Province_cat_4.0</th>\n",
       "      <th>Province_cat_5.0</th>\n",
       "      <th>Province_cat_6.0</th>\n",
       "      <th>Province_cat_7.0</th>\n",
       "      <th>Province_cat_8.0</th>\n",
       "      <th>Province_cat_9.0</th>\n",
       "      <th>Province_cat_10.0</th>\n",
       "      <th>Province_cat_11.0</th>\n",
       "      <th>Province_cat_12.0</th>\n",
       "      <th>Province_cat_13.0</th>\n",
       "      <th>Province_cat_14.0</th>\n",
       "      <th>Province_cat_15.0</th>\n",
       "      <th>Province_cat_16.0</th>\n",
       "      <th>Province_cat_17.0</th>\n",
       "      <th>Province_cat_18.0</th>\n",
       "      <th>Province_cat_19.0</th>\n",
       "      <th>Province_cat_20.0</th>\n",
       "      <th>Province_cat_21.0</th>\n",
       "      <th>Province_cat_22.0</th>\n",
       "      <th>Province_cat_23.0</th>\n",
       "      <th>Province_cat_24.0</th>\n",
       "      <th>Province_cat_25.0</th>\n",
       "      <th>Province_cat_26.0</th>\n",
       "      <th>Province_cat_27.0</th>\n",
       "      <th>Province_cat_28.0</th>\n",
       "      <th>Province_cat_29.0</th>\n",
       "      <th>Province_cat_30.0</th>\n",
       "      <th>Province_cat_31.0</th>\n",
       "      <th>Province_cat_32.0</th>\n",
       "      <th>Province_cat_33.0</th>\n",
       "      <th>Sales</th>\n",
       "      <th>Premium Offered</th>\n",
       "    </tr>\n",
       "  </thead>\n",
       "  <tbody>\n",
       "    <tr>\n",
       "      <th>count</th>\n",
       "      <td>20000.000000</td>\n",
       "      <td>20000.000000</td>\n",
       "      <td>20000.000000</td>\n",
       "      <td>20000.000000</td>\n",
       "      <td>20000.000000</td>\n",
       "      <td>20000.000000</td>\n",
       "      <td>20000.000000</td>\n",
       "      <td>20000.000000</td>\n",
       "      <td>20000.000000</td>\n",
       "      <td>20000.000000</td>\n",
       "      <td>20000.00000</td>\n",
       "      <td>20000.000000</td>\n",
       "      <td>20000.000000</td>\n",
       "      <td>20000.000000</td>\n",
       "      <td>20000.000000</td>\n",
       "      <td>20000.000000</td>\n",
       "      <td>20000.000000</td>\n",
       "      <td>20000.000000</td>\n",
       "      <td>20000.000000</td>\n",
       "      <td>20000.000000</td>\n",
       "      <td>20000.000000</td>\n",
       "      <td>20000.000000</td>\n",
       "      <td>20000.000000</td>\n",
       "      <td>20000.000000</td>\n",
       "      <td>20000.000000</td>\n",
       "      <td>20000.00000</td>\n",
       "      <td>20000.000000</td>\n",
       "      <td>20000.00000</td>\n",
       "      <td>20000.000000</td>\n",
       "      <td>20000.000000</td>\n",
       "      <td>20000.000000</td>\n",
       "      <td>20000.000000</td>\n",
       "      <td>20000.000000</td>\n",
       "      <td>20000.000000</td>\n",
       "      <td>20000.000000</td>\n",
       "      <td>20000.000000</td>\n",
       "      <td>20000.000000</td>\n",
       "      <td>20000.000000</td>\n",
       "      <td>20000.00000</td>\n",
       "      <td>20000.0000</td>\n",
       "      <td>20000.000000</td>\n",
       "      <td>20000.000000</td>\n",
       "      <td>20000.00000</td>\n",
       "      <td>20000.000000</td>\n",
       "      <td>20000.000000</td>\n",
       "      <td>20000.000000</td>\n",
       "      <td>20000.000000</td>\n",
       "      <td>20000.000000</td>\n",
       "      <td>20000.000000</td>\n",
       "      <td>20000.00000</td>\n",
       "      <td>20000.000000</td>\n",
       "      <td>20000.00000</td>\n",
       "      <td>20000.000000</td>\n",
       "      <td>20000.000000</td>\n",
       "      <td>20000.000000</td>\n",
       "    </tr>\n",
       "    <tr>\n",
       "      <th>mean</th>\n",
       "      <td>4.823895</td>\n",
       "      <td>12.065072</td>\n",
       "      <td>10.760635</td>\n",
       "      <td>8.691683</td>\n",
       "      <td>10.321742</td>\n",
       "      <td>0.404800</td>\n",
       "      <td>0.027150</td>\n",
       "      <td>9.530779</td>\n",
       "      <td>3.839925</td>\n",
       "      <td>1979.630350</td>\n",
       "      <td>0.86165</td>\n",
       "      <td>0.040600</td>\n",
       "      <td>0.849600</td>\n",
       "      <td>0.638100</td>\n",
       "      <td>0.074450</td>\n",
       "      <td>2007.118950</td>\n",
       "      <td>3.709200</td>\n",
       "      <td>0.050700</td>\n",
       "      <td>0.320200</td>\n",
       "      <td>4.909150</td>\n",
       "      <td>0.041250</td>\n",
       "      <td>0.006150</td>\n",
       "      <td>0.004550</td>\n",
       "      <td>0.298950</td>\n",
       "      <td>0.006550</td>\n",
       "      <td>0.05280</td>\n",
       "      <td>0.004650</td>\n",
       "      <td>0.02465</td>\n",
       "      <td>0.003050</td>\n",
       "      <td>0.018500</td>\n",
       "      <td>0.023600</td>\n",
       "      <td>0.016550</td>\n",
       "      <td>0.020150</td>\n",
       "      <td>0.016250</td>\n",
       "      <td>0.028550</td>\n",
       "      <td>0.008750</td>\n",
       "      <td>0.010700</td>\n",
       "      <td>0.008500</td>\n",
       "      <td>0.15200</td>\n",
       "      <td>0.0001</td>\n",
       "      <td>0.015000</td>\n",
       "      <td>0.003550</td>\n",
       "      <td>0.00530</td>\n",
       "      <td>0.005450</td>\n",
       "      <td>0.031600</td>\n",
       "      <td>0.053450</td>\n",
       "      <td>0.001600</td>\n",
       "      <td>0.020850</td>\n",
       "      <td>0.005400</td>\n",
       "      <td>0.00985</td>\n",
       "      <td>0.042950</td>\n",
       "      <td>0.00885</td>\n",
       "      <td>0.034900</td>\n",
       "      <td>0.085750</td>\n",
       "      <td>13.831877</td>\n",
       "    </tr>\n",
       "    <tr>\n",
       "      <th>std</th>\n",
       "      <td>0.670527</td>\n",
       "      <td>0.500077</td>\n",
       "      <td>0.506073</td>\n",
       "      <td>0.515586</td>\n",
       "      <td>0.501046</td>\n",
       "      <td>0.673394</td>\n",
       "      <td>0.199286</td>\n",
       "      <td>0.507089</td>\n",
       "      <td>5.161025</td>\n",
       "      <td>19.893026</td>\n",
       "      <td>0.67892</td>\n",
       "      <td>0.197367</td>\n",
       "      <td>0.357472</td>\n",
       "      <td>0.480562</td>\n",
       "      <td>0.262508</td>\n",
       "      <td>6.715032</td>\n",
       "      <td>4.156429</td>\n",
       "      <td>0.238186</td>\n",
       "      <td>0.706397</td>\n",
       "      <td>0.560814</td>\n",
       "      <td>0.198873</td>\n",
       "      <td>0.078182</td>\n",
       "      <td>0.067302</td>\n",
       "      <td>0.457809</td>\n",
       "      <td>0.080669</td>\n",
       "      <td>0.22364</td>\n",
       "      <td>0.068034</td>\n",
       "      <td>0.15506</td>\n",
       "      <td>0.055144</td>\n",
       "      <td>0.134754</td>\n",
       "      <td>0.151803</td>\n",
       "      <td>0.127581</td>\n",
       "      <td>0.140517</td>\n",
       "      <td>0.126439</td>\n",
       "      <td>0.166542</td>\n",
       "      <td>0.093134</td>\n",
       "      <td>0.102888</td>\n",
       "      <td>0.091805</td>\n",
       "      <td>0.35903</td>\n",
       "      <td>0.0100</td>\n",
       "      <td>0.121555</td>\n",
       "      <td>0.059478</td>\n",
       "      <td>0.07261</td>\n",
       "      <td>0.073625</td>\n",
       "      <td>0.174937</td>\n",
       "      <td>0.224935</td>\n",
       "      <td>0.039969</td>\n",
       "      <td>0.142886</td>\n",
       "      <td>0.073288</td>\n",
       "      <td>0.09876</td>\n",
       "      <td>0.202749</td>\n",
       "      <td>0.09366</td>\n",
       "      <td>0.183531</td>\n",
       "      <td>0.280002</td>\n",
       "      <td>2.774808</td>\n",
       "    </tr>\n",
       "    <tr>\n",
       "      <th>min</th>\n",
       "      <td>-5.732182</td>\n",
       "      <td>9.188504</td>\n",
       "      <td>7.692024</td>\n",
       "      <td>5.225821</td>\n",
       "      <td>7.415610</td>\n",
       "      <td>0.000000</td>\n",
       "      <td>0.000000</td>\n",
       "      <td>6.425499</td>\n",
       "      <td>0.000000</td>\n",
       "      <td>1900.000000</td>\n",
       "      <td>0.00000</td>\n",
       "      <td>0.000000</td>\n",
       "      <td>0.000000</td>\n",
       "      <td>0.000000</td>\n",
       "      <td>0.000000</td>\n",
       "      <td>1990.000000</td>\n",
       "      <td>2.000000</td>\n",
       "      <td>0.000000</td>\n",
       "      <td>0.000000</td>\n",
       "      <td>1.000000</td>\n",
       "      <td>0.000000</td>\n",
       "      <td>0.000000</td>\n",
       "      <td>0.000000</td>\n",
       "      <td>0.000000</td>\n",
       "      <td>0.000000</td>\n",
       "      <td>0.00000</td>\n",
       "      <td>0.000000</td>\n",
       "      <td>0.00000</td>\n",
       "      <td>0.000000</td>\n",
       "      <td>0.000000</td>\n",
       "      <td>0.000000</td>\n",
       "      <td>0.000000</td>\n",
       "      <td>0.000000</td>\n",
       "      <td>0.000000</td>\n",
       "      <td>0.000000</td>\n",
       "      <td>0.000000</td>\n",
       "      <td>0.000000</td>\n",
       "      <td>0.000000</td>\n",
       "      <td>0.00000</td>\n",
       "      <td>0.0000</td>\n",
       "      <td>0.000000</td>\n",
       "      <td>0.000000</td>\n",
       "      <td>0.00000</td>\n",
       "      <td>0.000000</td>\n",
       "      <td>0.000000</td>\n",
       "      <td>0.000000</td>\n",
       "      <td>0.000000</td>\n",
       "      <td>0.000000</td>\n",
       "      <td>0.000000</td>\n",
       "      <td>0.00000</td>\n",
       "      <td>0.000000</td>\n",
       "      <td>0.00000</td>\n",
       "      <td>0.000000</td>\n",
       "      <td>0.000000</td>\n",
       "      <td>11.120000</td>\n",
       "    </tr>\n",
       "    <tr>\n",
       "      <th>25%</th>\n",
       "      <td>4.557740</td>\n",
       "      <td>11.847647</td>\n",
       "      <td>10.542255</td>\n",
       "      <td>8.471147</td>\n",
       "      <td>10.103839</td>\n",
       "      <td>0.000000</td>\n",
       "      <td>0.000000</td>\n",
       "      <td>9.311999</td>\n",
       "      <td>0.000000</td>\n",
       "      <td>1972.000000</td>\n",
       "      <td>0.00000</td>\n",
       "      <td>0.000000</td>\n",
       "      <td>1.000000</td>\n",
       "      <td>0.000000</td>\n",
       "      <td>0.000000</td>\n",
       "      <td>2004.000000</td>\n",
       "      <td>2.000000</td>\n",
       "      <td>0.000000</td>\n",
       "      <td>0.000000</td>\n",
       "      <td>5.000000</td>\n",
       "      <td>0.000000</td>\n",
       "      <td>0.000000</td>\n",
       "      <td>0.000000</td>\n",
       "      <td>0.000000</td>\n",
       "      <td>0.000000</td>\n",
       "      <td>0.00000</td>\n",
       "      <td>0.000000</td>\n",
       "      <td>0.00000</td>\n",
       "      <td>0.000000</td>\n",
       "      <td>0.000000</td>\n",
       "      <td>0.000000</td>\n",
       "      <td>0.000000</td>\n",
       "      <td>0.000000</td>\n",
       "      <td>0.000000</td>\n",
       "      <td>0.000000</td>\n",
       "      <td>0.000000</td>\n",
       "      <td>0.000000</td>\n",
       "      <td>0.000000</td>\n",
       "      <td>0.00000</td>\n",
       "      <td>0.0000</td>\n",
       "      <td>0.000000</td>\n",
       "      <td>0.000000</td>\n",
       "      <td>0.00000</td>\n",
       "      <td>0.000000</td>\n",
       "      <td>0.000000</td>\n",
       "      <td>0.000000</td>\n",
       "      <td>0.000000</td>\n",
       "      <td>0.000000</td>\n",
       "      <td>0.000000</td>\n",
       "      <td>0.00000</td>\n",
       "      <td>0.000000</td>\n",
       "      <td>0.00000</td>\n",
       "      <td>0.000000</td>\n",
       "      <td>0.000000</td>\n",
       "      <td>11.120000</td>\n",
       "    </tr>\n",
       "    <tr>\n",
       "      <th>50%</th>\n",
       "      <td>4.771397</td>\n",
       "      <td>12.044564</td>\n",
       "      <td>10.740703</td>\n",
       "      <td>8.674988</td>\n",
       "      <td>10.302244</td>\n",
       "      <td>0.000000</td>\n",
       "      <td>0.000000</td>\n",
       "      <td>9.511650</td>\n",
       "      <td>0.000000</td>\n",
       "      <td>1980.000000</td>\n",
       "      <td>1.00000</td>\n",
       "      <td>0.000000</td>\n",
       "      <td>1.000000</td>\n",
       "      <td>1.000000</td>\n",
       "      <td>0.000000</td>\n",
       "      <td>2010.000000</td>\n",
       "      <td>2.000000</td>\n",
       "      <td>0.000000</td>\n",
       "      <td>0.000000</td>\n",
       "      <td>5.000000</td>\n",
       "      <td>0.000000</td>\n",
       "      <td>0.000000</td>\n",
       "      <td>0.000000</td>\n",
       "      <td>0.000000</td>\n",
       "      <td>0.000000</td>\n",
       "      <td>0.00000</td>\n",
       "      <td>0.000000</td>\n",
       "      <td>0.00000</td>\n",
       "      <td>0.000000</td>\n",
       "      <td>0.000000</td>\n",
       "      <td>0.000000</td>\n",
       "      <td>0.000000</td>\n",
       "      <td>0.000000</td>\n",
       "      <td>0.000000</td>\n",
       "      <td>0.000000</td>\n",
       "      <td>0.000000</td>\n",
       "      <td>0.000000</td>\n",
       "      <td>0.000000</td>\n",
       "      <td>0.00000</td>\n",
       "      <td>0.0000</td>\n",
       "      <td>0.000000</td>\n",
       "      <td>0.000000</td>\n",
       "      <td>0.00000</td>\n",
       "      <td>0.000000</td>\n",
       "      <td>0.000000</td>\n",
       "      <td>0.000000</td>\n",
       "      <td>0.000000</td>\n",
       "      <td>0.000000</td>\n",
       "      <td>0.000000</td>\n",
       "      <td>0.00000</td>\n",
       "      <td>0.000000</td>\n",
       "      <td>0.00000</td>\n",
       "      <td>0.000000</td>\n",
       "      <td>0.000000</td>\n",
       "      <td>14.500000</td>\n",
       "    </tr>\n",
       "    <tr>\n",
       "      <th>75%</th>\n",
       "      <td>5.012974</td>\n",
       "      <td>12.256728</td>\n",
       "      <td>10.955722</td>\n",
       "      <td>8.891376</td>\n",
       "      <td>10.513645</td>\n",
       "      <td>1.000000</td>\n",
       "      <td>0.000000</td>\n",
       "      <td>9.726208</td>\n",
       "      <td>10.594465</td>\n",
       "      <td>1993.000000</td>\n",
       "      <td>1.00000</td>\n",
       "      <td>0.000000</td>\n",
       "      <td>1.000000</td>\n",
       "      <td>1.000000</td>\n",
       "      <td>0.000000</td>\n",
       "      <td>2012.000000</td>\n",
       "      <td>4.000000</td>\n",
       "      <td>0.000000</td>\n",
       "      <td>0.000000</td>\n",
       "      <td>5.000000</td>\n",
       "      <td>0.000000</td>\n",
       "      <td>0.000000</td>\n",
       "      <td>0.000000</td>\n",
       "      <td>1.000000</td>\n",
       "      <td>0.000000</td>\n",
       "      <td>0.00000</td>\n",
       "      <td>0.000000</td>\n",
       "      <td>0.00000</td>\n",
       "      <td>0.000000</td>\n",
       "      <td>0.000000</td>\n",
       "      <td>0.000000</td>\n",
       "      <td>0.000000</td>\n",
       "      <td>0.000000</td>\n",
       "      <td>0.000000</td>\n",
       "      <td>0.000000</td>\n",
       "      <td>0.000000</td>\n",
       "      <td>0.000000</td>\n",
       "      <td>0.000000</td>\n",
       "      <td>0.00000</td>\n",
       "      <td>0.0000</td>\n",
       "      <td>0.000000</td>\n",
       "      <td>0.000000</td>\n",
       "      <td>0.00000</td>\n",
       "      <td>0.000000</td>\n",
       "      <td>0.000000</td>\n",
       "      <td>0.000000</td>\n",
       "      <td>0.000000</td>\n",
       "      <td>0.000000</td>\n",
       "      <td>0.000000</td>\n",
       "      <td>0.00000</td>\n",
       "      <td>0.000000</td>\n",
       "      <td>0.00000</td>\n",
       "      <td>0.000000</td>\n",
       "      <td>0.000000</td>\n",
       "      <td>14.500000</td>\n",
       "    </tr>\n",
       "    <tr>\n",
       "      <th>max</th>\n",
       "      <td>10.406599</td>\n",
       "      <td>16.520555</td>\n",
       "      <td>15.228050</td>\n",
       "      <td>13.176599</td>\n",
       "      <td>14.778883</td>\n",
       "      <td>3.000000</td>\n",
       "      <td>2.000000</td>\n",
       "      <td>13.999960</td>\n",
       "      <td>15.401511</td>\n",
       "      <td>2012.000000</td>\n",
       "      <td>3.00000</td>\n",
       "      <td>1.000000</td>\n",
       "      <td>1.000000</td>\n",
       "      <td>1.000000</td>\n",
       "      <td>1.000000</td>\n",
       "      <td>2013.000000</td>\n",
       "      <td>32.000000</td>\n",
       "      <td>3.000000</td>\n",
       "      <td>6.000000</td>\n",
       "      <td>6.000000</td>\n",
       "      <td>1.000000</td>\n",
       "      <td>1.000000</td>\n",
       "      <td>1.000000</td>\n",
       "      <td>1.000000</td>\n",
       "      <td>1.000000</td>\n",
       "      <td>1.00000</td>\n",
       "      <td>1.000000</td>\n",
       "      <td>1.00000</td>\n",
       "      <td>1.000000</td>\n",
       "      <td>1.000000</td>\n",
       "      <td>1.000000</td>\n",
       "      <td>1.000000</td>\n",
       "      <td>1.000000</td>\n",
       "      <td>1.000000</td>\n",
       "      <td>1.000000</td>\n",
       "      <td>1.000000</td>\n",
       "      <td>1.000000</td>\n",
       "      <td>1.000000</td>\n",
       "      <td>1.00000</td>\n",
       "      <td>1.0000</td>\n",
       "      <td>1.000000</td>\n",
       "      <td>1.000000</td>\n",
       "      <td>1.00000</td>\n",
       "      <td>1.000000</td>\n",
       "      <td>1.000000</td>\n",
       "      <td>1.000000</td>\n",
       "      <td>1.000000</td>\n",
       "      <td>1.000000</td>\n",
       "      <td>1.000000</td>\n",
       "      <td>1.00000</td>\n",
       "      <td>1.000000</td>\n",
       "      <td>1.00000</td>\n",
       "      <td>1.000000</td>\n",
       "      <td>1.000000</td>\n",
       "      <td>21.850000</td>\n",
       "    </tr>\n",
       "  </tbody>\n",
       "</table>\n",
       "</div>"
      ],
      "text/plain": [
       "       Living Area (m^2)   House Price        Income  House Insurance  \\\n",
       "count       20000.000000  20000.000000  20000.000000     20000.000000   \n",
       "mean            4.823895     12.065072     10.760635         8.691683   \n",
       "std             0.670527      0.500077      0.506073         0.515586   \n",
       "min            -5.732182      9.188504      7.692024         5.225821   \n",
       "25%             4.557740     11.847647     10.542255         8.471147   \n",
       "50%             4.771397     12.044564     10.740703         8.674988   \n",
       "75%             5.012974     12.256728     10.955722         8.891376   \n",
       "max            10.406599     16.520555     15.228050        13.176599   \n",
       "\n",
       "       Pension Plan  Estim. num. cars_cat  Proba. Sec. Res._cat        Credit  \\\n",
       "count  20000.000000          20000.000000          20000.000000  20000.000000   \n",
       "mean      10.321742              0.404800              0.027150      9.530779   \n",
       "std        0.501046              0.673394              0.199286      0.507089   \n",
       "min        7.415610              0.000000              0.000000      6.425499   \n",
       "25%       10.103839              0.000000              0.000000      9.311999   \n",
       "50%       10.302244              0.000000              0.000000      9.511650   \n",
       "75%       10.513645              1.000000              0.000000      9.726208   \n",
       "max       14.778883              3.000000              2.000000     13.999960   \n",
       "\n",
       "            Savings     yearBuilt  Socieconomic Status_cat  Right Address_cat  \\\n",
       "count  20000.000000  20000.000000              20000.00000       20000.000000   \n",
       "mean       3.839925   1979.630350                  0.86165           0.040600   \n",
       "std        5.161025     19.893026                  0.67892           0.197367   \n",
       "min        0.000000   1900.000000                  0.00000           0.000000   \n",
       "25%        0.000000   1972.000000                  0.00000           0.000000   \n",
       "50%        0.000000   1980.000000                  1.00000           0.000000   \n",
       "75%       10.594465   1993.000000                  1.00000           0.000000   \n",
       "max       15.401511   2012.000000                  3.00000           1.000000   \n",
       "\n",
       "       Type of House_cat  PhoneType_cat         Email        Tenure  \\\n",
       "count       20000.000000   20000.000000  20000.000000  20000.000000   \n",
       "mean            0.849600       0.638100      0.074450   2007.118950   \n",
       "std             0.357472       0.480562      0.262508      6.715032   \n",
       "min             0.000000       0.000000      0.000000   1990.000000   \n",
       "25%             1.000000       0.000000      0.000000   2004.000000   \n",
       "50%             1.000000       1.000000      0.000000   2010.000000   \n",
       "75%             1.000000       1.000000      0.000000   2012.000000   \n",
       "max             1.000000       1.000000      1.000000   2013.000000   \n",
       "\n",
       "       NumberofCampaigns    ProdActive    ProdBought  Price Sensitivity  \\\n",
       "count       20000.000000  20000.000000  20000.000000       20000.000000   \n",
       "mean            3.709200      0.050700      0.320200           4.909150   \n",
       "std             4.156429      0.238186      0.706397           0.560814   \n",
       "min             2.000000      0.000000      0.000000           1.000000   \n",
       "25%             2.000000      0.000000      0.000000           5.000000   \n",
       "50%             2.000000      0.000000      0.000000           5.000000   \n",
       "75%             4.000000      0.000000      0.000000           5.000000   \n",
       "max            32.000000      3.000000      6.000000           6.000000   \n",
       "\n",
       "       Province_cat_1.0  Province_cat_2.0  Province_cat_3.0  Province_cat_4.0  \\\n",
       "count      20000.000000      20000.000000      20000.000000      20000.000000   \n",
       "mean           0.041250          0.006150          0.004550          0.298950   \n",
       "std            0.198873          0.078182          0.067302          0.457809   \n",
       "min            0.000000          0.000000          0.000000          0.000000   \n",
       "25%            0.000000          0.000000          0.000000          0.000000   \n",
       "50%            0.000000          0.000000          0.000000          0.000000   \n",
       "75%            0.000000          0.000000          0.000000          1.000000   \n",
       "max            1.000000          1.000000          1.000000          1.000000   \n",
       "\n",
       "       Province_cat_5.0  Province_cat_6.0  Province_cat_7.0  Province_cat_8.0  \\\n",
       "count      20000.000000       20000.00000      20000.000000       20000.00000   \n",
       "mean           0.006550           0.05280          0.004650           0.02465   \n",
       "std            0.080669           0.22364          0.068034           0.15506   \n",
       "min            0.000000           0.00000          0.000000           0.00000   \n",
       "25%            0.000000           0.00000          0.000000           0.00000   \n",
       "50%            0.000000           0.00000          0.000000           0.00000   \n",
       "75%            0.000000           0.00000          0.000000           0.00000   \n",
       "max            1.000000           1.00000          1.000000           1.00000   \n",
       "\n",
       "       Province_cat_9.0  Province_cat_10.0  Province_cat_11.0  \\\n",
       "count      20000.000000       20000.000000       20000.000000   \n",
       "mean           0.003050           0.018500           0.023600   \n",
       "std            0.055144           0.134754           0.151803   \n",
       "min            0.000000           0.000000           0.000000   \n",
       "25%            0.000000           0.000000           0.000000   \n",
       "50%            0.000000           0.000000           0.000000   \n",
       "75%            0.000000           0.000000           0.000000   \n",
       "max            1.000000           1.000000           1.000000   \n",
       "\n",
       "       Province_cat_12.0  Province_cat_13.0  Province_cat_14.0  \\\n",
       "count       20000.000000       20000.000000       20000.000000   \n",
       "mean            0.016550           0.020150           0.016250   \n",
       "std             0.127581           0.140517           0.126439   \n",
       "min             0.000000           0.000000           0.000000   \n",
       "25%             0.000000           0.000000           0.000000   \n",
       "50%             0.000000           0.000000           0.000000   \n",
       "75%             0.000000           0.000000           0.000000   \n",
       "max             1.000000           1.000000           1.000000   \n",
       "\n",
       "       Province_cat_15.0  Province_cat_16.0  Province_cat_17.0  \\\n",
       "count       20000.000000       20000.000000       20000.000000   \n",
       "mean            0.028550           0.008750           0.010700   \n",
       "std             0.166542           0.093134           0.102888   \n",
       "min             0.000000           0.000000           0.000000   \n",
       "25%             0.000000           0.000000           0.000000   \n",
       "50%             0.000000           0.000000           0.000000   \n",
       "75%             0.000000           0.000000           0.000000   \n",
       "max             1.000000           1.000000           1.000000   \n",
       "\n",
       "       Province_cat_18.0  Province_cat_19.0  Province_cat_20.0  \\\n",
       "count       20000.000000        20000.00000         20000.0000   \n",
       "mean            0.008500            0.15200             0.0001   \n",
       "std             0.091805            0.35903             0.0100   \n",
       "min             0.000000            0.00000             0.0000   \n",
       "25%             0.000000            0.00000             0.0000   \n",
       "50%             0.000000            0.00000             0.0000   \n",
       "75%             0.000000            0.00000             0.0000   \n",
       "max             1.000000            1.00000             1.0000   \n",
       "\n",
       "       Province_cat_21.0  Province_cat_22.0  Province_cat_23.0  \\\n",
       "count       20000.000000       20000.000000        20000.00000   \n",
       "mean            0.015000           0.003550            0.00530   \n",
       "std             0.121555           0.059478            0.07261   \n",
       "min             0.000000           0.000000            0.00000   \n",
       "25%             0.000000           0.000000            0.00000   \n",
       "50%             0.000000           0.000000            0.00000   \n",
       "75%             0.000000           0.000000            0.00000   \n",
       "max             1.000000           1.000000            1.00000   \n",
       "\n",
       "       Province_cat_24.0  Province_cat_25.0  Province_cat_26.0  \\\n",
       "count       20000.000000       20000.000000       20000.000000   \n",
       "mean            0.005450           0.031600           0.053450   \n",
       "std             0.073625           0.174937           0.224935   \n",
       "min             0.000000           0.000000           0.000000   \n",
       "25%             0.000000           0.000000           0.000000   \n",
       "50%             0.000000           0.000000           0.000000   \n",
       "75%             0.000000           0.000000           0.000000   \n",
       "max             1.000000           1.000000           1.000000   \n",
       "\n",
       "       Province_cat_27.0  Province_cat_28.0  Province_cat_29.0  \\\n",
       "count       20000.000000       20000.000000       20000.000000   \n",
       "mean            0.001600           0.020850           0.005400   \n",
       "std             0.039969           0.142886           0.073288   \n",
       "min             0.000000           0.000000           0.000000   \n",
       "25%             0.000000           0.000000           0.000000   \n",
       "50%             0.000000           0.000000           0.000000   \n",
       "75%             0.000000           0.000000           0.000000   \n",
       "max             1.000000           1.000000           1.000000   \n",
       "\n",
       "       Province_cat_30.0  Province_cat_31.0  Province_cat_32.0  \\\n",
       "count        20000.00000       20000.000000        20000.00000   \n",
       "mean             0.00985           0.042950            0.00885   \n",
       "std              0.09876           0.202749            0.09366   \n",
       "min              0.00000           0.000000            0.00000   \n",
       "25%              0.00000           0.000000            0.00000   \n",
       "50%              0.00000           0.000000            0.00000   \n",
       "75%              0.00000           0.000000            0.00000   \n",
       "max              1.00000           1.000000            1.00000   \n",
       "\n",
       "       Province_cat_33.0         Sales  Premium Offered  \n",
       "count       20000.000000  20000.000000     20000.000000  \n",
       "mean            0.034900      0.085750        13.831877  \n",
       "std             0.183531      0.280002         2.774808  \n",
       "min             0.000000      0.000000        11.120000  \n",
       "25%             0.000000      0.000000        11.120000  \n",
       "50%             0.000000      0.000000        14.500000  \n",
       "75%             0.000000      0.000000        14.500000  \n",
       "max             1.000000      1.000000        21.850000  "
      ]
     },
     "execution_count": 11,
     "metadata": {},
     "output_type": "execute_result"
    }
   ],
   "source": [
    "db_20k_final_log.describe()"
   ]
  },
  {
   "cell_type": "markdown",
   "metadata": {},
   "source": [
    "We will also create a third version of our date where we will drop some continuous features that have very high correlation between them. Multicollinearity can lead to performance issues when using linear models, or it can even make it impossible for the optimizer we use to train them to converge.\n",
    "\n",
    "The features that present this problem are: 'House Price','Income','House Insurance','Pension Plan','Credit' and 'Savings'.\n",
    "We will keep only one of them. Normally we would like to keep the one which is more strongly correlated to our target variable, but as we saw during the EDA stage, all of them present a similar, and very low, correlation to it.\n",
    "\n",
    "We will take 'Income' as it seems a more stable feature for describing a person economoic status."
   ]
  },
  {
   "cell_type": "code",
   "execution_count": 12,
   "metadata": {},
   "outputs": [],
   "source": [
    "cl_ft = ['House Price','House Insurance','Pension Plan','Credit','Savings']\n",
    "db_20k_final_nocl = db_20k_final.drop(cl_ft,axis=1)\n",
    "db_20k_final_log_nocl = db_20k_final_log.drop(cl_ft,axis=1)"
   ]
  },
  {
   "cell_type": "markdown",
   "metadata": {},
   "source": [
    "## 3. Model training\n"
   ]
  },
  {
   "cell_type": "markdown",
   "metadata": {},
   "source": [
    "### 3.1 Train/Test Split\n",
    "\n",
    "We repeat the split of db_20k, now using its preprocessed version. As we said before, the 'random_state' parameter needs to be the same to get an identical split (we also use the same value for the 'stratify' parameter, needed to deal with the class imbalance that we have in our target variable, where only about 9% of the samples belong to the positive class)."
   ]
  },
  {
   "cell_type": "code",
   "execution_count": 13,
   "metadata": {},
   "outputs": [
    {
     "name": "stdout",
     "output_type": "stream",
     "text": [
      "(16000, 55)\n",
      "(4000, 55)\n"
     ]
    }
   ],
   "source": [
    "db_20k_train_f, db_20k_test_f = train_test_split(db_20k_final, test_size=0.2, random_state=17, stratify = db_20k_final.Sales)\n",
    "print(db_20k_train_f.shape)\n",
    "print(db_20k_test_f.shape)"
   ]
  },
  {
   "cell_type": "markdown",
   "metadata": {},
   "source": [
    "We separate the features from the target variable."
   ]
  },
  {
   "cell_type": "code",
   "execution_count": 14,
   "metadata": {},
   "outputs": [],
   "source": [
    "X_train_f = db_20k_train_f.drop(['Sales'],axis=1)\n",
    "y_train_f = db_20k_train_f['Sales']\n",
    "X_test_f = db_20k_test_f.drop(['Sales'],axis=1)\n",
    "y_test_f = db_20k_test_f['Sales']"
   ]
  },
  {
   "cell_type": "code",
   "execution_count": 15,
   "metadata": {},
   "outputs": [],
   "source": [
    "with open(proc_data_PATH + 'train_test_sets.pkl', 'wb') as f:\n",
    "    pickle.dump([X_train_f,y_train_f,X_test_f,y_test_f], f)"
   ]
  },
  {
   "cell_type": "markdown",
   "metadata": {},
   "source": [
    "Now we repeat the same steps with the dataframes with logged continuous variables"
   ]
  },
  {
   "cell_type": "code",
   "execution_count": 16,
   "metadata": {},
   "outputs": [
    {
     "name": "stdout",
     "output_type": "stream",
     "text": [
      "(16000, 55)\n",
      "(4000, 55)\n"
     ]
    }
   ],
   "source": [
    "db_20k_train_f_log, db_20k_test_f_log = train_test_split(db_20k_final_log, test_size=0.2, random_state=17, stratify = db_20k_final_log.Sales)\n",
    "print(db_20k_train_f_log.shape)\n",
    "print(db_20k_test_f_log.shape)"
   ]
  },
  {
   "cell_type": "code",
   "execution_count": 17,
   "metadata": {},
   "outputs": [],
   "source": [
    "X_train_f_log = db_20k_train_f_log.drop(['Sales'],axis=1)\n",
    "y_train_f_log = db_20k_train_f_log['Sales']\n",
    "X_test_f_log = db_20k_test_f_log.drop(['Sales'],axis=1)\n",
    "y_test_f_log = db_20k_test_f_log['Sales']"
   ]
  },
  {
   "cell_type": "code",
   "execution_count": 18,
   "metadata": {},
   "outputs": [],
   "source": [
    "with open(proc_data_PATH + 'train_test_sets_logged.pkl', 'wb') as f:\n",
    "    pickle.dump([X_train_f_log,y_train_f_log,X_test_f_log,y_test_f_log], f)"
   ]
  },
  {
   "cell_type": "markdown",
   "metadata": {},
   "source": [
    "And also with the datasets with no collinear features"
   ]
  },
  {
   "cell_type": "code",
   "execution_count": 19,
   "metadata": {},
   "outputs": [
    {
     "name": "stdout",
     "output_type": "stream",
     "text": [
      "(16000, 50)\n",
      "(4000, 50)\n"
     ]
    }
   ],
   "source": [
    "db_20k_train_f_nocl, db_20k_test_f_nocl = train_test_split(db_20k_final_nocl, test_size=0.2, random_state=17, stratify = db_20k_final_nocl.Sales)\n",
    "print(db_20k_train_f_nocl.shape)\n",
    "print(db_20k_test_f_nocl.shape)"
   ]
  },
  {
   "cell_type": "code",
   "execution_count": 20,
   "metadata": {},
   "outputs": [],
   "source": [
    "X_train_f_nocl = db_20k_train_f_nocl.drop(['Sales'],axis=1)\n",
    "y_train_f_nocl = db_20k_train_f_nocl['Sales']\n",
    "X_test_f_nocl = db_20k_test_f_nocl.drop(['Sales'],axis=1)\n",
    "y_test_f_nocl = db_20k_test_f_nocl['Sales']"
   ]
  },
  {
   "cell_type": "code",
   "execution_count": 21,
   "metadata": {},
   "outputs": [],
   "source": [
    "with open(proc_data_PATH + 'train_test_sets_nocl.pkl', 'wb') as f:\n",
    "    pickle.dump([X_train_f_nocl,y_train_f_nocl,X_test_f_nocl,y_test_f_nocl], f)"
   ]
  },
  {
   "cell_type": "code",
   "execution_count": 22,
   "metadata": {},
   "outputs": [
    {
     "name": "stdout",
     "output_type": "stream",
     "text": [
      "(16000, 50)\n",
      "(4000, 50)\n"
     ]
    }
   ],
   "source": [
    "db_20k_train_f_log_nocl, db_20k_test_f_log_nocl = train_test_split(db_20k_final_log_nocl, test_size=0.2, random_state=17, stratify = db_20k_final_log_nocl.Sales)\n",
    "print(db_20k_train_f_log_nocl.shape)\n",
    "print(db_20k_test_f_log_nocl.shape)"
   ]
  },
  {
   "cell_type": "code",
   "execution_count": 23,
   "metadata": {},
   "outputs": [],
   "source": [
    "X_train_f_log_nocl = db_20k_train_f_log_nocl.drop(['Sales'],axis=1)\n",
    "y_train_f_log_nocl = db_20k_train_f_log_nocl['Sales']\n",
    "X_test_f_log_nocl = db_20k_test_f_log_nocl.drop(['Sales'],axis=1)\n",
    "y_test_f_log_nocl = db_20k_test_f_log_nocl['Sales']"
   ]
  },
  {
   "cell_type": "code",
   "execution_count": 24,
   "metadata": {},
   "outputs": [],
   "source": [
    "with open(proc_data_PATH + 'train_test_sets_logged_nocl.pkl', 'wb') as f:\n",
    "    pickle.dump([X_train_f_log_nocl,y_train_f_log_nocl,X_test_f_log_nocl,y_test_f_log_nocl], f)"
   ]
  },
  {
   "cell_type": "markdown",
   "metadata": {},
   "source": [
    "### Auxiliuary function for reproducing model results without retraining"
   ]
  },
  {
   "cell_type": "code",
   "execution_count": 45,
   "metadata": {},
   "outputs": [],
   "source": [
    "def reproduce_model_results(X_train, y_train, X_test, y_test, model_name):\n",
    "    ''' Function that loads already trained model and provides some metrics\n",
    "    without having to retrain the model itself'''\n",
    "    model = joblib.load(models_PATH + model_name +'.joblib') \n",
    "    print('Accuracy: ',accuracy_score(y_test,model.predict(X_test)))\n",
    "    print('F1-Score: ',f1_score(y_test,model.predict(X_test)))\n",
    "    cm = confusion_matrix(y_test,model.predict(X_test))\n",
    "    plot_confusion_matrix(cm, ['No Sale','Sale'],\n",
    "                              normalize=False,\n",
    "                              title='Confusion matrix',\n",
    "                              cmap=plt.cm.Oranges)\n",
    "    return model"
   ]
  },
  {
   "cell_type": "markdown",
   "metadata": {},
   "source": [
    "### 3.2 Logistic Regression"
   ]
  },
  {
   "cell_type": "code",
   "execution_count": 25,
   "metadata": {},
   "outputs": [],
   "source": [
    "def create_basic_lr(X_train, y_train, X_test, y_test, model_name):\n",
    "    basic_lr = LogisticRegression()\n",
    "    basic_lr.fit(X_train, y_train)\n",
    "    print('Accuracy: ',accuracy_score(y_test,basic_lr.predict(X_test)))\n",
    "    print('F1-Score: ',f1_score(y_test,basic_lr.predict(X_test)))\n",
    "    cm = confusion_matrix(y_test,basic_lr.predict(X_test))\n",
    "    plot_confusion_matrix(cm, ['No Sale','Sale'],\n",
    "                              normalize=False,\n",
    "                              title='Confusion matrix',\n",
    "                              cmap=plt.cm.Oranges)\n",
    "    # Save model to disk\n",
    "    joblib.dump(basic_lr, models_PATH + model_name + '.joblib') \n",
    "    return basic_lr"
   ]
  },
  {
   "cell_type": "markdown",
   "metadata": {},
   "source": [
    "#### No feature scaling (no logged feautures, no standardization)\n",
    "We will first train a basic binary classifier using our training dataset (as it is and logged) to get a first idea of the results we can expect and to use it as a benchmark for more sophisticated models."
   ]
  },
  {
   "cell_type": "code",
   "execution_count": null,
   "metadata": {
    "scrolled": true
   },
   "outputs": [],
   "source": [
    "# Model already trained (uncomment for retraining)\n",
    "#basic_lr = create_basic_lr(X_train_f, y_train_f, X_test_f, y_test_f, 'basic_lr')"
   ]
  },
  {
   "cell_type": "code",
   "execution_count": 46,
   "metadata": {},
   "outputs": [
    {
     "name": "stdout",
     "output_type": "stream",
     "text": [
      "Accuracy:  0.91425\n",
      "F1-Score:  0.0\n",
      "Confusion matrix, without normalization\n",
      "[[3657    0]\n",
      " [ 343    0]]\n"
     ]
    },
    {
     "name": "stderr",
     "output_type": "stream",
     "text": [
      "C:\\Users\\amartinp\\AppData\\Local\\conda\\conda\\envs\\ml_env\\lib\\site-packages\\sklearn\\metrics\\classification.py:1143: UndefinedMetricWarning: F-score is ill-defined and being set to 0.0 due to no predicted samples.\n",
      "  'precision', 'predicted', average, warn_for)\n"
     ]
    },
    {
     "data": {
      "image/png": "[encoded data removed]",
      "text/plain": [
       "<Figure size 432x288 with 2 Axes>"
      ]
     },
     "metadata": {
      "needs_background": "light"
     },
     "output_type": "display_data"
    }
   ],
   "source": [
    "basic_lr = reproduce_model_results(X_train_f, y_train_f, X_test_f, y_test_f, 'basic_lr')"
   ]
  },
  {
   "cell_type": "markdown",
   "metadata": {},
   "source": [
    "A logistic regression classifier with no hyperparameter tuning and no feature scaling of any kind provides very bad results. 'No Sale' is always predicted, yielding an accuracy of 0.91425 because of the target class imbalance, where there are very few positive instances.\n",
    "\n",
    "This class imbalance makes accuracy an useless metric. If we look at the F1-Score, which is very sensitivy to this situation, we see that it is actually 0, meaning this classifier does not provide any useful information"
   ]
  },
  {
   "cell_type": "markdown",
   "metadata": {},
   "source": [
    "#### Logged feautures (no standardization)\n",
    "Now we will use the dataset with logged continuous features, where the scales are not so disparate."
   ]
  },
  {
   "cell_type": "code",
   "execution_count": 28,
   "metadata": {},
   "outputs": [],
   "source": [
    "# Model already trained (uncomment for retraining)\n",
    "#basic_lr_log = create_basic_lr(X_train_f_log, y_train_f_log, X_test_f_log, y_test_f_log, 'basic_lr_log')"
   ]
  },
  {
   "cell_type": "code",
   "execution_count": 47,
   "metadata": {},
   "outputs": [
    {
     "name": "stdout",
     "output_type": "stream",
     "text": [
      "Accuracy:  0.96\n",
      "F1-Score:  0.735973597359736\n",
      "Confusion matrix, without normalization\n",
      "[[3617   40]\n",
      " [ 120  223]]\n"
     ]
    },
    {
     "data": {
      "image/png": "[encoded data removed]",
      "text/plain": [
       "<Figure size 432x288 with 2 Axes>"
      ]
     },
     "metadata": {
      "needs_background": "light"
     },
     "output_type": "display_data"
    }
   ],
   "source": [
    "basic_lr_log = reproduce_model_results(X_train_f_log, y_train_f_log, X_test_f_log, y_test_f_log, 'basic_lr_log')"
   ]
  },
  {
   "cell_type": "markdown",
   "metadata": {},
   "source": [
    "The same model, with default hyperparameters, but using the logged dataset, provides much better results. Our F1-Score goes from 0 to 0.736, which means better proportion of the under-represented class is correctly predicted.\n",
    "\n",
    "We can still see that 120 cases that were actually a Positive Sale, were classified as negative. In practice, this would mean our is telling us those 120 people are not worth contacting by our CRM or Sales staff. We should try to improve this proportions by means of hyperparameter tuning, further feature preprocessing or the use of more powerful model."
   ]
  },
  {
   "cell_type": "markdown",
   "metadata": {},
   "source": [
    "#### Logged and standardized feautures\n",
    "Now we will use the dataset with logged continuous features, and apply a Standard Scalar, to make all feature scales exactly equal."
   ]
  },
  {
   "cell_type": "code",
   "execution_count": 30,
   "metadata": {},
   "outputs": [
    {
     "name": "stderr",
     "output_type": "stream",
     "text": [
      "C:\\Users\\amartinp\\AppData\\Local\\conda\\conda\\envs\\ml_env\\lib\\site-packages\\sklearn\\preprocessing\\data.py:617: DataConversionWarning: Data with input dtype uint8, float64 were all converted to float64 by StandardScaler.\n",
      "  return self.partial_fit(X, y)\n",
      "C:\\Users\\amartinp\\AppData\\Local\\conda\\conda\\envs\\ml_env\\lib\\site-packages\\sklearn\\base.py:462: DataConversionWarning: Data with input dtype uint8, float64 were all converted to float64 by StandardScaler.\n",
      "  return self.fit(X, **fit_params).transform(X)\n",
      "C:\\Users\\amartinp\\AppData\\Local\\conda\\conda\\envs\\ml_env\\lib\\site-packages\\ipykernel_launcher.py:3: DataConversionWarning: Data with input dtype uint8, float64 were all converted to float64 by StandardScaler.\n",
      "  This is separate from the ipykernel package so we can avoid doing imports until\n"
     ]
    },
    {
     "data": {
      "text/plain": [
       "['./models/standard_scaler.joblib']"
      ]
     },
     "execution_count": 30,
     "metadata": {},
     "output_type": "execute_result"
    }
   ],
   "source": [
    "sc = StandardScaler()\n",
    "X_train_f_log_std = sc.fit_transform(X_train_f_log)\n",
    "X_test_f_log_std = sc.transform(X_test_f_log)\n",
    "\n",
    "# Save imputer to disk\n",
    "joblib.dump(sc, models_PATH + 'standard_scaler.joblib')"
   ]
  },
  {
   "cell_type": "code",
   "execution_count": null,
   "metadata": {},
   "outputs": [],
   "source": [
    "# Model already trained (uncomment for retraining)\n",
    "#basic_lr_log_std = create_basic_lr(X_train_f_log_std, y_train_f_log, X_test_f_log_std, y_test_f_log, 'basic_lr_log_std')"
   ]
  },
  {
   "cell_type": "code",
   "execution_count": 48,
   "metadata": {},
   "outputs": [
    {
     "name": "stdout",
     "output_type": "stream",
     "text": [
      "Accuracy:  0.97075\n",
      "F1-Score:  0.8208269525267993\n",
      "Confusion matrix, without normalization\n",
      "[[3615   42]\n",
      " [  75  268]]\n"
     ]
    },
    {
     "data": {
      "image/png": "[encoded data removed]",
      "text/plain": [
       "<Figure size 432x288 with 2 Axes>"
      ]
     },
     "metadata": {
      "needs_background": "light"
     },
     "output_type": "display_data"
    }
   ],
   "source": [
    "basic_lr_log_std = reproduce_model_results(X_train_f_log_std, y_train_f_log, X_test_f_log_std, y_test_f_log, 'basic_lr_log_std')"
   ]
  },
  {
   "cell_type": "markdown",
   "metadata": {},
   "source": [
    "Standardization of our features provides another important boost to our model performance, with the F1-Score going from 0.736 to 0.821, which is quite a decent score given the simplicity of model used and the importan class imbalance."
   ]
  },
  {
   "cell_type": "markdown",
   "metadata": {},
   "source": [
    "#### No feature scaling (no logged feautures, no standardization) / Multicollinear features ruled out"
   ]
  },
  {
   "cell_type": "code",
   "execution_count": 33,
   "metadata": {},
   "outputs": [],
   "source": [
    "# Model already trained (uncomment for retraining)\n",
    "#basic_lr_nocl = create_basic_lr(X_train_f_nocl, y_train_f_nocl, X_test_f_nocl, y_test_f_nocl, 'basic_lr_nocl')"
   ]
  },
  {
   "cell_type": "code",
   "execution_count": 49,
   "metadata": {},
   "outputs": [
    {
     "name": "stdout",
     "output_type": "stream",
     "text": [
      "Accuracy:  0.91425\n",
      "F1-Score:  0.0\n",
      "Confusion matrix, without normalization\n",
      "[[3657    0]\n",
      " [ 343    0]]\n"
     ]
    },
    {
     "name": "stderr",
     "output_type": "stream",
     "text": [
      "C:\\Users\\amartinp\\AppData\\Local\\conda\\conda\\envs\\ml_env\\lib\\site-packages\\sklearn\\metrics\\classification.py:1143: UndefinedMetricWarning: F-score is ill-defined and being set to 0.0 due to no predicted samples.\n",
      "  'precision', 'predicted', average, warn_for)\n"
     ]
    },
    {
     "data": {
      "image/png": "[encoded data removed]",
      "text/plain": [
       "<Figure size 432x288 with 2 Axes>"
      ]
     },
     "metadata": {
      "needs_background": "light"
     },
     "output_type": "display_data"
    }
   ],
   "source": [
    "basic_lr_nocl = reproduce_model_results(X_train_f_nocl, y_train_f_nocl, X_test_f_nocl, y_test_f_nocl, 'basic_lr_nocl')"
   ]
  },
  {
   "cell_type": "markdown",
   "metadata": {},
   "source": [
    "#### Logged feautures (no standardization)  / Multicollinear features ruled out"
   ]
  },
  {
   "cell_type": "code",
   "execution_count": null,
   "metadata": {},
   "outputs": [],
   "source": [
    "# Model already trained (uncomment for retraining)\n",
    "#basic_lr_log_nocl = create_basic_lr(X_train_f_log_nocl, y_train_f_log_nocl, X_test_f_log_nocl, y_test_f_log_nocl, 'basic_lr_log_nocl')"
   ]
  },
  {
   "cell_type": "code",
   "execution_count": 50,
   "metadata": {},
   "outputs": [
    {
     "name": "stdout",
     "output_type": "stream",
     "text": [
      "Accuracy:  0.96975\n",
      "F1-Score:  0.8147013782542113\n",
      "Confusion matrix, without normalization\n",
      "[[3613   44]\n",
      " [  77  266]]\n"
     ]
    },
    {
     "data": {
      "image/png": "[encoded data removed]",
      "text/plain": [
       "<Figure size 432x288 with 2 Axes>"
      ]
     },
     "metadata": {
      "needs_background": "light"
     },
     "output_type": "display_data"
    }
   ],
   "source": [
    "basic_lr_log_nocl = reproduce_model_results(X_train_f_log_nocl, y_train_f_log_nocl, X_test_f_log_nocl, y_test_f_log_nocl, 'basic_lr_log_nocl')"
   ]
  },
  {
   "cell_type": "markdown",
   "metadata": {},
   "source": [
    "#### Logged and standardized feautures / Multicollinear features ruled out"
   ]
  },
  {
   "cell_type": "code",
   "execution_count": 36,
   "metadata": {},
   "outputs": [
    {
     "name": "stderr",
     "output_type": "stream",
     "text": [
      "C:\\Users\\amartinp\\AppData\\Local\\conda\\conda\\envs\\ml_env\\lib\\site-packages\\sklearn\\preprocessing\\data.py:617: DataConversionWarning: Data with input dtype uint8, float64 were all converted to float64 by StandardScaler.\n",
      "  return self.partial_fit(X, y)\n",
      "C:\\Users\\amartinp\\AppData\\Local\\conda\\conda\\envs\\ml_env\\lib\\site-packages\\sklearn\\base.py:462: DataConversionWarning: Data with input dtype uint8, float64 were all converted to float64 by StandardScaler.\n",
      "  return self.fit(X, **fit_params).transform(X)\n",
      "C:\\Users\\amartinp\\AppData\\Local\\conda\\conda\\envs\\ml_env\\lib\\site-packages\\ipykernel_launcher.py:3: DataConversionWarning: Data with input dtype uint8, float64 were all converted to float64 by StandardScaler.\n",
      "  This is separate from the ipykernel package so we can avoid doing imports until\n"
     ]
    },
    {
     "data": {
      "text/plain": [
       "['./models/standard_scaler_nocl.joblib']"
      ]
     },
     "execution_count": 36,
     "metadata": {},
     "output_type": "execute_result"
    }
   ],
   "source": [
    "sc_nocl = StandardScaler()\n",
    "X_train_f_log_nocl_std = sc_nocl.fit_transform(X_train_f_log_nocl)\n",
    "X_test_f_log_nocl_std = sc_nocl.transform(X_test_f_log_nocl)\n",
    "\n",
    "# Save imputer to disk\n",
    "joblib.dump(sc_nocl, models_PATH + 'standard_scaler_nocl.joblib')"
   ]
  },
  {
   "cell_type": "code",
   "execution_count": 37,
   "metadata": {},
   "outputs": [],
   "source": [
    "# Model already trained (uncomment for retraining)\n",
    "#basic_lr_log_nocl_std = create_basic_lr(X_train_f_log_nocl_std, y_train_f_log_nocl, X_test_f_log_nocl_std, y_test_f_log_nocl, 'basic_lr_log_nocl_std')"
   ]
  },
  {
   "cell_type": "code",
   "execution_count": 51,
   "metadata": {},
   "outputs": [
    {
     "name": "stdout",
     "output_type": "stream",
     "text": [
      "Accuracy:  0.97025\n",
      "F1-Score:  0.8177641653905053\n",
      "Confusion matrix, without normalization\n",
      "[[3614   43]\n",
      " [  76  267]]\n"
     ]
    },
    {
     "data": {
      "image/png": "[encoded data removed]",
      "text/plain": [
       "<Figure size 432x288 with 2 Axes>"
      ]
     },
     "metadata": {
      "needs_background": "light"
     },
     "output_type": "display_data"
    }
   ],
   "source": [
    "basic_lr_log_nocl_std = reproduce_model_results(X_train_f_log_nocl_std, y_train_f_log_nocl, X_test_f_log_nocl_std, y_test_f_log_nocl, 'basic_lr_log_nocl_std')"
   ]
  },
  {
   "cell_type": "markdown",
   "metadata": {},
   "source": [
    "#### Logistic Regression with Hyperparameter Tuning"
   ]
  },
  {
   "cell_type": "code",
   "execution_count": 39,
   "metadata": {},
   "outputs": [],
   "source": [
    "def create_tuned_lr(X_train, y_train, X_test, y_test, model_name):\n",
    "    lr = LogisticRegression()\n",
    "    \n",
    "    # Regularization penalty\n",
    "    penalty = ['l1', 'l2']\n",
    "    # Regularization hyperparameter C\n",
    "    C = np.linspace(0.01,1.5,150)\n",
    "    # Hyperparameter space\n",
    "    hyperparameters = dict(C=C, penalty=penalty)\n",
    "    \n",
    "    # Grid search using 5-fold cross validation\n",
    "    lr_gscv = GridSearchCV(lr, hyperparameters, cv=5, verbose=2, n_jobs = 4, scoring = 'f1')\n",
    "    \n",
    "    # Fit grid search\n",
    "    lr_best = lr_gscv.fit(X_train, y_train)\n",
    "    \n",
    "    # Best hyperparameters\n",
    "    print('Best Penalty:', lr_best.best_estimator_.get_params()['penalty'])\n",
    "    print('Best C:', lr_best.best_estimator_.get_params()['C'])\n",
    "    \n",
    "    # Accuracy and F1-Score metrics\n",
    "    print('Accuracy: ',accuracy_score(y_test,lr_best.predict(X_test)))\n",
    "    print('F1-Score: ',f1_score(y_test,lr_best.predict(X_test)))\n",
    "    \n",
    "    cm = confusion_matrix(y_test,lr_best.predict(X_test))\n",
    "    plot_confusion_matrix(cm, ['No Sale','Sale'],\n",
    "                              normalize=False,\n",
    "                              title='Confusion matrix',\n",
    "                              cmap=plt.cm.Oranges)\n",
    "    \n",
    "    # Save model to disk\n",
    "    joblib.dump(lr_best, models_PATH + model_name + '.joblib')\n",
    "    \n",
    "    return lr_best"
   ]
  },
  {
   "cell_type": "markdown",
   "metadata": {},
   "source": [
    "#### (using logged & standardized data)"
   ]
  },
  {
   "cell_type": "code",
   "execution_count": 40,
   "metadata": {},
   "outputs": [],
   "source": [
    "# Model already trained (uncomment for retraining)\n",
    "#lr_best = create_tuned_lr(X_train_f_log_std, y_train_f_log, X_test_f_log_std, y_test_f_log, 'lr_best')"
   ]
  },
  {
   "cell_type": "code",
   "execution_count": 52,
   "metadata": {},
   "outputs": [
    {
     "name": "stdout",
     "output_type": "stream",
     "text": [
      "Accuracy:  0.97025\n",
      "F1-Score:  0.818320610687023\n",
      "Confusion matrix, without normalization\n",
      "[[3613   44]\n",
      " [  75  268]]\n"
     ]
    },
    {
     "data": {
      "image/png": "[encoded data removed]",
      "text/plain": [
       "<Figure size 432x288 with 2 Axes>"
      ]
     },
     "metadata": {
      "needs_background": "light"
     },
     "output_type": "display_data"
    }
   ],
   "source": [
    "lr_best = reproduce_model_results(X_train_f_log_std, y_train_f_log, X_test_f_log_std, y_test_f_log, 'lr_best')"
   ]
  },
  {
   "cell_type": "markdown",
   "metadata": {},
   "source": [
    "For some reason, a grid search of optimum hyperparameters using F1-Score as objective metric provides a model with an F1-Score slightly below the baseline (no hyperparam. tuning).\n",
    "\n",
    "We will look at a last metric for binary classifier before passing on to different models: the ROC curve, which evaluates not only how many instances were correctly classified, but also how confidently."
   ]
  },
  {
   "cell_type": "markdown",
   "metadata": {},
   "source": [
    "#### (using logged & standardized data)  / Multicollinear features ruled out"
   ]
  },
  {
   "cell_type": "code",
   "execution_count": null,
   "metadata": {},
   "outputs": [],
   "source": [
    "# Model already trained (uncomment for retraining)\n",
    "#lr_best_nocl = create_tuned_lr(X_train_f_log_nocl_std, y_train_f_log_nocl, X_test_f_log_nocl_std, y_test_f_log_nocl, 'lr_best_nocl')"
   ]
  },
  {
   "cell_type": "code",
   "execution_count": 53,
   "metadata": {},
   "outputs": [
    {
     "name": "stdout",
     "output_type": "stream",
     "text": [
      "Accuracy:  0.97025\n",
      "F1-Score:  0.818320610687023\n",
      "Confusion matrix, without normalization\n",
      "[[3613   44]\n",
      " [  75  268]]\n"
     ]
    },
    {
     "data": {
      "image/png": "[encoded data removed]",
      "text/plain": [
       "<Figure size 432x288 with 2 Axes>"
      ]
     },
     "metadata": {
      "needs_background": "light"
     },
     "output_type": "display_data"
    }
   ],
   "source": [
    "lr_best_nocl = reproduce_model_results(X_train_f_log_nocl_std, y_train_f_log_nocl, X_test_f_log_nocl_std, y_test_f_log_nocl, 'lr_best_nocl')"
   ]
  },
  {
   "cell_type": "markdown",
   "metadata": {},
   "source": [
    "We will now compare the ROC curves of all these models"
   ]
  },
  {
   "cell_type": "code",
   "execution_count": 54,
   "metadata": {},
   "outputs": [],
   "source": [
    "def plot_roc(model,model_name,X_test,y_test):\n",
    "    probs = model.predict_proba(X_test)\n",
    "    preds = probs[:,1]\n",
    "    fpr, tpr, threshold = roc_curve(y_test, preds)\n",
    "    roc_auc = auc(fpr, tpr)\n",
    "    plt.plot(fpr, tpr, label = model_name + ' AUC = %0.2f' % roc_auc)"
   ]
  },
  {
   "cell_type": "code",
   "execution_count": 55,
   "metadata": {},
   "outputs": [
    {
     "data": {
      "text/plain": [
       "Text(0.5, 0, 'False Positive Rate')"
      ]
     },
     "execution_count": 55,
     "metadata": {},
     "output_type": "execute_result"
    },
    {
     "data": {
      "image/png": "[encoded data removed]",
      "text/plain": [
       "<Figure size 432x288 with 1 Axes>"
      ]
     },
     "metadata": {
      "needs_background": "light"
     },
     "output_type": "display_data"
    }
   ],
   "source": [
    "plt.title('Receiver Operating Characteristic')\n",
    "plot_roc(basic_lr,'basic_lr',X_test_f,y_test_f)\n",
    "plot_roc(basic_lr_log,'basic_lr_log',X_test_f_log,y_test_f_log)\n",
    "plot_roc(basic_lr_log_std,'basic_lr_log_std',X_test_f_log_std,y_test_f_log)\n",
    "plot_roc(lr_best,'lr_best',X_test_f_log_std,y_test_f_log)\n",
    "\n",
    "plot_roc(basic_lr_nocl,'basic_lr_nocl',X_test_f_nocl,y_test_f_nocl)\n",
    "plot_roc(basic_lr_log_nocl,'basic_lr_log_nocl',X_test_f_log_nocl,y_test_f_log_nocl)\n",
    "plot_roc(basic_lr_log_nocl_std,'basic_lr_log_nocl_std',X_test_f_log_nocl_std,y_test_f_log_nocl)\n",
    "plot_roc(lr_best_nocl,'lr_best_nocl',X_test_f_log_nocl_std,y_test_f_log_nocl)\n",
    "\n",
    "\n",
    "plt.legend(loc = 'lower right')\n",
    "plt.plot([0, 1], [0, 1],'r--')\n",
    "plt.xlim([0, 1])\n",
    "plt.ylim([0, 1])\n",
    "plt.ylabel('True Positive Rate')\n",
    "plt.xlabel('False Positive Rate')"
   ]
  },
  {
   "cell_type": "markdown",
   "metadata": {},
   "source": [
    "We can extract two conclusions from this plot:\n",
    "- First, it is not so clear that the elimination of multicollinear features helps. For the default model, it actually worsens its performance. For the tuned models, the difference is very small.\n",
    "\n",
    "- Considering only the cases that use the full dataset (multicollinear features included): we can see that the three last models (basic one with logged features, basic one with logged/std features, and fine-tuned one) present almost identical ROC curves, being our last model the one whose Area Under the Curve is the highest. This means it is the model which predicts its results with the highest confidence, that is, whenever it predicts the positive class, it is with a probability that is very close to 1, and whenever it predicts the negative class it is with a probability that is very close to 0. It is still curious that the ROC_AUC was optimized instead of the F1-Score for the last model. A possible reason for this is that we used a grid of hyperparameters that was not fine enough."
   ]
  },
  {
   "cell_type": "markdown",
   "metadata": {},
   "source": [
    "### 3.3 Support Vector Machine"
   ]
  },
  {
   "cell_type": "markdown",
   "metadata": {},
   "source": [
    "#### Basic case (No HP tuning, logged/standardized features)"
   ]
  },
  {
   "cell_type": "code",
   "execution_count": 56,
   "metadata": {},
   "outputs": [],
   "source": [
    "# Model already trained (uncomment for retraining)\n",
    "#basic_svc = SVC(probability = True)\n",
    "#basic_svc.fit(X_train_f_log_std, y_train_f_log)\n",
    "basic_svc = joblib.load(models_PATH + 'basic_svc.joblib')"
   ]
  },
  {
   "cell_type": "code",
   "execution_count": 57,
   "metadata": {
    "scrolled": true
   },
   "outputs": [
    {
     "name": "stdout",
     "output_type": "stream",
     "text": [
      "Accuracy:  0.968\n",
      "F1-Score:  0.7974683544303798\n",
      "Confusion matrix, without normalization\n",
      "[[3620   37]\n",
      " [  91  252]]\n"
     ]
    },
    {
     "data": {
      "image/png": "[encoded data removed]",
      "text/plain": [
       "<Figure size 432x288 with 2 Axes>"
      ]
     },
     "metadata": {
      "needs_background": "light"
     },
     "output_type": "display_data"
    }
   ],
   "source": [
    "# Accuracy and F1-Score metrics\n",
    "print('Accuracy: ',accuracy_score(y_test_f_log,basic_svc.predict(X_test_f_log_std)))\n",
    "print('F1-Score: ',f1_score(y_test_f_log,basic_svc.predict(X_test_f_log_std)))\n",
    "cm = confusion_matrix(y_test_f_log,basic_svc.predict(X_test_f_log_std))\n",
    "plot_confusion_matrix(cm, ['No Sale','Sale'],\n",
    "                          normalize=False,\n",
    "                          title='Confusion matrix',\n",
    "                          cmap=plt.cm.Oranges)"
   ]
  },
  {
   "cell_type": "markdown",
   "metadata": {},
   "source": [
    "A default Support Vector Classifier from sklearn (which uses and RBF kernel) provides a result that is almost as good as the fine-tuned logistic regression."
   ]
  },
  {
   "cell_type": "code",
   "execution_count": 31,
   "metadata": {},
   "outputs": [
    {
     "data": {
      "text/plain": [
       "['./models/basic_svc.joblib']"
      ]
     },
     "execution_count": 31,
     "metadata": {},
     "output_type": "execute_result"
    }
   ],
   "source": [
    "# Save model to disk\n",
    "#joblib.dump(basic_svc, models_PATH + 'basic_svc.joblib') "
   ]
  },
  {
   "cell_type": "markdown",
   "metadata": {},
   "source": [
    "#### Support Vector Machine with Hyperparameter Tuning (using logged & standardized data)"
   ]
  },
  {
   "cell_type": "code",
   "execution_count": 58,
   "metadata": {},
   "outputs": [],
   "source": [
    "#svc = SVC(probability = True)"
   ]
  },
  {
   "cell_type": "code",
   "execution_count": 59,
   "metadata": {},
   "outputs": [],
   "source": [
    "# Penalty parameter C\n",
    "C = [0.1, 1, 10, 20, 30]\n",
    "# Kernel coefficient\n",
    "#gamma = [0.0005, 0.001, 0.005, 0.01]\n",
    "gamma = [0.0001, 0.0005, 0.0009]\n",
    "# Hyperparameter space\n",
    "hyperparameters = dict(C=C, gamma=gamma)"
   ]
  },
  {
   "cell_type": "code",
   "execution_count": 61,
   "metadata": {},
   "outputs": [],
   "source": [
    "# Grid search using 5-fold cross validation\n",
    "#svc_gscv = GridSearchCV(svc, hyperparameters, cv=5, verbose=2, n_jobs = 4, scoring = 'f1')"
   ]
  },
  {
   "cell_type": "code",
   "execution_count": 62,
   "metadata": {},
   "outputs": [],
   "source": [
    "# Fit grid search\n",
    "# Model already trained (uncomment for retraining)\n",
    "#svc_best = svc_gscv.fit(X_train_f_log_std, y_train_f_log)\n",
    "svc_best = joblib.load(models_PATH + 'svc_best.joblib')"
   ]
  },
  {
   "cell_type": "code",
   "execution_count": 63,
   "metadata": {},
   "outputs": [
    {
     "name": "stdout",
     "output_type": "stream",
     "text": [
      "Best C: 10\n",
      "Best gamma: 0.0005\n"
     ]
    }
   ],
   "source": [
    "# Best hyperparameters\n",
    "print('Best C:', svc_best.best_estimator_.get_params()['C'])\n",
    "print('Best gamma:', svc_best.best_estimator_.get_params()['gamma'])\n"
   ]
  },
  {
   "cell_type": "code",
   "execution_count": 64,
   "metadata": {},
   "outputs": [
    {
     "name": "stdout",
     "output_type": "stream",
     "text": [
      "Accuracy:  0.97475\n",
      "F1-Score:  0.8481203007518797\n",
      "Confusion matrix, without normalization\n",
      "[[3617   40]\n",
      " [  61  282]]\n"
     ]
    },
    {
     "data": {
      "image/png": "[encoded data removed]",
      "text/plain": [
       "<Figure size 432x288 with 2 Axes>"
      ]
     },
     "metadata": {
      "needs_background": "light"
     },
     "output_type": "display_data"
    }
   ],
   "source": [
    "# Accuracy and F1-Score metrics\n",
    "print('Accuracy: ',accuracy_score(y_test_f_log,svc_best.predict(X_test_f_log_std)))\n",
    "print('F1-Score: ',f1_score(y_test_f_log,svc_best.predict(X_test_f_log_std)))\n",
    "cm = confusion_matrix(y_test_f_log,svc_best.predict(X_test_f_log_std))\n",
    "plot_confusion_matrix(cm, ['No Sale','Sale'],\n",
    "                          normalize=False,\n",
    "                          title='Confusion matrix',\n",
    "                          cmap=plt.cm.Oranges)"
   ]
  },
  {
   "cell_type": "markdown",
   "metadata": {},
   "source": [
    "A fine-tuned SVM (in terms of penalty paratemer C and kernel coefficient gamma only)* surpasses the fine-tuned logistic regression."
   ]
  },
  {
   "cell_type": "code",
   "execution_count": 39,
   "metadata": {},
   "outputs": [
    {
     "data": {
      "text/plain": [
       "['./models/svc_best.joblib']"
      ]
     },
     "execution_count": 39,
     "metadata": {},
     "output_type": "execute_result"
    }
   ],
   "source": [
    "# Save model to disk\n",
    "#joblib.dump(svc_best, models_PATH + 'svc_best.joblib') "
   ]
  },
  {
   "cell_type": "markdown",
   "metadata": {},
   "source": [
    "### 3.4 Random Forest Classifier"
   ]
  },
  {
   "cell_type": "markdown",
   "metadata": {},
   "source": [
    "#### Basic case (No HP tuning)"
   ]
  },
  {
   "cell_type": "code",
   "execution_count": 65,
   "metadata": {},
   "outputs": [],
   "source": [
    "# Model already trained (uncomment for retraining)\n",
    "#basic_rf = RandomForestClassifier()\n",
    "#basic_rf.fit(X_train_f, y_train_f)\n",
    "basic_rf = joblib.load(models_PATH + 'basic_rf.joblib')"
   ]
  },
  {
   "cell_type": "code",
   "execution_count": 66,
   "metadata": {},
   "outputs": [
    {
     "name": "stdout",
     "output_type": "stream",
     "text": [
      "Accuracy:  0.973\n",
      "F1-Score:  0.8241042345276873\n",
      "Confusion matrix, without normalization\n",
      "[[3639   18]\n",
      " [  90  253]]\n"
     ]
    },
    {
     "data": {
      "image/png": "[encoded data removed]",
      "text/plain": [
       "<Figure size 432x288 with 2 Axes>"
      ]
     },
     "metadata": {
      "needs_background": "light"
     },
     "output_type": "display_data"
    }
   ],
   "source": [
    "# Accuracy and F1-Score metrics\n",
    "print('Accuracy: ',accuracy_score(y_test_f,basic_rf.predict(X_test_f)))\n",
    "print('F1-Score: ',f1_score(y_test_f,basic_rf.predict(X_test_f)))\n",
    "cm = confusion_matrix(y_test_f,basic_rf.predict(X_test_f))\n",
    "plot_confusion_matrix(cm, ['No Sale','Sale'],\n",
    "                          normalize=False,\n",
    "                          title='Confusion matrix',\n",
    "                          cmap=plt.cm.Oranges)"
   ]
  },
  {
   "cell_type": "markdown",
   "metadata": {},
   "source": [
    "The random forest classifier with default parameters provides better performance than the fine-tuned logistic regression, and it is pretty close to the fine-tuned SVM Classifier."
   ]
  },
  {
   "cell_type": "code",
   "execution_count": null,
   "metadata": {},
   "outputs": [],
   "source": [
    "# Save model to disk\n",
    "#joblib.dump(basic_rf, models_PATH + 'basic_rf.joblib') "
   ]
  },
  {
   "cell_type": "markdown",
   "metadata": {},
   "source": [
    "#### Random Forest with Hyperparameter Tuning"
   ]
  },
  {
   "cell_type": "code",
   "execution_count": null,
   "metadata": {},
   "outputs": [],
   "source": [
    "#rf = RandomForestClassifier()"
   ]
  },
  {
   "cell_type": "code",
   "execution_count": null,
   "metadata": {},
   "outputs": [],
   "source": [
    "# Number of trees in random forest\n",
    "n_estimators = [100,200,300]\n",
    "# Maximum number of levels in tree\n",
    "max_depth = [10,20,30]\n",
    "max_depth.append(None)\n",
    "# Minimum number of samples required to split a node\n",
    "min_samples_split = [5, 10, 20, 30]\n",
    "# Minimum number of samples required at each leaf node\n",
    "min_samples_leaf = [1, 2, 4]\n",
    "# Method of selecting samples for training each tree\n",
    "bootstrap = [True, False]\n",
    "# Create hyperparameter space\n",
    "hyperparameters = dict(n_estimators=n_estimators,\n",
    "                       max_depth=max_depth,\n",
    "                       min_samples_split=min_samples_split,\n",
    "                       min_samples_leaf=min_samples_leaf,\n",
    "                       bootstrap=bootstrap)"
   ]
  },
  {
   "cell_type": "code",
   "execution_count": null,
   "metadata": {},
   "outputs": [],
   "source": [
    "# Grid search using 3-fold cross validation\n",
    "#rf_gscv = GridSearchCV(rf, hyperparameters, cv=3, verbose=2, n_jobs = 4, scoring = 'f1')"
   ]
  },
  {
   "cell_type": "code",
   "execution_count": 67,
   "metadata": {},
   "outputs": [],
   "source": [
    "# Fit grid search\n",
    "# Model already trained (uncomment for retraining)\n",
    "#rf_best = rf_gscv.fit(X_train_f, y_train_f)\n",
    "rf_best = joblib.load(models_PATH + 'rf_best.joblib')"
   ]
  },
  {
   "cell_type": "code",
   "execution_count": 68,
   "metadata": {},
   "outputs": [
    {
     "name": "stdout",
     "output_type": "stream",
     "text": [
      "Best n_estimators: 100\n",
      "Best max_depth: None\n",
      "Best min_samples_split: 10\n",
      "Best min_samples_leaf: 1\n",
      "Best bootstrap: False\n"
     ]
    }
   ],
   "source": [
    "# Best hyperparameters\n",
    "print('Best n_estimators:', rf_best.best_estimator_.get_params()['n_estimators'])\n",
    "print('Best max_depth:', rf_best.best_estimator_.get_params()['max_depth'])\n",
    "print('Best min_samples_split:', rf_best.best_estimator_.get_params()['min_samples_split'])\n",
    "print('Best min_samples_leaf:', rf_best.best_estimator_.get_params()['min_samples_leaf'])\n",
    "print('Best bootstrap:', rf_best.best_estimator_.get_params()['bootstrap'])"
   ]
  },
  {
   "cell_type": "code",
   "execution_count": 69,
   "metadata": {},
   "outputs": [
    {
     "name": "stdout",
     "output_type": "stream",
     "text": [
      "Accuracy:  0.976\n",
      "F1-Score:  0.8451612903225806\n"
     ]
    }
   ],
   "source": [
    "# Accuracy and F1-Score metrics\n",
    "print('Accuracy: ',accuracy_score(y_test_f,rf_best.predict(X_test_f)))\n",
    "print('F1-Score: ',f1_score(y_test_f,rf_best.predict(X_test_f)))"
   ]
  },
  {
   "cell_type": "code",
   "execution_count": 70,
   "metadata": {},
   "outputs": [
    {
     "name": "stdout",
     "output_type": "stream",
     "text": [
      "Confusion matrix, without normalization\n",
      "[[3642   15]\n",
      " [  81  262]]\n"
     ]
    },
    {
     "data": {
      "image/png": "[encoded data removed]",
      "text/plain": [
       "<Figure size 432x288 with 2 Axes>"
      ]
     },
     "metadata": {
      "needs_background": "light"
     },
     "output_type": "display_data"
    }
   ],
   "source": [
    "cm = confusion_matrix(y_test_f,rf_best.predict(X_test_f))\n",
    "plot_confusion_matrix(cm, ['No Sale','Sale'],\n",
    "                          normalize=False,\n",
    "                          title='Confusion matrix',\n",
    "                          cmap=plt.cm.Oranges)"
   ]
  },
  {
   "cell_type": "markdown",
   "metadata": {},
   "source": [
    "The fine-tuned RF provides a F1 that is close but not as good as the SVC's."
   ]
  },
  {
   "cell_type": "code",
   "execution_count": 71,
   "metadata": {},
   "outputs": [],
   "source": [
    "# Save model to disk\n",
    "#joblib.dump(rf_best, models_PATH + 'rf_best.joblib') "
   ]
  },
  {
   "cell_type": "code",
   "execution_count": 72,
   "metadata": {},
   "outputs": [
    {
     "data": {
      "text/plain": [
       "Text(0.5, 0, 'False Positive Rate')"
      ]
     },
     "execution_count": 72,
     "metadata": {},
     "output_type": "execute_result"
    },
    {
     "data": {
      "image/png": "[encoded data removed]",
      "text/plain": [
       "<Figure size 432x288 with 1 Axes>"
      ]
     },
     "metadata": {
      "needs_background": "light"
     },
     "output_type": "display_data"
    }
   ],
   "source": [
    "plt.title('Receiver Operating Characteristic')\n",
    "plot_roc(basic_rf,'basic_rf',X_test_f,y_test_f)\n",
    "plot_roc(rf_best,'rf_best',X_test_f,y_test_f)\n",
    "plt.legend(loc = 'lower right')\n",
    "plt.plot([0, 1], [0, 1],'r--')\n",
    "plt.xlim([0, 1])\n",
    "plt.ylim([0, 1])\n",
    "plt.ylabel('True Positive Rate')\n",
    "plt.xlabel('False Positive Rate')"
   ]
  },
  {
   "cell_type": "markdown",
   "metadata": {},
   "source": [
    "In terms of ROC AUC, the fine-tuned model behaves better that the default one."
   ]
  },
  {
   "cell_type": "markdown",
   "metadata": {},
   "source": [
    "### 3.5 XGBoost"
   ]
  },
  {
   "cell_type": "markdown",
   "metadata": {},
   "source": [
    "#### Basic case (No HP tuning)"
   ]
  },
  {
   "cell_type": "code",
   "execution_count": 73,
   "metadata": {},
   "outputs": [],
   "source": [
    "# Model already trained (uncomment for retraining)\n",
    "#basic_xgb = XGBClassifier()\n",
    "#basic_xgb.fit(X_train_f, y_train_f)\n",
    "basic_xgb = joblib.load(models_PATH + 'basic_xgb.joblib')"
   ]
  },
  {
   "cell_type": "code",
   "execution_count": 74,
   "metadata": {},
   "outputs": [
    {
     "name": "stdout",
     "output_type": "stream",
     "text": [
      "Accuracy:  0.977\n",
      "F1-Score:  0.8520900321543408\n",
      "Confusion matrix, without normalization\n",
      "[[3643   14]\n",
      " [  78  265]]\n"
     ]
    },
    {
     "data": {
      "image/png": "[encoded data removed]",
      "text/plain": [
       "<Figure size 432x288 with 2 Axes>"
      ]
     },
     "metadata": {
      "needs_background": "light"
     },
     "output_type": "display_data"
    }
   ],
   "source": [
    "# Accuracy and F1-Score metrics\n",
    "print('Accuracy: ',accuracy_score(y_test_f,basic_xgb.predict(X_test_f)))\n",
    "print('F1-Score: ',f1_score(y_test_f,basic_xgb.predict(X_test_f)))\n",
    "cm = confusion_matrix(y_test_f,basic_xgb.predict(X_test_f))\n",
    "plot_confusion_matrix(cm, ['No Sale','Sale'],\n",
    "                          normalize=False,\n",
    "                          title='Confusion matrix',\n",
    "                          cmap=plt.cm.Oranges)"
   ]
  },
  {
   "cell_type": "code",
   "execution_count": null,
   "metadata": {},
   "outputs": [],
   "source": [
    "# Save model to disk\n",
    "#joblib.dump(basic_xgb, models_PATH + 'basic_xgb.joblib') "
   ]
  },
  {
   "cell_type": "markdown",
   "metadata": {},
   "source": [
    "A default XGBoost classifier (tree-based) outperforms the random forest algorithm (both default and fine-tuned) for this task."
   ]
  },
  {
   "cell_type": "markdown",
   "metadata": {},
   "source": [
    "#### XGB Classifier with Hyperparameter Tuning"
   ]
  },
  {
   "cell_type": "code",
   "execution_count": null,
   "metadata": {},
   "outputs": [],
   "source": [
    "#xgb = XGBClassifier()"
   ]
  },
  {
   "cell_type": "code",
   "execution_count": null,
   "metadata": {},
   "outputs": [],
   "source": [
    "# Number of trees in random forest\n",
    "n_estimators = [100,200,300]\n",
    "learning_rate = [0.01,0.1,0.5,1]\n",
    "subsample = [0.3,0.5,0.9]\n",
    "max_depth = [10,20,30]\n",
    "colsample_bytree = [0.5,0.7,0.9]\n",
    "min_child_weight = [1, 2, 3, 4]\n",
    "\n",
    "hyperparameters = dict(n_estimators=n_estimators,\n",
    "                       learning_rate=learning_rate,\n",
    "                       subsample=subsample,\n",
    "                       max_depth=max_depth,\n",
    "                       colsample_bytree=colsample_bytree,\n",
    "                       min_child_weight=min_child_weight)"
   ]
  },
  {
   "cell_type": "code",
   "execution_count": null,
   "metadata": {},
   "outputs": [],
   "source": [
    "# Grid search using 3-fold cross validation\n",
    "#xgb_gscv = GridSearchCV(xgb, hyperparameters, cv=3, verbose=2, n_jobs = -1, scoring = 'f1')"
   ]
  },
  {
   "cell_type": "code",
   "execution_count": 76,
   "metadata": {},
   "outputs": [],
   "source": [
    "# Fit grid search\n",
    "# Model already trained (uncomment for retraining)\n",
    "#xgb_best = xgb_gscv.fit(X_train_f, y_train_f)\n",
    "xgb_best = joblib.load(models_PATH + 'xgb_best.joblib')"
   ]
  },
  {
   "cell_type": "code",
   "execution_count": 77,
   "metadata": {},
   "outputs": [
    {
     "name": "stdout",
     "output_type": "stream",
     "text": [
      "Best n_estimators: 200\n",
      "Best learning_rate: 0.1\n",
      "Best subsample: 0.3\n",
      "Best max_depth: 20\n",
      "Best colsample_bytree: 0.5\n",
      "Best min_child_weight: 2\n"
     ]
    }
   ],
   "source": [
    "# Best hyperparameters\n",
    "print('Best n_estimators:', xgb_best.best_estimator_.get_params()['n_estimators'])\n",
    "print('Best learning_rate:', xgb_best.best_estimator_.get_params()['learning_rate'])\n",
    "print('Best subsample:', xgb_best.best_estimator_.get_params()['subsample'])\n",
    "print('Best max_depth:', xgb_best.best_estimator_.get_params()['max_depth'])\n",
    "print('Best colsample_bytree:', xgb_best.best_estimator_.get_params()['colsample_bytree'])\n",
    "print('Best min_child_weight:', xgb_best.best_estimator_.get_params()['min_child_weight'])"
   ]
  },
  {
   "cell_type": "code",
   "execution_count": 78,
   "metadata": {},
   "outputs": [
    {
     "name": "stdout",
     "output_type": "stream",
     "text": [
      "Accuracy:  0.97525\n",
      "F1-Score:  0.8416\n",
      "Confusion matrix, without normalization\n",
      "[[3638   19]\n",
      " [  80  263]]\n"
     ]
    },
    {
     "data": {
      "image/png": "[encoded data removed]",
      "text/plain": [
       "<Figure size 432x288 with 2 Axes>"
      ]
     },
     "metadata": {
      "needs_background": "light"
     },
     "output_type": "display_data"
    }
   ],
   "source": [
    "# Accuracy and F1-Score metrics\n",
    "print('Accuracy: ',accuracy_score(y_test_f,xgb_best.predict(X_test_f)))\n",
    "print('F1-Score: ',f1_score(y_test_f,xgb_best.predict(X_test_f)))\n",
    "cm = confusion_matrix(y_test_f,xgb_best.predict(X_test_f))\n",
    "plot_confusion_matrix(cm, ['No Sale','Sale'],\n",
    "                          normalize=False,\n",
    "                          title='Confusion matrix',\n",
    "                          cmap=plt.cm.Oranges)"
   ]
  },
  {
   "cell_type": "code",
   "execution_count": null,
   "metadata": {},
   "outputs": [],
   "source": [
    "# Save model to disk\n",
    "#joblib.dump(xgb_best, models_PATH + 'xgb_best.joblib') "
   ]
  },
  {
   "cell_type": "markdown",
   "metadata": {},
   "source": [
    "After some trials, we get a fine-tuned XGB model that performs worse than the default one in terms of F-1 score. There is randomess in the generation process of the weak learners, so counter-intuitive cases like this can happen."
   ]
  },
  {
   "cell_type": "markdown",
   "metadata": {},
   "source": [
    "### 3.6 Neural Network"
   ]
  },
  {
   "cell_type": "code",
   "execution_count": 56,
   "metadata": {},
   "outputs": [],
   "source": [
    "def create_nn_clf(X_train, y_train, X_test, y_test, model_name):\n",
    "    batch_size = 1024\n",
    "    num_classes = 2\n",
    "    epochs = 100\n",
    "    input_dim = X_train.shape[1]\n",
    "    \n",
    "    y_train_nn = keras.utils.to_categorical(y_train, num_classes)\n",
    "    y_test_nn = keras.utils.to_categorical(y_test, num_classes)\n",
    "    \n",
    "    model = Sequential()\n",
    "    model.add(Dense(1024, input_dim=input_dim, activation='relu'))\n",
    "    model.add(Dense(num_classes, activation='softmax'))\n",
    "\n",
    "    early_stop = EarlyStopping(monitor='val_acc',patience = 4)\n",
    "\n",
    "    model.compile(loss='binary_crossentropy',\n",
    "                  optimizer='adam',\n",
    "                  metrics=['accuracy'])\n",
    "    \n",
    "    model.fit(X_train, y_train_nn,\n",
    "          batch_size=batch_size,\n",
    "          epochs=epochs,\n",
    "          verbose=1,\n",
    "          validation_data=(X_test, y_test_nn),\n",
    "          callbacks=[early_stop])\n",
    "    \n",
    "    score = model.evaluate(X_test, y_test_nn, verbose=0)\n",
    "    print('Test loss:', score[0])\n",
    "    print('Test accuracy:', score[1])\n",
    "    \n",
    "    print('Accuracy: ',accuracy_score(y_test,model.predict_classes(X_test)))\n",
    "    print('F1-Score: ',f1_score(y_test,model.predict_classes(X_test)))\n",
    "    cm = confusion_matrix(y_test,model.predict_classes(X_test))\n",
    "    plot_confusion_matrix(cm, ['No Sale','Sale'],\n",
    "                                normalize=False,\n",
    "                                title='Confusion matrix',\n",
    "                                cmap=plt.cm.Oranges)\n",
    "    \n",
    "    # Save model to disk\n",
    "    model.save(models_PATH + model_name + '.h5')\n",
    "    return model"
   ]
  },
  {
   "cell_type": "code",
   "execution_count": 57,
   "metadata": {},
   "outputs": [
    {
     "name": "stdout",
     "output_type": "stream",
     "text": [
      "Train on 16000 samples, validate on 4000 samples\n",
      "Epoch 1/100\n",
      "16000/16000 [==============================] - 1s 51us/step - loss: 0.3148 - acc: 0.9058 - val_loss: 0.1900 - val_acc: 0.9280\n",
      "Epoch 2/100\n",
      "16000/16000 [==============================] - 0s 12us/step - loss: 0.1727 - acc: 0.9348 - val_loss: 0.1563 - val_acc: 0.9445\n",
      "Epoch 3/100\n",
      "16000/16000 [==============================] - 0s 12us/step - loss: 0.1477 - acc: 0.9446 - val_loss: 0.1423 - val_acc: 0.9492\n",
      "Epoch 4/100\n",
      "16000/16000 [==============================] - 0s 14us/step - loss: 0.1320 - acc: 0.9482 - val_loss: 0.1294 - val_acc: 0.9505\n",
      "Epoch 5/100\n",
      "16000/16000 [==============================] - 0s 13us/step - loss: 0.1192 - acc: 0.9516 - val_loss: 0.1199 - val_acc: 0.9542\n",
      "Epoch 6/100\n",
      "16000/16000 [==============================] - 0s 12us/step - loss: 0.1095 - acc: 0.9544 - val_loss: 0.1123 - val_acc: 0.9570\n",
      "Epoch 7/100\n",
      "16000/16000 [==============================] - 0s 14us/step - loss: 0.1006 - acc: 0.9579 - val_loss: 0.1056 - val_acc: 0.9580\n",
      "Epoch 8/100\n",
      "16000/16000 [==============================] - 0s 14us/step - loss: 0.0934 - acc: 0.9619 - val_loss: 0.1004 - val_acc: 0.9620\n",
      "Epoch 9/100\n",
      "16000/16000 [==============================] - 0s 12us/step - loss: 0.0873 - acc: 0.9663 - val_loss: 0.0956 - val_acc: 0.9660\n",
      "Epoch 10/100\n",
      "16000/16000 [==============================] - 0s 12us/step - loss: 0.0824 - acc: 0.9695 - val_loss: 0.0924 - val_acc: 0.9665\n",
      "Epoch 11/100\n",
      "16000/16000 [==============================] - 0s 15us/step - loss: 0.0777 - acc: 0.9713 - val_loss: 0.0893 - val_acc: 0.9690\n",
      "Epoch 12/100\n",
      "16000/16000 [==============================] - 0s 13us/step - loss: 0.0727 - acc: 0.9729 - val_loss: 0.0859 - val_acc: 0.9693\n",
      "Epoch 13/100\n",
      "16000/16000 [==============================] - 0s 13us/step - loss: 0.0689 - acc: 0.9753 - val_loss: 0.0829 - val_acc: 0.9710\n",
      "Epoch 14/100\n",
      "16000/16000 [==============================] - 0s 15us/step - loss: 0.0656 - acc: 0.9766 - val_loss: 0.0803 - val_acc: 0.9730\n",
      "Epoch 15/100\n",
      "16000/16000 [==============================] - 0s 12us/step - loss: 0.0625 - acc: 0.9775 - val_loss: 0.0794 - val_acc: 0.9725\n",
      "Epoch 16/100\n",
      "16000/16000 [==============================] - 0s 12us/step - loss: 0.0596 - acc: 0.9788 - val_loss: 0.0769 - val_acc: 0.9745\n",
      "Epoch 17/100\n",
      "16000/16000 [==============================] - 0s 13us/step - loss: 0.0582 - acc: 0.9789 - val_loss: 0.0758 - val_acc: 0.9742\n",
      "Epoch 18/100\n",
      "16000/16000 [==============================] - 0s 12us/step - loss: 0.0553 - acc: 0.9794 - val_loss: 0.0746 - val_acc: 0.9752\n",
      "Epoch 19/100\n",
      "16000/16000 [==============================] - 0s 14us/step - loss: 0.0532 - acc: 0.9809 - val_loss: 0.0749 - val_acc: 0.9750\n",
      "Epoch 20/100\n",
      "16000/16000 [==============================] - 0s 13us/step - loss: 0.0511 - acc: 0.9813 - val_loss: 0.0732 - val_acc: 0.9755\n",
      "Epoch 21/100\n",
      "16000/16000 [==============================] - 0s 12us/step - loss: 0.0497 - acc: 0.9819 - val_loss: 0.0734 - val_acc: 0.9747\n",
      "Epoch 22/100\n",
      "16000/16000 [==============================] - 0s 14us/step - loss: 0.0482 - acc: 0.9821 - val_loss: 0.0729 - val_acc: 0.9760\n",
      "Epoch 23/100\n",
      "16000/16000 [==============================] - 0s 13us/step - loss: 0.0470 - acc: 0.9827 - val_loss: 0.0727 - val_acc: 0.9755\n",
      "Epoch 24/100\n",
      "16000/16000 [==============================] - 0s 13us/step - loss: 0.0461 - acc: 0.9834 - val_loss: 0.0725 - val_acc: 0.9757\n",
      "Epoch 25/100\n",
      "16000/16000 [==============================] - 0s 13us/step - loss: 0.0454 - acc: 0.9835 - val_loss: 0.0725 - val_acc: 0.9742\n",
      "Epoch 26/100\n",
      "16000/16000 [==============================] - 0s 13us/step - loss: 0.0442 - acc: 0.9849 - val_loss: 0.0718 - val_acc: 0.9755\n",
      "Test loss: 0.07176799410395324\n",
      "Test accuracy: 0.9755\n",
      "Accuracy:  0.9755\n",
      "F1-Score:  0.8524096385542168\n",
      "Confusion matrix, without normalization\n",
      "[[3619   38]\n",
      " [  60  283]]\n"
     ]
    },
    {
     "data": {
      "image/png": "[encoded data removed]",
      "text/plain": [
       "<Figure size 432x288 with 2 Axes>"
      ]
     },
     "metadata": {
      "needs_background": "light"
     },
     "output_type": "display_data"
    }
   ],
   "source": [
    "nn_clf_log_std = create_nn_clf(X_train_f_log_std, y_train_f, X_test_f_log_std, y_test_f, 'nn_clf_log_std')"
   ]
  },
  {
   "cell_type": "markdown",
   "metadata": {},
   "source": [
    "A very simple neural network (1 hidden layer with 1024 nodes) provides better performance than any of the other models, without any grid search of hyperparameters, and very low computation time (no GPU acceleration)."
   ]
  },
  {
   "cell_type": "markdown",
   "metadata": {},
   "source": [
    "## 4. Chosen Model (Logistic Regression)"
   ]
  },
  {
   "cell_type": "code",
   "execution_count": 60,
   "metadata": {},
   "outputs": [],
   "source": [
    "lr_chosen = LogisticRegression(penalty='l1',C=0.19)"
   ]
  },
  {
   "cell_type": "code",
   "execution_count": 61,
   "metadata": {},
   "outputs": [
    {
     "name": "stderr",
     "output_type": "stream",
     "text": [
      "C:\\Users\\PcCom\\Anaconda3\\envs\\ml_env\\lib\\site-packages\\sklearn\\linear_model\\logistic.py:432: FutureWarning: Default solver will be changed to 'lbfgs' in 0.22. Specify a solver to silence this warning.\n",
      "  FutureWarning)\n"
     ]
    },
    {
     "name": "stdout",
     "output_type": "stream",
     "text": [
      "Accuracy:  0.97025\n",
      "F1-Score:  0.818320610687023\n",
      "Confusion matrix, without normalization\n",
      "[[3613   44]\n",
      " [  75  268]]\n"
     ]
    },
    {
     "data": {
      "text/plain": [
       "['./models/lr_chosen.joblib']"
      ]
     },
     "execution_count": 61,
     "metadata": {},
     "output_type": "execute_result"
    },
    {
     "data": {
      "image/png": "[encoded data removed]",
      "text/plain": [
       "<Figure size 432x288 with 2 Axes>"
      ]
     },
     "metadata": {
      "needs_background": "light"
     },
     "output_type": "display_data"
    }
   ],
   "source": [
    "lr_chosen.fit(X_train_f_log_std, y_train_f_log)\n",
    "print('Accuracy: ',accuracy_score(y_test_f_log,lr_chosen.predict(X_test_f_log_std)))\n",
    "print('F1-Score: ',f1_score(y_test_f_log,lr_chosen.predict(X_test_f_log_std)))\n",
    "cm = confusion_matrix(y_test_f_log,lr_chosen.predict(X_test_f_log_std))\n",
    "plot_confusion_matrix(cm, ['No Sale','Sale'],\n",
    "                            normalize=False,\n",
    "                            title='Confusion matrix',\n",
    "                            cmap=plt.cm.Oranges)\n",
    "# Save model to disk\n",
    "joblib.dump(lr_chosen, models_PATH + 'lr_chosen' + '.joblib')"
   ]
  },
  {
   "cell_type": "code",
   "execution_count": null,
   "metadata": {},
   "outputs": [],
   "source": []
  }
 ],
 "metadata": {
  "kernelspec": {
   "display_name": "Python 3",
   "language": "python",
   "name": "python3"
  },
  "language_info": {
   "codemirror_mode": {
    "name": "ipython",
    "version": 3
   },
   "file_extension": ".py",
   "mimetype": "text/x-python",
   "name": "python",
   "nbconvert_exporter": "python",
   "pygments_lexer": "ipython3",
   "version": "3.6.7"
  }
 },
 "nbformat": 4,
 "nbformat_minor": 2
}
