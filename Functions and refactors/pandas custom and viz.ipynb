{
 "cells": [
  {
   "cell_type": "markdown",
   "metadata": {},
   "source": [
    "Pandas Dataframe Custom Info Retrieval\n",
    "\n",
    "It returns a DF containing info about all columns in the input dataframe, namely:\n",
    "- Column name\n",
    "- Missing Data %\n",
    "- Num of unique values\n",
    "- Data type\n",
    "- \"Feature type\" --> Needs to be taken with a pinch of salt (very basic criteria)"
   ]
  },
  {
   "cell_type": "code",
   "execution_count": null,
   "metadata": {},
   "outputs": [],
   "source": [
    "def df_custom_info(df, disc_threshold = 5):\n",
    "    \n",
    "    percent_missing = df.isnull().sum() * 100 / len(df)\n",
    "    \n",
    "    info_df = pd.DataFrame({\"Column Name\": df.columns,\n",
    "                            \"Missing Data Percentage\": percent_missing})\n",
    "    \n",
    "    threshold_num = np.ceil(df.shape[0] * (disc_threshold / 100))\n",
    "    unique_val_counts = []\n",
    "    for col in df.columns:\n",
    "        unique_val_counts.append(len(list(df[col].value_counts().index)))    \n",
    "    \n",
    "    info_df['Num. Unique Values'] = unique_val_counts\n",
    "    \n",
    "    data_types = []\n",
    "    for col in df.columns:\n",
    "        data_types.append(df[col].dtype.name)   \n",
    "    \n",
    "    info_df['Data Type'] = data_types\n",
    "    \n",
    "    info_df['Feature Type'] = ''\n",
    "    info_df.loc[info_df['Num. Unique Values'] > threshold_num,'Feature Type'] = 'Continuous'\n",
    "    info_df.loc[info_df['Num. Unique Values'] < threshold_num,'Feature Type'] = 'Discrete'\n",
    "    info_df.loc[info_df['Num. Unique Values'] == 2,'Feature Type'] = 'Binary'\n",
    "    \n",
    "    info_df.sort_values(\"Missing Data Percentage\", ascending=False, inplace=True)\n",
    "    \n",
    "    return info_df "
   ]
  },
  {
   "cell_type": "markdown",
   "metadata": {},
   "source": [
    "------"
   ]
  },
  {
   "cell_type": "markdown",
   "metadata": {},
   "source": [
    "Prints a heatmap with the statistical correlation between all columns in a df\n",
    "\n",
    "The input is actually the previously computed correlation matrix (df.corr())"
   ]
  },
  {
   "cell_type": "code",
   "execution_count": 1,
   "metadata": {},
   "outputs": [],
   "source": [
    "def plot_corr_heatmap(corr_mat,figsize=(16,16)):\n",
    "    ''' Takes a correlation matrix (from Pandas) and returns\n",
    "    a heatmap based on its values. '''\n",
    "    # Mask for concealing upper triangle (redundant info)\n",
    "    mask = np.zeros_like(corr_mat, dtype=np.bool)\n",
    "    mask[np.triu_indices_from(mask)] = True\n",
    "    f, ax = plt.subplots(figsize=figsize)\n",
    "    _ = sns.heatmap(corr_mat, mask=mask, cmap='bwr',annot = True, fmt='2.2f', center=0,\n",
    "                square=True, linewidths=.5, cbar_kws={\"shrink\": .6})"
   ]
  },
  {
   "cell_type": "markdown",
   "metadata": {},
   "source": [
    "-----"
   ]
  },
  {
   "cell_type": "code",
   "execution_count": null,
   "metadata": {},
   "outputs": [],
   "source": []
  }
 ],
 "metadata": {
  "kernelspec": {
   "display_name": "Python 3",
   "language": "python",
   "name": "python3"
  },
  "language_info": {
   "codemirror_mode": {
    "name": "ipython",
    "version": 3
   },
   "file_extension": ".py",
   "mimetype": "text/x-python",
   "name": "python",
   "nbconvert_exporter": "python",
   "pygments_lexer": "ipython3",
   "version": "3.6.7"
  }
 },
 "nbformat": 4,
 "nbformat_minor": 2
}
